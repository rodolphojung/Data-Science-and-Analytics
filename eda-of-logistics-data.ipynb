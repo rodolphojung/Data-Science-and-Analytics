{
 "cells": [
  {
   "cell_type": "markdown",
   "id": "987994a4",
   "metadata": {
    "_cell_guid": "b1076dfc-b9ad-4769-8c92-a6c4dae69d19",
    "_uuid": "8f2839f25d086af736a60e9eeb907d3b93b6e0e5",
    "papermill": {
     "duration": 0.008623,
     "end_time": "2023-03-07T19:01:59.561651",
     "exception": false,
     "start_time": "2023-03-07T19:01:59.553028",
     "status": "completed"
    },
    "tags": []
   },
   "source": [
    "## Author: Rodolpho Justino\n",
    "### Data Analyst / Data Scientist\n",
    "\n",
    "This is an exploratory data analysis of a logistics database from a company called loggi to find some insights about the dataset, the data is available [here](https://www.kaggle.com/datasets/franklinposso/loggi-deliveries)\n",
    "\n",
    "\n",
    "The first step is to load the libraries"
   ]
  },
  {
   "cell_type": "code",
   "execution_count": 1,
   "id": "a0539ca8",
   "metadata": {
    "execution": {
     "iopub.execute_input": "2023-03-07T19:01:59.579393Z",
     "iopub.status.busy": "2023-03-07T19:01:59.578454Z",
     "iopub.status.idle": "2023-03-07T19:02:01.141923Z",
     "shell.execute_reply": "2023-03-07T19:02:01.140761Z"
    },
    "papermill": {
     "duration": 1.575452,
     "end_time": "2023-03-07T19:02:01.144728",
     "exception": false,
     "start_time": "2023-03-07T19:01:59.569276",
     "status": "completed"
    },
    "tags": []
   },
   "outputs": [],
   "source": [
    "import pandas as pd\n",
    "import numpy as np\n",
    "import json\n",
    "import geopy\n",
    "from geopy.geocoders import Nominatim\n",
    "from geopy.extra.rate_limiter import RateLimiter\n",
    "from numpy import random\n",
    "import matplotlib.pyplot as plt\n",
    "import seaborn as sns\n",
    "from scipy.stats import pearsonr\n",
    "from scipy import stats\n",
    "import sklearn as skl"
   ]
  },
  {
   "cell_type": "code",
   "execution_count": 2,
   "id": "eca29aea",
   "metadata": {
    "execution": {
     "iopub.execute_input": "2023-03-07T19:02:01.162447Z",
     "iopub.status.busy": "2023-03-07T19:02:01.161771Z",
     "iopub.status.idle": "2023-03-07T19:02:03.167579Z",
     "shell.execute_reply": "2023-03-07T19:02:03.166044Z"
    },
    "papermill": {
     "duration": 2.017891,
     "end_time": "2023-03-07T19:02:03.170382",
     "exception": false,
     "start_time": "2023-03-07T19:02:01.152491",
     "status": "completed"
    },
    "tags": []
   },
   "outputs": [],
   "source": [
    "!wget -q \"https://raw.githubusercontent.com/andre-marcos-perez/ebac-course-utils/main/dataset/deliveries.json\" -O deliveries.json "
   ]
  },
  {
   "cell_type": "code",
   "execution_count": 3,
   "id": "4d886692",
   "metadata": {
    "execution": {
     "iopub.execute_input": "2023-03-07T19:02:03.188865Z",
     "iopub.status.busy": "2023-03-07T19:02:03.188442Z",
     "iopub.status.idle": "2023-03-07T19:02:05.980249Z",
     "shell.execute_reply": "2023-03-07T19:02:05.978964Z"
    },
    "papermill": {
     "duration": 2.805154,
     "end_time": "2023-03-07T19:02:05.983477",
     "exception": false,
     "start_time": "2023-03-07T19:02:03.178323",
     "status": "completed"
    },
    "tags": []
   },
   "outputs": [],
   "source": [
    "with open('deliveries.json', mode='r', encoding = 'utf8') as file:\n",
    "    data = json.load(file)"
   ]
  },
  {
   "cell_type": "code",
   "execution_count": 4,
   "id": "8aac3c61",
   "metadata": {
    "execution": {
     "iopub.execute_input": "2023-03-07T19:02:06.000912Z",
     "iopub.status.busy": "2023-03-07T19:02:06.000493Z",
     "iopub.status.idle": "2023-03-07T19:02:06.010535Z",
     "shell.execute_reply": "2023-03-07T19:02:06.009215Z"
    },
    "papermill": {
     "duration": 0.022116,
     "end_time": "2023-03-07T19:02:06.013412",
     "exception": false,
     "start_time": "2023-03-07T19:02:05.991296",
     "status": "completed"
    },
    "tags": []
   },
   "outputs": [
    {
     "data": {
      "text/plain": [
       "199"
      ]
     },
     "execution_count": 4,
     "metadata": {},
     "output_type": "execute_result"
    }
   ],
   "source": [
    "len(data)"
   ]
  },
  {
   "cell_type": "code",
   "execution_count": 5,
   "id": "987c82b6",
   "metadata": {
    "execution": {
     "iopub.execute_input": "2023-03-07T19:02:06.031043Z",
     "iopub.status.busy": "2023-03-07T19:02:06.030627Z",
     "iopub.status.idle": "2023-03-07T19:02:06.041471Z",
     "shell.execute_reply": "2023-03-07T19:02:06.040176Z"
    },
    "papermill": {
     "duration": 0.02267,
     "end_time": "2023-03-07T19:02:06.044008",
     "exception": false,
     "start_time": "2023-03-07T19:02:06.021338",
     "status": "completed"
    },
    "tags": []
   },
   "outputs": [],
   "source": [
    "df = pd.DataFrame(data)"
   ]
  },
  {
   "cell_type": "code",
   "execution_count": 6,
   "id": "0be58349",
   "metadata": {
    "execution": {
     "iopub.execute_input": "2023-03-07T19:02:06.062454Z",
     "iopub.status.busy": "2023-03-07T19:02:06.061546Z",
     "iopub.status.idle": "2023-03-07T19:02:06.385763Z",
     "shell.execute_reply": "2023-03-07T19:02:06.384460Z"
    },
    "papermill": {
     "duration": 0.336649,
     "end_time": "2023-03-07T19:02:06.388629",
     "exception": false,
     "start_time": "2023-03-07T19:02:06.051980",
     "status": "completed"
    },
    "tags": []
   },
   "outputs": [
    {
     "data": {
      "text/html": [
       "<div>\n",
       "<style scoped>\n",
       "    .dataframe tbody tr th:only-of-type {\n",
       "        vertical-align: middle;\n",
       "    }\n",
       "\n",
       "    .dataframe tbody tr th {\n",
       "        vertical-align: top;\n",
       "    }\n",
       "\n",
       "    .dataframe thead th {\n",
       "        text-align: right;\n",
       "    }\n",
       "</style>\n",
       "<table border=\"1\" class=\"dataframe\">\n",
       "  <thead>\n",
       "    <tr style=\"text-align: right;\">\n",
       "      <th></th>\n",
       "      <th>name</th>\n",
       "      <th>region</th>\n",
       "      <th>origin</th>\n",
       "      <th>vehicle_capacity</th>\n",
       "      <th>deliveries</th>\n",
       "    </tr>\n",
       "  </thead>\n",
       "  <tbody>\n",
       "    <tr>\n",
       "      <th>0</th>\n",
       "      <td>cvrp-2-df-33</td>\n",
       "      <td>df-2</td>\n",
       "      <td>{'lng': -48.05498915846707, 'lat': -15.8381445...</td>\n",
       "      <td>180</td>\n",
       "      <td>[{'id': '313483a19d2f8d65cd5024c8d215cfbd', 'p...</td>\n",
       "    </tr>\n",
       "    <tr>\n",
       "      <th>1</th>\n",
       "      <td>cvrp-2-df-73</td>\n",
       "      <td>df-2</td>\n",
       "      <td>{'lng': -48.05498915846707, 'lat': -15.8381445...</td>\n",
       "      <td>180</td>\n",
       "      <td>[{'id': 'bf3fc630b1c29601a4caf1bdd474b85', 'po...</td>\n",
       "    </tr>\n",
       "    <tr>\n",
       "      <th>2</th>\n",
       "      <td>cvrp-2-df-20</td>\n",
       "      <td>df-2</td>\n",
       "      <td>{'lng': -48.05498915846707, 'lat': -15.8381445...</td>\n",
       "      <td>180</td>\n",
       "      <td>[{'id': 'b30f1145a2ba4e0b9ac0162b68d045c3', 'p...</td>\n",
       "    </tr>\n",
       "    <tr>\n",
       "      <th>3</th>\n",
       "      <td>cvrp-1-df-71</td>\n",
       "      <td>df-1</td>\n",
       "      <td>{'lng': -47.89366206897872, 'lat': -15.8051175...</td>\n",
       "      <td>180</td>\n",
       "      <td>[{'id': 'be3ed547394196c12c7c27c89ac74ed6', 'p...</td>\n",
       "    </tr>\n",
       "    <tr>\n",
       "      <th>4</th>\n",
       "      <td>cvrp-2-df-87</td>\n",
       "      <td>df-2</td>\n",
       "      <td>{'lng': -48.05498915846707, 'lat': -15.8381445...</td>\n",
       "      <td>180</td>\n",
       "      <td>[{'id': 'a6328fb4dc0654eb28a996a270b0f6e4', 'p...</td>\n",
       "    </tr>\n",
       "  </tbody>\n",
       "</table>\n",
       "</div>"
      ],
      "text/plain": [
       "           name region                                             origin  \\\n",
       "0  cvrp-2-df-33   df-2  {'lng': -48.05498915846707, 'lat': -15.8381445...   \n",
       "1  cvrp-2-df-73   df-2  {'lng': -48.05498915846707, 'lat': -15.8381445...   \n",
       "2  cvrp-2-df-20   df-2  {'lng': -48.05498915846707, 'lat': -15.8381445...   \n",
       "3  cvrp-1-df-71   df-1  {'lng': -47.89366206897872, 'lat': -15.8051175...   \n",
       "4  cvrp-2-df-87   df-2  {'lng': -48.05498915846707, 'lat': -15.8381445...   \n",
       "\n",
       "   vehicle_capacity                                         deliveries  \n",
       "0               180  [{'id': '313483a19d2f8d65cd5024c8d215cfbd', 'p...  \n",
       "1               180  [{'id': 'bf3fc630b1c29601a4caf1bdd474b85', 'po...  \n",
       "2               180  [{'id': 'b30f1145a2ba4e0b9ac0162b68d045c3', 'p...  \n",
       "3               180  [{'id': 'be3ed547394196c12c7c27c89ac74ed6', 'p...  \n",
       "4               180  [{'id': 'a6328fb4dc0654eb28a996a270b0f6e4', 'p...  "
      ]
     },
     "execution_count": 6,
     "metadata": {},
     "output_type": "execute_result"
    }
   ],
   "source": [
    "df.head()"
   ]
  },
  {
   "cell_type": "markdown",
   "id": "2e1a613f",
   "metadata": {
    "papermill": {
     "duration": 0.00771,
     "end_time": "2023-03-07T19:02:06.405728",
     "exception": false,
     "start_time": "2023-03-07T19:02:06.398018",
     "status": "completed"
    },
    "tags": []
   },
   "source": [
    "We see that not all the data was retrieved correctly, for example, deliveries has a lot of values inside the column, our need is to \"explode\" the column in order to retrieve the data.\n",
    "\n",
    "first we perform the operation on another column, the origin one"
   ]
  },
  {
   "cell_type": "code",
   "execution_count": 7,
   "id": "10b2fa84",
   "metadata": {
    "execution": {
     "iopub.execute_input": "2023-03-07T19:02:06.424506Z",
     "iopub.status.busy": "2023-03-07T19:02:06.423636Z",
     "iopub.status.idle": "2023-03-07T19:02:06.439517Z",
     "shell.execute_reply": "2023-03-07T19:02:06.438470Z"
    },
    "papermill": {
     "duration": 0.028196,
     "end_time": "2023-03-07T19:02:06.442022",
     "exception": false,
     "start_time": "2023-03-07T19:02:06.413826",
     "status": "completed"
    },
    "tags": []
   },
   "outputs": [
    {
     "data": {
      "text/html": [
       "<div>\n",
       "<style scoped>\n",
       "    .dataframe tbody tr th:only-of-type {\n",
       "        vertical-align: middle;\n",
       "    }\n",
       "\n",
       "    .dataframe tbody tr th {\n",
       "        vertical-align: top;\n",
       "    }\n",
       "\n",
       "    .dataframe thead th {\n",
       "        text-align: right;\n",
       "    }\n",
       "</style>\n",
       "<table border=\"1\" class=\"dataframe\">\n",
       "  <thead>\n",
       "    <tr style=\"text-align: right;\">\n",
       "      <th></th>\n",
       "      <th>lng</th>\n",
       "      <th>lat</th>\n",
       "    </tr>\n",
       "  </thead>\n",
       "  <tbody>\n",
       "    <tr>\n",
       "      <th>0</th>\n",
       "      <td>-48.054989</td>\n",
       "      <td>-15.838145</td>\n",
       "    </tr>\n",
       "    <tr>\n",
       "      <th>1</th>\n",
       "      <td>-48.054989</td>\n",
       "      <td>-15.838145</td>\n",
       "    </tr>\n",
       "    <tr>\n",
       "      <th>2</th>\n",
       "      <td>-48.054989</td>\n",
       "      <td>-15.838145</td>\n",
       "    </tr>\n",
       "    <tr>\n",
       "      <th>3</th>\n",
       "      <td>-47.893662</td>\n",
       "      <td>-15.805118</td>\n",
       "    </tr>\n",
       "    <tr>\n",
       "      <th>4</th>\n",
       "      <td>-48.054989</td>\n",
       "      <td>-15.838145</td>\n",
       "    </tr>\n",
       "  </tbody>\n",
       "</table>\n",
       "</div>"
      ],
      "text/plain": [
       "         lng        lat\n",
       "0 -48.054989 -15.838145\n",
       "1 -48.054989 -15.838145\n",
       "2 -48.054989 -15.838145\n",
       "3 -47.893662 -15.805118\n",
       "4 -48.054989 -15.838145"
      ]
     },
     "execution_count": 7,
     "metadata": {},
     "output_type": "execute_result"
    }
   ],
   "source": [
    "origin_df = pd.json_normalize(df[\"origin\"])\n",
    "origin_df.head()"
   ]
  },
  {
   "cell_type": "markdown",
   "id": "f8e9c2a5",
   "metadata": {
    "papermill": {
     "duration": 0.00818,
     "end_time": "2023-03-07T19:02:06.458714",
     "exception": false,
     "start_time": "2023-03-07T19:02:06.450534",
     "status": "completed"
    },
    "tags": []
   },
   "source": [
    "The procedure worked, so we can merge the df with the previous one!"
   ]
  },
  {
   "cell_type": "code",
   "execution_count": 8,
   "id": "3c3c3700",
   "metadata": {
    "execution": {
     "iopub.execute_input": "2023-03-07T19:02:06.477975Z",
     "iopub.status.busy": "2023-03-07T19:02:06.477217Z",
     "iopub.status.idle": "2023-03-07T19:02:06.783524Z",
     "shell.execute_reply": "2023-03-07T19:02:06.782203Z"
    },
    "papermill": {
     "duration": 0.319146,
     "end_time": "2023-03-07T19:02:06.786322",
     "exception": false,
     "start_time": "2023-03-07T19:02:06.467176",
     "status": "completed"
    },
    "tags": []
   },
   "outputs": [
    {
     "data": {
      "text/html": [
       "<div>\n",
       "<style scoped>\n",
       "    .dataframe tbody tr th:only-of-type {\n",
       "        vertical-align: middle;\n",
       "    }\n",
       "\n",
       "    .dataframe tbody tr th {\n",
       "        vertical-align: top;\n",
       "    }\n",
       "\n",
       "    .dataframe thead th {\n",
       "        text-align: right;\n",
       "    }\n",
       "</style>\n",
       "<table border=\"1\" class=\"dataframe\">\n",
       "  <thead>\n",
       "    <tr style=\"text-align: right;\">\n",
       "      <th></th>\n",
       "      <th>name</th>\n",
       "      <th>region</th>\n",
       "      <th>origin</th>\n",
       "      <th>vehicle_capacity</th>\n",
       "      <th>deliveries</th>\n",
       "      <th>lng</th>\n",
       "      <th>lat</th>\n",
       "    </tr>\n",
       "  </thead>\n",
       "  <tbody>\n",
       "    <tr>\n",
       "      <th>0</th>\n",
       "      <td>cvrp-2-df-33</td>\n",
       "      <td>df-2</td>\n",
       "      <td>{'lng': -48.05498915846707, 'lat': -15.8381445...</td>\n",
       "      <td>180</td>\n",
       "      <td>[{'id': '313483a19d2f8d65cd5024c8d215cfbd', 'p...</td>\n",
       "      <td>-48.054989</td>\n",
       "      <td>-15.838145</td>\n",
       "    </tr>\n",
       "    <tr>\n",
       "      <th>1</th>\n",
       "      <td>cvrp-2-df-73</td>\n",
       "      <td>df-2</td>\n",
       "      <td>{'lng': -48.05498915846707, 'lat': -15.8381445...</td>\n",
       "      <td>180</td>\n",
       "      <td>[{'id': 'bf3fc630b1c29601a4caf1bdd474b85', 'po...</td>\n",
       "      <td>-48.054989</td>\n",
       "      <td>-15.838145</td>\n",
       "    </tr>\n",
       "    <tr>\n",
       "      <th>2</th>\n",
       "      <td>cvrp-2-df-20</td>\n",
       "      <td>df-2</td>\n",
       "      <td>{'lng': -48.05498915846707, 'lat': -15.8381445...</td>\n",
       "      <td>180</td>\n",
       "      <td>[{'id': 'b30f1145a2ba4e0b9ac0162b68d045c3', 'p...</td>\n",
       "      <td>-48.054989</td>\n",
       "      <td>-15.838145</td>\n",
       "    </tr>\n",
       "    <tr>\n",
       "      <th>3</th>\n",
       "      <td>cvrp-1-df-71</td>\n",
       "      <td>df-1</td>\n",
       "      <td>{'lng': -47.89366206897872, 'lat': -15.8051175...</td>\n",
       "      <td>180</td>\n",
       "      <td>[{'id': 'be3ed547394196c12c7c27c89ac74ed6', 'p...</td>\n",
       "      <td>-47.893662</td>\n",
       "      <td>-15.805118</td>\n",
       "    </tr>\n",
       "    <tr>\n",
       "      <th>4</th>\n",
       "      <td>cvrp-2-df-87</td>\n",
       "      <td>df-2</td>\n",
       "      <td>{'lng': -48.05498915846707, 'lat': -15.8381445...</td>\n",
       "      <td>180</td>\n",
       "      <td>[{'id': 'a6328fb4dc0654eb28a996a270b0f6e4', 'p...</td>\n",
       "      <td>-48.054989</td>\n",
       "      <td>-15.838145</td>\n",
       "    </tr>\n",
       "  </tbody>\n",
       "</table>\n",
       "</div>"
      ],
      "text/plain": [
       "           name region                                             origin  \\\n",
       "0  cvrp-2-df-33   df-2  {'lng': -48.05498915846707, 'lat': -15.8381445...   \n",
       "1  cvrp-2-df-73   df-2  {'lng': -48.05498915846707, 'lat': -15.8381445...   \n",
       "2  cvrp-2-df-20   df-2  {'lng': -48.05498915846707, 'lat': -15.8381445...   \n",
       "3  cvrp-1-df-71   df-1  {'lng': -47.89366206897872, 'lat': -15.8051175...   \n",
       "4  cvrp-2-df-87   df-2  {'lng': -48.05498915846707, 'lat': -15.8381445...   \n",
       "\n",
       "   vehicle_capacity                                         deliveries  \\\n",
       "0               180  [{'id': '313483a19d2f8d65cd5024c8d215cfbd', 'p...   \n",
       "1               180  [{'id': 'bf3fc630b1c29601a4caf1bdd474b85', 'po...   \n",
       "2               180  [{'id': 'b30f1145a2ba4e0b9ac0162b68d045c3', 'p...   \n",
       "3               180  [{'id': 'be3ed547394196c12c7c27c89ac74ed6', 'p...   \n",
       "4               180  [{'id': 'a6328fb4dc0654eb28a996a270b0f6e4', 'p...   \n",
       "\n",
       "         lng        lat  \n",
       "0 -48.054989 -15.838145  \n",
       "1 -48.054989 -15.838145  \n",
       "2 -48.054989 -15.838145  \n",
       "3 -47.893662 -15.805118  \n",
       "4 -48.054989 -15.838145  "
      ]
     },
     "execution_count": 8,
     "metadata": {},
     "output_type": "execute_result"
    }
   ],
   "source": [
    "df = pd.merge(left = df, right = origin_df, how = \"inner\", left_index = True, right_index = True)\n",
    "df.head()"
   ]
  },
  {
   "cell_type": "markdown",
   "id": "183b9e18",
   "metadata": {
    "papermill": {
     "duration": 0.008162,
     "end_time": "2023-03-07T19:02:06.803002",
     "exception": false,
     "start_time": "2023-03-07T19:02:06.794840",
     "status": "completed"
    },
    "tags": []
   },
   "source": [
    "We now remove the duplicate Origin column and rename the other ones"
   ]
  },
  {
   "cell_type": "code",
   "execution_count": 9,
   "id": "ce4f009b",
   "metadata": {
    "execution": {
     "iopub.execute_input": "2023-03-07T19:02:06.822012Z",
     "iopub.status.busy": "2023-03-07T19:02:06.821551Z",
     "iopub.status.idle": "2023-03-07T19:02:07.128063Z",
     "shell.execute_reply": "2023-03-07T19:02:07.126696Z"
    },
    "papermill": {
     "duration": 0.319422,
     "end_time": "2023-03-07T19:02:07.130818",
     "exception": false,
     "start_time": "2023-03-07T19:02:06.811396",
     "status": "completed"
    },
    "tags": []
   },
   "outputs": [
    {
     "data": {
      "text/html": [
       "<div>\n",
       "<style scoped>\n",
       "    .dataframe tbody tr th:only-of-type {\n",
       "        vertical-align: middle;\n",
       "    }\n",
       "\n",
       "    .dataframe tbody tr th {\n",
       "        vertical-align: top;\n",
       "    }\n",
       "\n",
       "    .dataframe thead th {\n",
       "        text-align: right;\n",
       "    }\n",
       "</style>\n",
       "<table border=\"1\" class=\"dataframe\">\n",
       "  <thead>\n",
       "    <tr style=\"text-align: right;\">\n",
       "      <th></th>\n",
       "      <th>name</th>\n",
       "      <th>region</th>\n",
       "      <th>hub_long</th>\n",
       "      <th>hub_lat</th>\n",
       "      <th>vehicle_capacity</th>\n",
       "      <th>deliveries</th>\n",
       "    </tr>\n",
       "  </thead>\n",
       "  <tbody>\n",
       "    <tr>\n",
       "      <th>0</th>\n",
       "      <td>cvrp-2-df-33</td>\n",
       "      <td>df-2</td>\n",
       "      <td>-48.054989</td>\n",
       "      <td>-15.838145</td>\n",
       "      <td>180</td>\n",
       "      <td>[{'id': '313483a19d2f8d65cd5024c8d215cfbd', 'p...</td>\n",
       "    </tr>\n",
       "    <tr>\n",
       "      <th>1</th>\n",
       "      <td>cvrp-2-df-73</td>\n",
       "      <td>df-2</td>\n",
       "      <td>-48.054989</td>\n",
       "      <td>-15.838145</td>\n",
       "      <td>180</td>\n",
       "      <td>[{'id': 'bf3fc630b1c29601a4caf1bdd474b85', 'po...</td>\n",
       "    </tr>\n",
       "    <tr>\n",
       "      <th>2</th>\n",
       "      <td>cvrp-2-df-20</td>\n",
       "      <td>df-2</td>\n",
       "      <td>-48.054989</td>\n",
       "      <td>-15.838145</td>\n",
       "      <td>180</td>\n",
       "      <td>[{'id': 'b30f1145a2ba4e0b9ac0162b68d045c3', 'p...</td>\n",
       "    </tr>\n",
       "    <tr>\n",
       "      <th>3</th>\n",
       "      <td>cvrp-1-df-71</td>\n",
       "      <td>df-1</td>\n",
       "      <td>-47.893662</td>\n",
       "      <td>-15.805118</td>\n",
       "      <td>180</td>\n",
       "      <td>[{'id': 'be3ed547394196c12c7c27c89ac74ed6', 'p...</td>\n",
       "    </tr>\n",
       "    <tr>\n",
       "      <th>4</th>\n",
       "      <td>cvrp-2-df-87</td>\n",
       "      <td>df-2</td>\n",
       "      <td>-48.054989</td>\n",
       "      <td>-15.838145</td>\n",
       "      <td>180</td>\n",
       "      <td>[{'id': 'a6328fb4dc0654eb28a996a270b0f6e4', 'p...</td>\n",
       "    </tr>\n",
       "  </tbody>\n",
       "</table>\n",
       "</div>"
      ],
      "text/plain": [
       "           name region   hub_long    hub_lat  vehicle_capacity  \\\n",
       "0  cvrp-2-df-33   df-2 -48.054989 -15.838145               180   \n",
       "1  cvrp-2-df-73   df-2 -48.054989 -15.838145               180   \n",
       "2  cvrp-2-df-20   df-2 -48.054989 -15.838145               180   \n",
       "3  cvrp-1-df-71   df-1 -47.893662 -15.805118               180   \n",
       "4  cvrp-2-df-87   df-2 -48.054989 -15.838145               180   \n",
       "\n",
       "                                          deliveries  \n",
       "0  [{'id': '313483a19d2f8d65cd5024c8d215cfbd', 'p...  \n",
       "1  [{'id': 'bf3fc630b1c29601a4caf1bdd474b85', 'po...  \n",
       "2  [{'id': 'b30f1145a2ba4e0b9ac0162b68d045c3', 'p...  \n",
       "3  [{'id': 'be3ed547394196c12c7c27c89ac74ed6', 'p...  \n",
       "4  [{'id': 'a6328fb4dc0654eb28a996a270b0f6e4', 'p...  "
      ]
     },
     "execution_count": 9,
     "metadata": {},
     "output_type": "execute_result"
    }
   ],
   "source": [
    "df = df.drop(\"origin\", axis = 1)\n",
    "df = df[[\"name\",\"region\", \"lng\", \"lat\", \"vehicle_capacity\", \"deliveries\"]]\n",
    "df.rename(columns = {\"lng\":\"hub_long\",\"lat\":\"hub_lat\"}, inplace = True)\n",
    "df.head()"
   ]
  },
  {
   "cell_type": "markdown",
   "id": "571316b5",
   "metadata": {
    "papermill": {
     "duration": 0.008235,
     "end_time": "2023-03-07T19:02:07.147829",
     "exception": false,
     "start_time": "2023-03-07T19:02:07.139594",
     "status": "completed"
    },
    "tags": []
   },
   "source": [
    "Now, \"exploding\" the deliveries column, we perform the following operations"
   ]
  },
  {
   "cell_type": "code",
   "execution_count": 10,
   "id": "30bf6957",
   "metadata": {
    "execution": {
     "iopub.execute_input": "2023-03-07T19:02:07.167324Z",
     "iopub.status.busy": "2023-03-07T19:02:07.166911Z",
     "iopub.status.idle": "2023-03-07T19:02:07.323082Z",
     "shell.execute_reply": "2023-03-07T19:02:07.321849Z"
    },
    "papermill": {
     "duration": 0.169505,
     "end_time": "2023-03-07T19:02:07.325999",
     "exception": false,
     "start_time": "2023-03-07T19:02:07.156494",
     "status": "completed"
    },
    "tags": []
   },
   "outputs": [
    {
     "data": {
      "text/html": [
       "<div>\n",
       "<style scoped>\n",
       "    .dataframe tbody tr th:only-of-type {\n",
       "        vertical-align: middle;\n",
       "    }\n",
       "\n",
       "    .dataframe tbody tr th {\n",
       "        vertical-align: top;\n",
       "    }\n",
       "\n",
       "    .dataframe thead th {\n",
       "        text-align: right;\n",
       "    }\n",
       "</style>\n",
       "<table border=\"1\" class=\"dataframe\">\n",
       "  <thead>\n",
       "    <tr style=\"text-align: right;\">\n",
       "      <th></th>\n",
       "      <th>deliveries</th>\n",
       "    </tr>\n",
       "  </thead>\n",
       "  <tbody>\n",
       "    <tr>\n",
       "      <th>0</th>\n",
       "      <td>{'id': '313483a19d2f8d65cd5024c8d215cfbd', 'po...</td>\n",
       "    </tr>\n",
       "    <tr>\n",
       "      <th>0</th>\n",
       "      <td>{'id': '320c94b17aa685c939b3f3244c3099de', 'po...</td>\n",
       "    </tr>\n",
       "    <tr>\n",
       "      <th>0</th>\n",
       "      <td>{'id': '3663b42f4b8decb33059febaba46d5c8', 'po...</td>\n",
       "    </tr>\n",
       "    <tr>\n",
       "      <th>0</th>\n",
       "      <td>{'id': 'e11ab58363c38d6abc90d5fba87b7d7', 'poi...</td>\n",
       "    </tr>\n",
       "    <tr>\n",
       "      <th>0</th>\n",
       "      <td>{'id': '54cb45b7bbbd4e34e7150900f92d7f4b', 'po...</td>\n",
       "    </tr>\n",
       "  </tbody>\n",
       "</table>\n",
       "</div>"
      ],
      "text/plain": [
       "                                          deliveries\n",
       "0  {'id': '313483a19d2f8d65cd5024c8d215cfbd', 'po...\n",
       "0  {'id': '320c94b17aa685c939b3f3244c3099de', 'po...\n",
       "0  {'id': '3663b42f4b8decb33059febaba46d5c8', 'po...\n",
       "0  {'id': 'e11ab58363c38d6abc90d5fba87b7d7', 'poi...\n",
       "0  {'id': '54cb45b7bbbd4e34e7150900f92d7f4b', 'po..."
      ]
     },
     "execution_count": 10,
     "metadata": {},
     "output_type": "execute_result"
    }
   ],
   "source": [
    "df_exploded = df[[\"deliveries\"]].explode(\"deliveries\")\n",
    "df_exploded.head()"
   ]
  },
  {
   "cell_type": "code",
   "execution_count": 11,
   "id": "bd0de156",
   "metadata": {
    "execution": {
     "iopub.execute_input": "2023-03-07T19:02:07.347953Z",
     "iopub.status.busy": "2023-03-07T19:02:07.346857Z",
     "iopub.status.idle": "2023-03-07T19:02:08.114829Z",
     "shell.execute_reply": "2023-03-07T19:02:08.113417Z"
    },
    "papermill": {
     "duration": 0.781877,
     "end_time": "2023-03-07T19:02:08.117799",
     "exception": false,
     "start_time": "2023-03-07T19:02:07.335922",
     "status": "completed"
    },
    "tags": []
   },
   "outputs": [
    {
     "data": {
      "text/html": [
       "<div>\n",
       "<style scoped>\n",
       "    .dataframe tbody tr th:only-of-type {\n",
       "        vertical-align: middle;\n",
       "    }\n",
       "\n",
       "    .dataframe tbody tr th {\n",
       "        vertical-align: top;\n",
       "    }\n",
       "\n",
       "    .dataframe thead th {\n",
       "        text-align: right;\n",
       "    }\n",
       "</style>\n",
       "<table border=\"1\" class=\"dataframe\">\n",
       "  <thead>\n",
       "    <tr style=\"text-align: right;\">\n",
       "      <th></th>\n",
       "      <th>delivery_size</th>\n",
       "      <th>delivery_lng</th>\n",
       "      <th>delivery_lat</th>\n",
       "    </tr>\n",
       "  </thead>\n",
       "  <tbody>\n",
       "    <tr>\n",
       "      <th>0</th>\n",
       "      <td>9</td>\n",
       "      <td>-48.116189</td>\n",
       "      <td>-15.848929</td>\n",
       "    </tr>\n",
       "    <tr>\n",
       "      <th>0</th>\n",
       "      <td>2</td>\n",
       "      <td>-48.118195</td>\n",
       "      <td>-15.850772</td>\n",
       "    </tr>\n",
       "    <tr>\n",
       "      <th>0</th>\n",
       "      <td>1</td>\n",
       "      <td>-48.112483</td>\n",
       "      <td>-15.847871</td>\n",
       "    </tr>\n",
       "    <tr>\n",
       "      <th>0</th>\n",
       "      <td>2</td>\n",
       "      <td>-48.118023</td>\n",
       "      <td>-15.846471</td>\n",
       "    </tr>\n",
       "    <tr>\n",
       "      <th>0</th>\n",
       "      <td>7</td>\n",
       "      <td>-48.114898</td>\n",
       "      <td>-15.858055</td>\n",
       "    </tr>\n",
       "  </tbody>\n",
       "</table>\n",
       "</div>"
      ],
      "text/plain": [
       "   delivery_size  delivery_lng  delivery_lat\n",
       "0              9    -48.116189    -15.848929\n",
       "0              2    -48.118195    -15.850772\n",
       "0              1    -48.112483    -15.847871\n",
       "0              2    -48.118023    -15.846471\n",
       "0              7    -48.114898    -15.858055"
      ]
     },
     "execution_count": 11,
     "metadata": {},
     "output_type": "execute_result"
    }
   ],
   "source": [
    "new_df = pd.concat([pd.DataFrame(df_exploded[\"deliveries\"].apply(lambda record: record[\"size\"])).rename(columns={\"deliveries\": \"delivery_size\"}),\n",
    "                    pd.DataFrame(df_exploded[\"deliveries\"].apply(lambda record: record[\"point\"][\"lng\"])).rename(columns={\"deliveries\": \"delivery_lng\"}),\n",
    "                    pd.DataFrame(df_exploded[\"deliveries\"].apply(lambda record: record[\"point\"][\"lat\"])).rename(columns={\"deliveries\": \"delivery_lat\"})\n",
    "                   ], axis = 1)\n",
    "new_df.head()"
   ]
  },
  {
   "cell_type": "markdown",
   "id": "ab2979d9",
   "metadata": {
    "papermill": {
     "duration": 0.008984,
     "end_time": "2023-03-07T19:02:08.137449",
     "exception": false,
     "start_time": "2023-03-07T19:02:08.128465",
     "status": "completed"
    },
    "tags": []
   },
   "source": [
    "Now that we \"exploded\" the data, we merge it to the previous df"
   ]
  },
  {
   "cell_type": "code",
   "execution_count": 12,
   "id": "d69c279c",
   "metadata": {
    "execution": {
     "iopub.execute_input": "2023-03-07T19:02:08.157564Z",
     "iopub.status.busy": "2023-03-07T19:02:08.157130Z",
     "iopub.status.idle": "2023-03-07T19:02:08.264500Z",
     "shell.execute_reply": "2023-03-07T19:02:08.263484Z"
    },
    "papermill": {
     "duration": 0.120682,
     "end_time": "2023-03-07T19:02:08.267065",
     "exception": false,
     "start_time": "2023-03-07T19:02:08.146383",
     "status": "completed"
    },
    "tags": []
   },
   "outputs": [
    {
     "data": {
      "text/html": [
       "<div>\n",
       "<style scoped>\n",
       "    .dataframe tbody tr th:only-of-type {\n",
       "        vertical-align: middle;\n",
       "    }\n",
       "\n",
       "    .dataframe tbody tr th {\n",
       "        vertical-align: top;\n",
       "    }\n",
       "\n",
       "    .dataframe thead th {\n",
       "        text-align: right;\n",
       "    }\n",
       "</style>\n",
       "<table border=\"1\" class=\"dataframe\">\n",
       "  <thead>\n",
       "    <tr style=\"text-align: right;\">\n",
       "      <th></th>\n",
       "      <th>name</th>\n",
       "      <th>region</th>\n",
       "      <th>hub_long</th>\n",
       "      <th>hub_lat</th>\n",
       "      <th>vehicle_capacity</th>\n",
       "      <th>delivery_size</th>\n",
       "      <th>delivery_lng</th>\n",
       "      <th>delivery_lat</th>\n",
       "    </tr>\n",
       "  </thead>\n",
       "  <tbody>\n",
       "    <tr>\n",
       "      <th>0</th>\n",
       "      <td>cvrp-2-df-33</td>\n",
       "      <td>df-2</td>\n",
       "      <td>-48.054989</td>\n",
       "      <td>-15.838145</td>\n",
       "      <td>180</td>\n",
       "      <td>9</td>\n",
       "      <td>-48.116189</td>\n",
       "      <td>-15.848929</td>\n",
       "    </tr>\n",
       "    <tr>\n",
       "      <th>1</th>\n",
       "      <td>cvrp-2-df-33</td>\n",
       "      <td>df-2</td>\n",
       "      <td>-48.054989</td>\n",
       "      <td>-15.838145</td>\n",
       "      <td>180</td>\n",
       "      <td>2</td>\n",
       "      <td>-48.118195</td>\n",
       "      <td>-15.850772</td>\n",
       "    </tr>\n",
       "    <tr>\n",
       "      <th>2</th>\n",
       "      <td>cvrp-2-df-33</td>\n",
       "      <td>df-2</td>\n",
       "      <td>-48.054989</td>\n",
       "      <td>-15.838145</td>\n",
       "      <td>180</td>\n",
       "      <td>1</td>\n",
       "      <td>-48.112483</td>\n",
       "      <td>-15.847871</td>\n",
       "    </tr>\n",
       "    <tr>\n",
       "      <th>3</th>\n",
       "      <td>cvrp-2-df-33</td>\n",
       "      <td>df-2</td>\n",
       "      <td>-48.054989</td>\n",
       "      <td>-15.838145</td>\n",
       "      <td>180</td>\n",
       "      <td>2</td>\n",
       "      <td>-48.118023</td>\n",
       "      <td>-15.846471</td>\n",
       "    </tr>\n",
       "    <tr>\n",
       "      <th>4</th>\n",
       "      <td>cvrp-2-df-33</td>\n",
       "      <td>df-2</td>\n",
       "      <td>-48.054989</td>\n",
       "      <td>-15.838145</td>\n",
       "      <td>180</td>\n",
       "      <td>7</td>\n",
       "      <td>-48.114898</td>\n",
       "      <td>-15.858055</td>\n",
       "    </tr>\n",
       "    <tr>\n",
       "      <th>...</th>\n",
       "      <td>...</td>\n",
       "      <td>...</td>\n",
       "      <td>...</td>\n",
       "      <td>...</td>\n",
       "      <td>...</td>\n",
       "      <td>...</td>\n",
       "      <td>...</td>\n",
       "      <td>...</td>\n",
       "    </tr>\n",
       "    <tr>\n",
       "      <th>636144</th>\n",
       "      <td>cvrp-2-df-62</td>\n",
       "      <td>df-2</td>\n",
       "      <td>-48.054989</td>\n",
       "      <td>-15.838145</td>\n",
       "      <td>180</td>\n",
       "      <td>8</td>\n",
       "      <td>-48.064269</td>\n",
       "      <td>-15.997694</td>\n",
       "    </tr>\n",
       "    <tr>\n",
       "      <th>636145</th>\n",
       "      <td>cvrp-2-df-62</td>\n",
       "      <td>df-2</td>\n",
       "      <td>-48.054989</td>\n",
       "      <td>-15.838145</td>\n",
       "      <td>180</td>\n",
       "      <td>4</td>\n",
       "      <td>-48.065176</td>\n",
       "      <td>-16.003597</td>\n",
       "    </tr>\n",
       "    <tr>\n",
       "      <th>636146</th>\n",
       "      <td>cvrp-2-df-62</td>\n",
       "      <td>df-2</td>\n",
       "      <td>-48.054989</td>\n",
       "      <td>-15.838145</td>\n",
       "      <td>180</td>\n",
       "      <td>9</td>\n",
       "      <td>-48.065841</td>\n",
       "      <td>-16.003808</td>\n",
       "    </tr>\n",
       "    <tr>\n",
       "      <th>636147</th>\n",
       "      <td>cvrp-2-df-62</td>\n",
       "      <td>df-2</td>\n",
       "      <td>-48.054989</td>\n",
       "      <td>-15.838145</td>\n",
       "      <td>180</td>\n",
       "      <td>1</td>\n",
       "      <td>-48.062327</td>\n",
       "      <td>-16.001568</td>\n",
       "    </tr>\n",
       "    <tr>\n",
       "      <th>636148</th>\n",
       "      <td>cvrp-2-df-62</td>\n",
       "      <td>df-2</td>\n",
       "      <td>-48.054989</td>\n",
       "      <td>-15.838145</td>\n",
       "      <td>180</td>\n",
       "      <td>9</td>\n",
       "      <td>-48.059420</td>\n",
       "      <td>-16.009234</td>\n",
       "    </tr>\n",
       "  </tbody>\n",
       "</table>\n",
       "<p>636149 rows × 8 columns</p>\n",
       "</div>"
      ],
      "text/plain": [
       "                name region   hub_long    hub_lat  vehicle_capacity  \\\n",
       "0       cvrp-2-df-33   df-2 -48.054989 -15.838145               180   \n",
       "1       cvrp-2-df-33   df-2 -48.054989 -15.838145               180   \n",
       "2       cvrp-2-df-33   df-2 -48.054989 -15.838145               180   \n",
       "3       cvrp-2-df-33   df-2 -48.054989 -15.838145               180   \n",
       "4       cvrp-2-df-33   df-2 -48.054989 -15.838145               180   \n",
       "...              ...    ...        ...        ...               ...   \n",
       "636144  cvrp-2-df-62   df-2 -48.054989 -15.838145               180   \n",
       "636145  cvrp-2-df-62   df-2 -48.054989 -15.838145               180   \n",
       "636146  cvrp-2-df-62   df-2 -48.054989 -15.838145               180   \n",
       "636147  cvrp-2-df-62   df-2 -48.054989 -15.838145               180   \n",
       "636148  cvrp-2-df-62   df-2 -48.054989 -15.838145               180   \n",
       "\n",
       "        delivery_size  delivery_lng  delivery_lat  \n",
       "0                   9    -48.116189    -15.848929  \n",
       "1                   2    -48.118195    -15.850772  \n",
       "2                   1    -48.112483    -15.847871  \n",
       "3                   2    -48.118023    -15.846471  \n",
       "4                   7    -48.114898    -15.858055  \n",
       "...               ...           ...           ...  \n",
       "636144              8    -48.064269    -15.997694  \n",
       "636145              4    -48.065176    -16.003597  \n",
       "636146              9    -48.065841    -16.003808  \n",
       "636147              1    -48.062327    -16.001568  \n",
       "636148              9    -48.059420    -16.009234  \n",
       "\n",
       "[636149 rows x 8 columns]"
      ]
     },
     "execution_count": 12,
     "metadata": {},
     "output_type": "execute_result"
    }
   ],
   "source": [
    "df = df.drop(\"deliveries\", axis = 1)\n",
    "df = pd.merge(left = df, right = new_df, how = \"right\", left_index = True, right_index = True )\n",
    "df.reset_index(inplace = True, drop = True)\n",
    "df"
   ]
  },
  {
   "cell_type": "code",
   "execution_count": 13,
   "id": "67c66d4e",
   "metadata": {
    "execution": {
     "iopub.execute_input": "2023-03-07T19:02:08.288283Z",
     "iopub.status.busy": "2023-03-07T19:02:08.287796Z",
     "iopub.status.idle": "2023-03-07T19:02:08.382137Z",
     "shell.execute_reply": "2023-03-07T19:02:08.380708Z"
    },
    "papermill": {
     "duration": 0.108634,
     "end_time": "2023-03-07T19:02:08.385530",
     "exception": false,
     "start_time": "2023-03-07T19:02:08.276896",
     "status": "completed"
    },
    "tags": []
   },
   "outputs": [
    {
     "name": "stdout",
     "output_type": "stream",
     "text": [
      "<class 'pandas.core.frame.DataFrame'>\n",
      "RangeIndex: 636149 entries, 0 to 636148\n",
      "Data columns (total 8 columns):\n",
      " #   Column            Non-Null Count   Dtype  \n",
      "---  ------            --------------   -----  \n",
      " 0   name              636149 non-null  object \n",
      " 1   region            636149 non-null  object \n",
      " 2   hub_long          636149 non-null  float64\n",
      " 3   hub_lat           636149 non-null  float64\n",
      " 4   vehicle_capacity  636149 non-null  int64  \n",
      " 5   delivery_size     636149 non-null  int64  \n",
      " 6   delivery_lng      636149 non-null  float64\n",
      " 7   delivery_lat      636149 non-null  float64\n",
      "dtypes: float64(4), int64(2), object(2)\n",
      "memory usage: 38.8+ MB\n"
     ]
    }
   ],
   "source": [
    "df.info()"
   ]
  },
  {
   "cell_type": "markdown",
   "id": "df8df2db",
   "metadata": {
    "papermill": {
     "duration": 0.010229,
     "end_time": "2023-03-07T19:02:08.405862",
     "exception": false,
     "start_time": "2023-03-07T19:02:08.395633",
     "status": "completed"
    },
    "tags": []
   },
   "source": [
    "From the info above we can take different things:\n",
    "\n",
    "* The data types are consistent with the data, no changes or conversions needed;\n",
    "* There is no null data;\n",
    "* there are 636 149 rows, each row represent a different delivery."
   ]
  },
  {
   "cell_type": "markdown",
   "id": "6f0dd6ab",
   "metadata": {
    "papermill": {
     "duration": 0.010029,
     "end_time": "2023-03-07T19:02:08.425429",
     "exception": false,
     "start_time": "2023-03-07T19:02:08.415400",
     "status": "completed"
    },
    "tags": []
   },
   "source": [
    "To confirm that there is no null o missing data, we use the following code line"
   ]
  },
  {
   "cell_type": "code",
   "execution_count": 14,
   "id": "e3e9f8b5",
   "metadata": {
    "execution": {
     "iopub.execute_input": "2023-03-07T19:02:08.447858Z",
     "iopub.status.busy": "2023-03-07T19:02:08.447447Z",
     "iopub.status.idle": "2023-03-07T19:02:08.520736Z",
     "shell.execute_reply": "2023-03-07T19:02:08.519355Z"
    },
    "papermill": {
     "duration": 0.088464,
     "end_time": "2023-03-07T19:02:08.523537",
     "exception": false,
     "start_time": "2023-03-07T19:02:08.435073",
     "status": "completed"
    },
    "tags": []
   },
   "outputs": [
    {
     "data": {
      "text/plain": [
       "name                False\n",
       "region              False\n",
       "hub_long            False\n",
       "hub_lat             False\n",
       "vehicle_capacity    False\n",
       "delivery_size       False\n",
       "delivery_lng        False\n",
       "delivery_lat        False\n",
       "dtype: bool"
      ]
     },
     "execution_count": 14,
     "metadata": {},
     "output_type": "execute_result"
    }
   ],
   "source": [
    "df.isna().any()"
   ]
  },
  {
   "cell_type": "markdown",
   "id": "d2535177",
   "metadata": {
    "papermill": {
     "duration": 0.009187,
     "end_time": "2023-03-07T19:02:08.542440",
     "exception": false,
     "start_time": "2023-03-07T19:02:08.533253",
     "status": "completed"
    },
    "tags": []
   },
   "source": [
    "## Using GeoCodification on the delivery hub\n",
    "\n",
    "The reverse geocodification transforms the lat and long data in their respective text descriptions"
   ]
  },
  {
   "cell_type": "code",
   "execution_count": 15,
   "id": "24cb5951",
   "metadata": {
    "execution": {
     "iopub.execute_input": "2023-03-07T19:02:08.563650Z",
     "iopub.status.busy": "2023-03-07T19:02:08.563196Z",
     "iopub.status.idle": "2023-03-07T19:02:08.693994Z",
     "shell.execute_reply": "2023-03-07T19:02:08.692322Z"
    },
    "papermill": {
     "duration": 0.145041,
     "end_time": "2023-03-07T19:02:08.697027",
     "exception": false,
     "start_time": "2023-03-07T19:02:08.551986",
     "status": "completed"
    },
    "tags": []
   },
   "outputs": [
    {
     "data": {
      "text/html": [
       "<div>\n",
       "<style scoped>\n",
       "    .dataframe tbody tr th:only-of-type {\n",
       "        vertical-align: middle;\n",
       "    }\n",
       "\n",
       "    .dataframe tbody tr th {\n",
       "        vertical-align: top;\n",
       "    }\n",
       "\n",
       "    .dataframe thead th {\n",
       "        text-align: right;\n",
       "    }\n",
       "</style>\n",
       "<table border=\"1\" class=\"dataframe\">\n",
       "  <thead>\n",
       "    <tr style=\"text-align: right;\">\n",
       "      <th></th>\n",
       "      <th>region</th>\n",
       "      <th>hub_long</th>\n",
       "      <th>hub_lat</th>\n",
       "    </tr>\n",
       "  </thead>\n",
       "  <tbody>\n",
       "    <tr>\n",
       "      <th>0</th>\n",
       "      <td>df-0</td>\n",
       "      <td>-47.802665</td>\n",
       "      <td>-15.657014</td>\n",
       "    </tr>\n",
       "    <tr>\n",
       "      <th>1</th>\n",
       "      <td>df-1</td>\n",
       "      <td>-47.893662</td>\n",
       "      <td>-15.805118</td>\n",
       "    </tr>\n",
       "    <tr>\n",
       "      <th>2</th>\n",
       "      <td>df-2</td>\n",
       "      <td>-48.054989</td>\n",
       "      <td>-15.838145</td>\n",
       "    </tr>\n",
       "  </tbody>\n",
       "</table>\n",
       "</div>"
      ],
      "text/plain": [
       "  region   hub_long    hub_lat\n",
       "0   df-0 -47.802665 -15.657014\n",
       "1   df-1 -47.893662 -15.805118\n",
       "2   df-2 -48.054989 -15.838145"
      ]
     },
     "execution_count": 15,
     "metadata": {},
     "output_type": "execute_result"
    }
   ],
   "source": [
    "hub_df = df[[\"region\",\"hub_long\",\"hub_lat\"]]\n",
    "hub_df = hub_df.drop_duplicates().sort_values(by = \"region\").reset_index(drop=True)\n",
    "hub_df.head()"
   ]
  },
  {
   "cell_type": "markdown",
   "id": "6224cbfc",
   "metadata": {
    "papermill": {
     "duration": 0.009925,
     "end_time": "2023-03-07T19:02:08.716779",
     "exception": false,
     "start_time": "2023-03-07T19:02:08.706854",
     "status": "completed"
    },
    "tags": []
   },
   "source": [
    "For this particular example, we will be using nominatim for the reverse geocodification"
   ]
  },
  {
   "cell_type": "code",
   "execution_count": 16,
   "id": "4a40e62d",
   "metadata": {
    "execution": {
     "iopub.execute_input": "2023-03-07T19:02:08.738354Z",
     "iopub.status.busy": "2023-03-07T19:02:08.737877Z",
     "iopub.status.idle": "2023-03-07T19:02:08.745063Z",
     "shell.execute_reply": "2023-03-07T19:02:08.743543Z"
    },
    "papermill": {
     "duration": 0.021577,
     "end_time": "2023-03-07T19:02:08.748099",
     "exception": false,
     "start_time": "2023-03-07T19:02:08.726522",
     "status": "completed"
    },
    "tags": []
   },
   "outputs": [],
   "source": [
    "geolocator = Nominatim(user_agent = \"logdata_geocoder\")\n",
    "geocoder = RateLimiter(geolocator.reverse, min_delay_seconds = 1)"
   ]
  },
  {
   "cell_type": "markdown",
   "id": "f3bd6b43",
   "metadata": {
    "papermill": {
     "duration": 0.009963,
     "end_time": "2023-03-07T19:02:08.768415",
     "exception": false,
     "start_time": "2023-03-07T19:02:08.758452",
     "status": "completed"
    },
    "tags": []
   },
   "source": [
    "Because the geocoder needs data to be in string format of latitude and longitude, a conversion is needed"
   ]
  },
  {
   "cell_type": "code",
   "execution_count": 17,
   "id": "6d739c7a",
   "metadata": {
    "execution": {
     "iopub.execute_input": "2023-03-07T19:02:08.789824Z",
     "iopub.status.busy": "2023-03-07T19:02:08.789352Z",
     "iopub.status.idle": "2023-03-07T19:02:10.979910Z",
     "shell.execute_reply": "2023-03-07T19:02:10.977919Z"
    },
    "papermill": {
     "duration": 2.206749,
     "end_time": "2023-03-07T19:02:10.984964",
     "exception": false,
     "start_time": "2023-03-07T19:02:08.778215",
     "status": "completed"
    },
    "tags": []
   },
   "outputs": [
    {
     "data": {
      "text/html": [
       "<div>\n",
       "<style scoped>\n",
       "    .dataframe tbody tr th:only-of-type {\n",
       "        vertical-align: middle;\n",
       "    }\n",
       "\n",
       "    .dataframe tbody tr th {\n",
       "        vertical-align: top;\n",
       "    }\n",
       "\n",
       "    .dataframe thead th {\n",
       "        text-align: right;\n",
       "    }\n",
       "</style>\n",
       "<table border=\"1\" class=\"dataframe\">\n",
       "  <thead>\n",
       "    <tr style=\"text-align: right;\">\n",
       "      <th></th>\n",
       "      <th>region</th>\n",
       "      <th>hub_long</th>\n",
       "      <th>hub_lat</th>\n",
       "      <th>coordinates</th>\n",
       "      <th>geodata</th>\n",
       "    </tr>\n",
       "  </thead>\n",
       "  <tbody>\n",
       "    <tr>\n",
       "      <th>0</th>\n",
       "      <td>df-0</td>\n",
       "      <td>-47.802665</td>\n",
       "      <td>-15.657014</td>\n",
       "      <td>-15.657013854445248, -47.802664728268745</td>\n",
       "      <td>(Clinica dos Olhos, Rua 7, Quadra 2, Sobradinh...</td>\n",
       "    </tr>\n",
       "    <tr>\n",
       "      <th>1</th>\n",
       "      <td>df-1</td>\n",
       "      <td>-47.893662</td>\n",
       "      <td>-15.805118</td>\n",
       "      <td>-15.80511751066334, -47.89366206897872</td>\n",
       "      <td>(Bloco B / F, W1 Sul, SQS 103, Asa Sul, Brasíl...</td>\n",
       "    </tr>\n",
       "    <tr>\n",
       "      <th>2</th>\n",
       "      <td>df-2</td>\n",
       "      <td>-48.054989</td>\n",
       "      <td>-15.838145</td>\n",
       "      <td>-15.83814451122274, -48.05498915846707</td>\n",
       "      <td>(Armazém do Bolo, lote 4/8, CSB 4/5, Taguating...</td>\n",
       "    </tr>\n",
       "  </tbody>\n",
       "</table>\n",
       "</div>"
      ],
      "text/plain": [
       "  region   hub_long    hub_lat                               coordinates  \\\n",
       "0   df-0 -47.802665 -15.657014  -15.657013854445248, -47.802664728268745   \n",
       "1   df-1 -47.893662 -15.805118    -15.80511751066334, -47.89366206897872   \n",
       "2   df-2 -48.054989 -15.838145    -15.83814451122274, -48.05498915846707   \n",
       "\n",
       "                                             geodata  \n",
       "0  (Clinica dos Olhos, Rua 7, Quadra 2, Sobradinh...  \n",
       "1  (Bloco B / F, W1 Sul, SQS 103, Asa Sul, Brasíl...  \n",
       "2  (Armazém do Bolo, lote 4/8, CSB 4/5, Taguating...  "
      ]
     },
     "execution_count": 17,
     "metadata": {},
     "output_type": "execute_result"
    }
   ],
   "source": [
    "hub_df[\"coordinates\"] = hub_df[\"hub_lat\"].astype(str) + \", \" + hub_df[\"hub_long\"].astype(str)\n",
    "hub_df[\"geodata\"] = hub_df[\"coordinates\"].apply(geocoder)\n",
    "hub_df.head()"
   ]
  },
  {
   "cell_type": "code",
   "execution_count": 18,
   "id": "f2af336d",
   "metadata": {
    "execution": {
     "iopub.execute_input": "2023-03-07T19:02:11.011539Z",
     "iopub.status.busy": "2023-03-07T19:02:11.011127Z",
     "iopub.status.idle": "2023-03-07T19:02:11.021238Z",
     "shell.execute_reply": "2023-03-07T19:02:11.020159Z"
    },
    "papermill": {
     "duration": 0.025712,
     "end_time": "2023-03-07T19:02:11.023923",
     "exception": false,
     "start_time": "2023-03-07T19:02:10.998211",
     "status": "completed"
    },
    "tags": []
   },
   "outputs": [
    {
     "data": {
      "text/plain": [
       "Index(['place_id', 'licence', 'osm_type', 'osm_id', 'lat', 'lon',\n",
       "       'display_name', 'boundingbox', 'address.amenity', 'address.road',\n",
       "       'address.residential', 'address.suburb', 'address.town',\n",
       "       'address.municipality', 'address.county', 'address.state_district',\n",
       "       'address.state', 'address.ISO3166-2-lvl4', 'address.region',\n",
       "       'address.postcode', 'address.country', 'address.country_code',\n",
       "       'address.building', 'address.neighbourhood', 'address.city',\n",
       "       'address.shop', 'address.house_number'],\n",
       "      dtype='object')"
      ]
     },
     "execution_count": 18,
     "metadata": {},
     "output_type": "execute_result"
    }
   ],
   "source": [
    "hub_geo_df = pd.json_normalize(hub_df[\"geodata\"].apply(lambda data: data.raw))\n",
    "hub_geo_df.columns"
   ]
  },
  {
   "cell_type": "code",
   "execution_count": 19,
   "id": "cc11d3ef",
   "metadata": {
    "execution": {
     "iopub.execute_input": "2023-03-07T19:02:11.051158Z",
     "iopub.status.busy": "2023-03-07T19:02:11.050300Z",
     "iopub.status.idle": "2023-03-07T19:02:11.066351Z",
     "shell.execute_reply": "2023-03-07T19:02:11.065313Z"
    },
    "papermill": {
     "duration": 0.033307,
     "end_time": "2023-03-07T19:02:11.069149",
     "exception": false,
     "start_time": "2023-03-07T19:02:11.035842",
     "status": "completed"
    },
    "tags": []
   },
   "outputs": [
    {
     "data": {
      "text/html": [
       "<div>\n",
       "<style scoped>\n",
       "    .dataframe tbody tr th:only-of-type {\n",
       "        vertical-align: middle;\n",
       "    }\n",
       "\n",
       "    .dataframe tbody tr th {\n",
       "        vertical-align: top;\n",
       "    }\n",
       "\n",
       "    .dataframe thead th {\n",
       "        text-align: right;\n",
       "    }\n",
       "</style>\n",
       "<table border=\"1\" class=\"dataframe\">\n",
       "  <thead>\n",
       "    <tr style=\"text-align: right;\">\n",
       "      <th></th>\n",
       "      <th>hub_suburb</th>\n",
       "      <th>hub_city</th>\n",
       "    </tr>\n",
       "  </thead>\n",
       "  <tbody>\n",
       "    <tr>\n",
       "      <th>0</th>\n",
       "      <td>Sobradinho</td>\n",
       "      <td>Sobradinho</td>\n",
       "    </tr>\n",
       "    <tr>\n",
       "      <th>1</th>\n",
       "      <td>Asa Sul</td>\n",
       "      <td>Brasília</td>\n",
       "    </tr>\n",
       "    <tr>\n",
       "      <th>2</th>\n",
       "      <td>Taguatinga</td>\n",
       "      <td>Taguatinga</td>\n",
       "    </tr>\n",
       "  </tbody>\n",
       "</table>\n",
       "</div>"
      ],
      "text/plain": [
       "   hub_suburb    hub_city\n",
       "0  Sobradinho  Sobradinho\n",
       "1     Asa Sul    Brasília\n",
       "2  Taguatinga  Taguatinga"
      ]
     },
     "execution_count": 19,
     "metadata": {},
     "output_type": "execute_result"
    }
   ],
   "source": [
    "hub_geo_df = hub_geo_df[[\"address.town\", \"address.suburb\", \"address.city\"]]\n",
    "hub_geo_df.rename(columns = {\"address.town\":\"hub_town\", \"address.suburb\": \"hub_suburb\", \"address.city\": \"hub_city\"}, inplace = True)\n",
    "hub_geo_df[\"hub_city\"] = np.where(hub_geo_df[\"hub_city\"].notna(), hub_geo_df[\"hub_city\"],hub_geo_df[\"hub_town\"])\n",
    "hub_geo_df[\"hub_suburb\"] = np.where(hub_geo_df[\"hub_suburb\"].notna(), hub_geo_df[\"hub_suburb\"], hub_geo_df[\"hub_city\"])\n",
    "hub_geo_df = hub_geo_df.drop(\"hub_town\", axis = 1)\n",
    "hub_geo_df.head()"
   ]
  },
  {
   "cell_type": "markdown",
   "id": "f0451e6d",
   "metadata": {
    "papermill": {
     "duration": 0.010109,
     "end_time": "2023-03-07T19:02:11.090475",
     "exception": false,
     "start_time": "2023-03-07T19:02:11.080366",
     "status": "completed"
    },
    "tags": []
   },
   "source": [
    "Now, it's time to combine the df with the information about the suburb and city with the main df"
   ]
  },
  {
   "cell_type": "code",
   "execution_count": 20,
   "id": "31efd031",
   "metadata": {
    "execution": {
     "iopub.execute_input": "2023-03-07T19:02:11.114077Z",
     "iopub.status.busy": "2023-03-07T19:02:11.113602Z",
     "iopub.status.idle": "2023-03-07T19:02:11.129367Z",
     "shell.execute_reply": "2023-03-07T19:02:11.128014Z"
    },
    "papermill": {
     "duration": 0.031078,
     "end_time": "2023-03-07T19:02:11.132053",
     "exception": false,
     "start_time": "2023-03-07T19:02:11.100975",
     "status": "completed"
    },
    "tags": []
   },
   "outputs": [
    {
     "data": {
      "text/html": [
       "<div>\n",
       "<style scoped>\n",
       "    .dataframe tbody tr th:only-of-type {\n",
       "        vertical-align: middle;\n",
       "    }\n",
       "\n",
       "    .dataframe tbody tr th {\n",
       "        vertical-align: top;\n",
       "    }\n",
       "\n",
       "    .dataframe thead th {\n",
       "        text-align: right;\n",
       "    }\n",
       "</style>\n",
       "<table border=\"1\" class=\"dataframe\">\n",
       "  <thead>\n",
       "    <tr style=\"text-align: right;\">\n",
       "      <th></th>\n",
       "      <th>region</th>\n",
       "      <th>hub_suburb</th>\n",
       "      <th>hub_city</th>\n",
       "    </tr>\n",
       "  </thead>\n",
       "  <tbody>\n",
       "    <tr>\n",
       "      <th>0</th>\n",
       "      <td>df-0</td>\n",
       "      <td>Sobradinho</td>\n",
       "      <td>Sobradinho</td>\n",
       "    </tr>\n",
       "    <tr>\n",
       "      <th>1</th>\n",
       "      <td>df-1</td>\n",
       "      <td>Asa Sul</td>\n",
       "      <td>Brasília</td>\n",
       "    </tr>\n",
       "    <tr>\n",
       "      <th>2</th>\n",
       "      <td>df-2</td>\n",
       "      <td>Taguatinga</td>\n",
       "      <td>Taguatinga</td>\n",
       "    </tr>\n",
       "  </tbody>\n",
       "</table>\n",
       "</div>"
      ],
      "text/plain": [
       "  region  hub_suburb    hub_city\n",
       "0   df-0  Sobradinho  Sobradinho\n",
       "1   df-1     Asa Sul    Brasília\n",
       "2   df-2  Taguatinga  Taguatinga"
      ]
     },
     "execution_count": 20,
     "metadata": {},
     "output_type": "execute_result"
    }
   ],
   "source": [
    "hub_df = pd.merge(left = hub_df, right = hub_geo_df, left_index = True, right_index = True)\n",
    "hub_df = hub_df[[\"region\",\"hub_suburb\",\"hub_city\"]]\n",
    "hub_df.head()"
   ]
  },
  {
   "cell_type": "code",
   "execution_count": 21,
   "id": "04f377e4",
   "metadata": {
    "execution": {
     "iopub.execute_input": "2023-03-07T19:02:11.156471Z",
     "iopub.status.busy": "2023-03-07T19:02:11.155723Z",
     "iopub.status.idle": "2023-03-07T19:02:11.419923Z",
     "shell.execute_reply": "2023-03-07T19:02:11.418415Z"
    },
    "papermill": {
     "duration": 0.279407,
     "end_time": "2023-03-07T19:02:11.422710",
     "exception": false,
     "start_time": "2023-03-07T19:02:11.143303",
     "status": "completed"
    },
    "tags": []
   },
   "outputs": [
    {
     "data": {
      "text/html": [
       "<div>\n",
       "<style scoped>\n",
       "    .dataframe tbody tr th:only-of-type {\n",
       "        vertical-align: middle;\n",
       "    }\n",
       "\n",
       "    .dataframe tbody tr th {\n",
       "        vertical-align: top;\n",
       "    }\n",
       "\n",
       "    .dataframe thead th {\n",
       "        text-align: right;\n",
       "    }\n",
       "</style>\n",
       "<table border=\"1\" class=\"dataframe\">\n",
       "  <thead>\n",
       "    <tr style=\"text-align: right;\">\n",
       "      <th></th>\n",
       "      <th>name</th>\n",
       "      <th>region</th>\n",
       "      <th>hub_long</th>\n",
       "      <th>hub_lat</th>\n",
       "      <th>hub_city</th>\n",
       "      <th>hub_suburb</th>\n",
       "      <th>vehicle_capacity</th>\n",
       "      <th>delivery_size</th>\n",
       "      <th>delivery_lng</th>\n",
       "      <th>delivery_lat</th>\n",
       "    </tr>\n",
       "  </thead>\n",
       "  <tbody>\n",
       "    <tr>\n",
       "      <th>0</th>\n",
       "      <td>cvrp-2-df-33</td>\n",
       "      <td>df-2</td>\n",
       "      <td>-48.054989</td>\n",
       "      <td>-15.838145</td>\n",
       "      <td>Taguatinga</td>\n",
       "      <td>Taguatinga</td>\n",
       "      <td>180</td>\n",
       "      <td>9</td>\n",
       "      <td>-48.116189</td>\n",
       "      <td>-15.848929</td>\n",
       "    </tr>\n",
       "    <tr>\n",
       "      <th>1</th>\n",
       "      <td>cvrp-2-df-33</td>\n",
       "      <td>df-2</td>\n",
       "      <td>-48.054989</td>\n",
       "      <td>-15.838145</td>\n",
       "      <td>Taguatinga</td>\n",
       "      <td>Taguatinga</td>\n",
       "      <td>180</td>\n",
       "      <td>2</td>\n",
       "      <td>-48.118195</td>\n",
       "      <td>-15.850772</td>\n",
       "    </tr>\n",
       "    <tr>\n",
       "      <th>2</th>\n",
       "      <td>cvrp-2-df-33</td>\n",
       "      <td>df-2</td>\n",
       "      <td>-48.054989</td>\n",
       "      <td>-15.838145</td>\n",
       "      <td>Taguatinga</td>\n",
       "      <td>Taguatinga</td>\n",
       "      <td>180</td>\n",
       "      <td>1</td>\n",
       "      <td>-48.112483</td>\n",
       "      <td>-15.847871</td>\n",
       "    </tr>\n",
       "    <tr>\n",
       "      <th>3</th>\n",
       "      <td>cvrp-2-df-33</td>\n",
       "      <td>df-2</td>\n",
       "      <td>-48.054989</td>\n",
       "      <td>-15.838145</td>\n",
       "      <td>Taguatinga</td>\n",
       "      <td>Taguatinga</td>\n",
       "      <td>180</td>\n",
       "      <td>2</td>\n",
       "      <td>-48.118023</td>\n",
       "      <td>-15.846471</td>\n",
       "    </tr>\n",
       "    <tr>\n",
       "      <th>4</th>\n",
       "      <td>cvrp-2-df-33</td>\n",
       "      <td>df-2</td>\n",
       "      <td>-48.054989</td>\n",
       "      <td>-15.838145</td>\n",
       "      <td>Taguatinga</td>\n",
       "      <td>Taguatinga</td>\n",
       "      <td>180</td>\n",
       "      <td>7</td>\n",
       "      <td>-48.114898</td>\n",
       "      <td>-15.858055</td>\n",
       "    </tr>\n",
       "  </tbody>\n",
       "</table>\n",
       "</div>"
      ],
      "text/plain": [
       "           name region   hub_long    hub_lat    hub_city  hub_suburb  \\\n",
       "0  cvrp-2-df-33   df-2 -48.054989 -15.838145  Taguatinga  Taguatinga   \n",
       "1  cvrp-2-df-33   df-2 -48.054989 -15.838145  Taguatinga  Taguatinga   \n",
       "2  cvrp-2-df-33   df-2 -48.054989 -15.838145  Taguatinga  Taguatinga   \n",
       "3  cvrp-2-df-33   df-2 -48.054989 -15.838145  Taguatinga  Taguatinga   \n",
       "4  cvrp-2-df-33   df-2 -48.054989 -15.838145  Taguatinga  Taguatinga   \n",
       "\n",
       "   vehicle_capacity  delivery_size  delivery_lng  delivery_lat  \n",
       "0               180              9    -48.116189    -15.848929  \n",
       "1               180              2    -48.118195    -15.850772  \n",
       "2               180              1    -48.112483    -15.847871  \n",
       "3               180              2    -48.118023    -15.846471  \n",
       "4               180              7    -48.114898    -15.858055  "
      ]
     },
     "execution_count": 21,
     "metadata": {},
     "output_type": "execute_result"
    }
   ],
   "source": [
    "df = pd.merge(left = df, right = hub_df, how = \"inner\", on = \"region\")\n",
    "df = df[[\"name\", \"region\",\"hub_long\", \"hub_lat\", \"hub_city\", \"hub_suburb\", \"vehicle_capacity\", \"delivery_size\", \"delivery_lng\", \"delivery_lat\"]]\n",
    "df.head()\n",
    "    "
   ]
  },
  {
   "cell_type": "markdown",
   "id": "92a8d034",
   "metadata": {
    "papermill": {
     "duration": 0.010661,
     "end_time": "2023-03-07T19:02:11.444600",
     "exception": false,
     "start_time": "2023-03-07T19:02:11.433939",
     "status": "completed"
    },
    "tags": []
   },
   "source": [
    "For the delivery dataset, with over 600 000 entries, the reversed geocodification was done locally on another machine and inserted on a different csv file, the data is available [here](https://raw.githubusercontent.com/andre-marcos-perez/ebac-course-utils/main/dataset/deliveries-geodata.csv)"
   ]
  },
  {
   "cell_type": "code",
   "execution_count": null,
   "id": "a56fcec0",
   "metadata": {
    "papermill": {
     "duration": 0.011045,
     "end_time": "2023-03-07T19:02:11.466375",
     "exception": false,
     "start_time": "2023-03-07T19:02:11.455330",
     "status": "completed"
    },
    "tags": []
   },
   "outputs": [],
   "source": []
  }
 ],
 "metadata": {
  "kernelspec": {
   "display_name": "Python 3",
   "language": "python",
   "name": "python3"
  },
  "language_info": {
   "codemirror_mode": {
    "name": "ipython",
    "version": 3
   },
   "file_extension": ".py",
   "mimetype": "text/x-python",
   "name": "python",
   "nbconvert_exporter": "python",
   "pygments_lexer": "ipython3",
   "version": "3.7.12"
  },
  "papermill": {
   "default_parameters": {},
   "duration": 24.238691,
   "end_time": "2023-03-07T19:02:12.704363",
   "environment_variables": {},
   "exception": null,
   "input_path": "__notebook__.ipynb",
   "output_path": "__notebook__.ipynb",
   "parameters": {},
   "start_time": "2023-03-07T19:01:48.465672",
   "version": "2.4.0"
  }
 },
 "nbformat": 4,
 "nbformat_minor": 5
}
