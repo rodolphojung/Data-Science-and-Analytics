{
 "cells": [
  {
   "cell_type": "markdown",
   "id": "c90542cb",
   "metadata": {
    "_cell_guid": "b1076dfc-b9ad-4769-8c92-a6c4dae69d19",
    "_uuid": "8f2839f25d086af736a60e9eeb907d3b93b6e0e5",
    "papermill": {
     "duration": 0.009823,
     "end_time": "2023-03-07T19:21:00.618185",
     "exception": false,
     "start_time": "2023-03-07T19:21:00.608362",
     "status": "completed"
    },
    "tags": []
   },
   "source": [
    "## Author: Rodolpho Justino\n",
    "### Data Analyst / Data Scientist\n",
    "\n",
    "This is an exploratory data analysis of a logistics database from a company called loggi to find some insights about the dataset, the data is available [here](https://www.kaggle.com/datasets/franklinposso/loggi-deliveries)\n",
    "\n",
    "\n",
    "The first step is to load the libraries"
   ]
  },
  {
   "cell_type": "code",
   "execution_count": 1,
   "id": "bfd04685",
   "metadata": {
    "execution": {
     "iopub.execute_input": "2023-03-07T19:21:00.637749Z",
     "iopub.status.busy": "2023-03-07T19:21:00.637325Z",
     "iopub.status.idle": "2023-03-07T19:21:02.309303Z",
     "shell.execute_reply": "2023-03-07T19:21:02.307846Z"
    },
    "papermill": {
     "duration": 1.685609,
     "end_time": "2023-03-07T19:21:02.312685",
     "exception": false,
     "start_time": "2023-03-07T19:21:00.627076",
     "status": "completed"
    },
    "tags": []
   },
   "outputs": [],
   "source": [
    "import pandas as pd\n",
    "import numpy as np\n",
    "import json\n",
    "import geopy\n",
    "from geopy.geocoders import Nominatim\n",
    "from geopy.extra.rate_limiter import RateLimiter\n",
    "from numpy import random\n",
    "import matplotlib.pyplot as plt\n",
    "import seaborn as sns\n",
    "from scipy.stats import pearsonr\n",
    "from scipy import stats\n",
    "import sklearn as skl"
   ]
  },
  {
   "cell_type": "code",
   "execution_count": 2,
   "id": "050fb096",
   "metadata": {
    "execution": {
     "iopub.execute_input": "2023-03-07T19:21:02.332741Z",
     "iopub.status.busy": "2023-03-07T19:21:02.332101Z",
     "iopub.status.idle": "2023-03-07T19:21:06.113159Z",
     "shell.execute_reply": "2023-03-07T19:21:06.111457Z"
    },
    "papermill": {
     "duration": 3.794295,
     "end_time": "2023-03-07T19:21:06.116150",
     "exception": false,
     "start_time": "2023-03-07T19:21:02.321855",
     "status": "completed"
    },
    "tags": []
   },
   "outputs": [],
   "source": [
    "!wget -q \"https://raw.githubusercontent.com/andre-marcos-perez/ebac-course-utils/main/dataset/deliveries.json\" -O deliveries.json "
   ]
  },
  {
   "cell_type": "code",
   "execution_count": 3,
   "id": "810d973a",
   "metadata": {
    "execution": {
     "iopub.execute_input": "2023-03-07T19:21:06.144313Z",
     "iopub.status.busy": "2023-03-07T19:21:06.143775Z",
     "iopub.status.idle": "2023-03-07T19:21:09.407173Z",
     "shell.execute_reply": "2023-03-07T19:21:09.406227Z"
    },
    "papermill": {
     "duration": 3.283463,
     "end_time": "2023-03-07T19:21:09.410205",
     "exception": false,
     "start_time": "2023-03-07T19:21:06.126742",
     "status": "completed"
    },
    "tags": []
   },
   "outputs": [],
   "source": [
    "with open('deliveries.json', mode='r', encoding = 'utf8') as file:\n",
    "    data = json.load(file)"
   ]
  },
  {
   "cell_type": "code",
   "execution_count": 4,
   "id": "bbc2ee6d",
   "metadata": {
    "execution": {
     "iopub.execute_input": "2023-03-07T19:21:09.430266Z",
     "iopub.status.busy": "2023-03-07T19:21:09.429621Z",
     "iopub.status.idle": "2023-03-07T19:21:09.436877Z",
     "shell.execute_reply": "2023-03-07T19:21:09.435793Z"
    },
    "papermill": {
     "duration": 0.020084,
     "end_time": "2023-03-07T19:21:09.439315",
     "exception": false,
     "start_time": "2023-03-07T19:21:09.419231",
     "status": "completed"
    },
    "tags": []
   },
   "outputs": [
    {
     "data": {
      "text/plain": [
       "199"
      ]
     },
     "execution_count": 4,
     "metadata": {},
     "output_type": "execute_result"
    }
   ],
   "source": [
    "len(data)"
   ]
  },
  {
   "cell_type": "code",
   "execution_count": 5,
   "id": "9bd7c96f",
   "metadata": {
    "execution": {
     "iopub.execute_input": "2023-03-07T19:21:09.459610Z",
     "iopub.status.busy": "2023-03-07T19:21:09.458861Z",
     "iopub.status.idle": "2023-03-07T19:21:09.471252Z",
     "shell.execute_reply": "2023-03-07T19:21:09.469372Z"
    },
    "papermill": {
     "duration": 0.026221,
     "end_time": "2023-03-07T19:21:09.474400",
     "exception": false,
     "start_time": "2023-03-07T19:21:09.448179",
     "status": "completed"
    },
    "tags": []
   },
   "outputs": [],
   "source": [
    "df = pd.DataFrame(data)"
   ]
  },
  {
   "cell_type": "code",
   "execution_count": 6,
   "id": "2e453a85",
   "metadata": {
    "execution": {
     "iopub.execute_input": "2023-03-07T19:21:09.494291Z",
     "iopub.status.busy": "2023-03-07T19:21:09.493876Z",
     "iopub.status.idle": "2023-03-07T19:21:09.806186Z",
     "shell.execute_reply": "2023-03-07T19:21:09.805260Z"
    },
    "papermill": {
     "duration": 0.325178,
     "end_time": "2023-03-07T19:21:09.808464",
     "exception": false,
     "start_time": "2023-03-07T19:21:09.483286",
     "status": "completed"
    },
    "tags": []
   },
   "outputs": [
    {
     "data": {
      "text/html": [
       "<div>\n",
       "<style scoped>\n",
       "    .dataframe tbody tr th:only-of-type {\n",
       "        vertical-align: middle;\n",
       "    }\n",
       "\n",
       "    .dataframe tbody tr th {\n",
       "        vertical-align: top;\n",
       "    }\n",
       "\n",
       "    .dataframe thead th {\n",
       "        text-align: right;\n",
       "    }\n",
       "</style>\n",
       "<table border=\"1\" class=\"dataframe\">\n",
       "  <thead>\n",
       "    <tr style=\"text-align: right;\">\n",
       "      <th></th>\n",
       "      <th>name</th>\n",
       "      <th>region</th>\n",
       "      <th>origin</th>\n",
       "      <th>vehicle_capacity</th>\n",
       "      <th>deliveries</th>\n",
       "    </tr>\n",
       "  </thead>\n",
       "  <tbody>\n",
       "    <tr>\n",
       "      <th>0</th>\n",
       "      <td>cvrp-2-df-33</td>\n",
       "      <td>df-2</td>\n",
       "      <td>{'lng': -48.05498915846707, 'lat': -15.8381445...</td>\n",
       "      <td>180</td>\n",
       "      <td>[{'id': '313483a19d2f8d65cd5024c8d215cfbd', 'p...</td>\n",
       "    </tr>\n",
       "    <tr>\n",
       "      <th>1</th>\n",
       "      <td>cvrp-2-df-73</td>\n",
       "      <td>df-2</td>\n",
       "      <td>{'lng': -48.05498915846707, 'lat': -15.8381445...</td>\n",
       "      <td>180</td>\n",
       "      <td>[{'id': 'bf3fc630b1c29601a4caf1bdd474b85', 'po...</td>\n",
       "    </tr>\n",
       "    <tr>\n",
       "      <th>2</th>\n",
       "      <td>cvrp-2-df-20</td>\n",
       "      <td>df-2</td>\n",
       "      <td>{'lng': -48.05498915846707, 'lat': -15.8381445...</td>\n",
       "      <td>180</td>\n",
       "      <td>[{'id': 'b30f1145a2ba4e0b9ac0162b68d045c3', 'p...</td>\n",
       "    </tr>\n",
       "    <tr>\n",
       "      <th>3</th>\n",
       "      <td>cvrp-1-df-71</td>\n",
       "      <td>df-1</td>\n",
       "      <td>{'lng': -47.89366206897872, 'lat': -15.8051175...</td>\n",
       "      <td>180</td>\n",
       "      <td>[{'id': 'be3ed547394196c12c7c27c89ac74ed6', 'p...</td>\n",
       "    </tr>\n",
       "    <tr>\n",
       "      <th>4</th>\n",
       "      <td>cvrp-2-df-87</td>\n",
       "      <td>df-2</td>\n",
       "      <td>{'lng': -48.05498915846707, 'lat': -15.8381445...</td>\n",
       "      <td>180</td>\n",
       "      <td>[{'id': 'a6328fb4dc0654eb28a996a270b0f6e4', 'p...</td>\n",
       "    </tr>\n",
       "  </tbody>\n",
       "</table>\n",
       "</div>"
      ],
      "text/plain": [
       "           name region                                             origin  \\\n",
       "0  cvrp-2-df-33   df-2  {'lng': -48.05498915846707, 'lat': -15.8381445...   \n",
       "1  cvrp-2-df-73   df-2  {'lng': -48.05498915846707, 'lat': -15.8381445...   \n",
       "2  cvrp-2-df-20   df-2  {'lng': -48.05498915846707, 'lat': -15.8381445...   \n",
       "3  cvrp-1-df-71   df-1  {'lng': -47.89366206897872, 'lat': -15.8051175...   \n",
       "4  cvrp-2-df-87   df-2  {'lng': -48.05498915846707, 'lat': -15.8381445...   \n",
       "\n",
       "   vehicle_capacity                                         deliveries  \n",
       "0               180  [{'id': '313483a19d2f8d65cd5024c8d215cfbd', 'p...  \n",
       "1               180  [{'id': 'bf3fc630b1c29601a4caf1bdd474b85', 'po...  \n",
       "2               180  [{'id': 'b30f1145a2ba4e0b9ac0162b68d045c3', 'p...  \n",
       "3               180  [{'id': 'be3ed547394196c12c7c27c89ac74ed6', 'p...  \n",
       "4               180  [{'id': 'a6328fb4dc0654eb28a996a270b0f6e4', 'p...  "
      ]
     },
     "execution_count": 6,
     "metadata": {},
     "output_type": "execute_result"
    }
   ],
   "source": [
    "df.head()"
   ]
  },
  {
   "cell_type": "markdown",
   "id": "cf75ee14",
   "metadata": {
    "papermill": {
     "duration": 0.008743,
     "end_time": "2023-03-07T19:21:09.827706",
     "exception": false,
     "start_time": "2023-03-07T19:21:09.818963",
     "status": "completed"
    },
    "tags": []
   },
   "source": [
    "We see that not all the data was retrieved correctly, for example, deliveries has a lot of values inside the column, our need is to \"explode\" the column in order to retrieve the data.\n",
    "\n",
    "first we perform the operation on another column, the origin one"
   ]
  },
  {
   "cell_type": "code",
   "execution_count": 7,
   "id": "45fd9bd6",
   "metadata": {
    "execution": {
     "iopub.execute_input": "2023-03-07T19:21:09.848372Z",
     "iopub.status.busy": "2023-03-07T19:21:09.847570Z",
     "iopub.status.idle": "2023-03-07T19:21:09.866034Z",
     "shell.execute_reply": "2023-03-07T19:21:09.864214Z"
    },
    "papermill": {
     "duration": 0.031984,
     "end_time": "2023-03-07T19:21:09.868825",
     "exception": false,
     "start_time": "2023-03-07T19:21:09.836841",
     "status": "completed"
    },
    "tags": []
   },
   "outputs": [
    {
     "data": {
      "text/html": [
       "<div>\n",
       "<style scoped>\n",
       "    .dataframe tbody tr th:only-of-type {\n",
       "        vertical-align: middle;\n",
       "    }\n",
       "\n",
       "    .dataframe tbody tr th {\n",
       "        vertical-align: top;\n",
       "    }\n",
       "\n",
       "    .dataframe thead th {\n",
       "        text-align: right;\n",
       "    }\n",
       "</style>\n",
       "<table border=\"1\" class=\"dataframe\">\n",
       "  <thead>\n",
       "    <tr style=\"text-align: right;\">\n",
       "      <th></th>\n",
       "      <th>lng</th>\n",
       "      <th>lat</th>\n",
       "    </tr>\n",
       "  </thead>\n",
       "  <tbody>\n",
       "    <tr>\n",
       "      <th>0</th>\n",
       "      <td>-48.054989</td>\n",
       "      <td>-15.838145</td>\n",
       "    </tr>\n",
       "    <tr>\n",
       "      <th>1</th>\n",
       "      <td>-48.054989</td>\n",
       "      <td>-15.838145</td>\n",
       "    </tr>\n",
       "    <tr>\n",
       "      <th>2</th>\n",
       "      <td>-48.054989</td>\n",
       "      <td>-15.838145</td>\n",
       "    </tr>\n",
       "    <tr>\n",
       "      <th>3</th>\n",
       "      <td>-47.893662</td>\n",
       "      <td>-15.805118</td>\n",
       "    </tr>\n",
       "    <tr>\n",
       "      <th>4</th>\n",
       "      <td>-48.054989</td>\n",
       "      <td>-15.838145</td>\n",
       "    </tr>\n",
       "  </tbody>\n",
       "</table>\n",
       "</div>"
      ],
      "text/plain": [
       "         lng        lat\n",
       "0 -48.054989 -15.838145\n",
       "1 -48.054989 -15.838145\n",
       "2 -48.054989 -15.838145\n",
       "3 -47.893662 -15.805118\n",
       "4 -48.054989 -15.838145"
      ]
     },
     "execution_count": 7,
     "metadata": {},
     "output_type": "execute_result"
    }
   ],
   "source": [
    "origin_df = pd.json_normalize(df[\"origin\"])\n",
    "origin_df.head()"
   ]
  },
  {
   "cell_type": "markdown",
   "id": "eabefe2d",
   "metadata": {
    "papermill": {
     "duration": 0.009321,
     "end_time": "2023-03-07T19:21:09.887524",
     "exception": false,
     "start_time": "2023-03-07T19:21:09.878203",
     "status": "completed"
    },
    "tags": []
   },
   "source": [
    "The procedure worked, so we can merge the df with the previous one!"
   ]
  },
  {
   "cell_type": "code",
   "execution_count": 8,
   "id": "212cdc1f",
   "metadata": {
    "execution": {
     "iopub.execute_input": "2023-03-07T19:21:09.908662Z",
     "iopub.status.busy": "2023-03-07T19:21:09.907942Z",
     "iopub.status.idle": "2023-03-07T19:21:10.211808Z",
     "shell.execute_reply": "2023-03-07T19:21:10.210342Z"
    },
    "papermill": {
     "duration": 0.318075,
     "end_time": "2023-03-07T19:21:10.214719",
     "exception": false,
     "start_time": "2023-03-07T19:21:09.896644",
     "status": "completed"
    },
    "tags": []
   },
   "outputs": [
    {
     "data": {
      "text/html": [
       "<div>\n",
       "<style scoped>\n",
       "    .dataframe tbody tr th:only-of-type {\n",
       "        vertical-align: middle;\n",
       "    }\n",
       "\n",
       "    .dataframe tbody tr th {\n",
       "        vertical-align: top;\n",
       "    }\n",
       "\n",
       "    .dataframe thead th {\n",
       "        text-align: right;\n",
       "    }\n",
       "</style>\n",
       "<table border=\"1\" class=\"dataframe\">\n",
       "  <thead>\n",
       "    <tr style=\"text-align: right;\">\n",
       "      <th></th>\n",
       "      <th>name</th>\n",
       "      <th>region</th>\n",
       "      <th>origin</th>\n",
       "      <th>vehicle_capacity</th>\n",
       "      <th>deliveries</th>\n",
       "      <th>lng</th>\n",
       "      <th>lat</th>\n",
       "    </tr>\n",
       "  </thead>\n",
       "  <tbody>\n",
       "    <tr>\n",
       "      <th>0</th>\n",
       "      <td>cvrp-2-df-33</td>\n",
       "      <td>df-2</td>\n",
       "      <td>{'lng': -48.05498915846707, 'lat': -15.8381445...</td>\n",
       "      <td>180</td>\n",
       "      <td>[{'id': '313483a19d2f8d65cd5024c8d215cfbd', 'p...</td>\n",
       "      <td>-48.054989</td>\n",
       "      <td>-15.838145</td>\n",
       "    </tr>\n",
       "    <tr>\n",
       "      <th>1</th>\n",
       "      <td>cvrp-2-df-73</td>\n",
       "      <td>df-2</td>\n",
       "      <td>{'lng': -48.05498915846707, 'lat': -15.8381445...</td>\n",
       "      <td>180</td>\n",
       "      <td>[{'id': 'bf3fc630b1c29601a4caf1bdd474b85', 'po...</td>\n",
       "      <td>-48.054989</td>\n",
       "      <td>-15.838145</td>\n",
       "    </tr>\n",
       "    <tr>\n",
       "      <th>2</th>\n",
       "      <td>cvrp-2-df-20</td>\n",
       "      <td>df-2</td>\n",
       "      <td>{'lng': -48.05498915846707, 'lat': -15.8381445...</td>\n",
       "      <td>180</td>\n",
       "      <td>[{'id': 'b30f1145a2ba4e0b9ac0162b68d045c3', 'p...</td>\n",
       "      <td>-48.054989</td>\n",
       "      <td>-15.838145</td>\n",
       "    </tr>\n",
       "    <tr>\n",
       "      <th>3</th>\n",
       "      <td>cvrp-1-df-71</td>\n",
       "      <td>df-1</td>\n",
       "      <td>{'lng': -47.89366206897872, 'lat': -15.8051175...</td>\n",
       "      <td>180</td>\n",
       "      <td>[{'id': 'be3ed547394196c12c7c27c89ac74ed6', 'p...</td>\n",
       "      <td>-47.893662</td>\n",
       "      <td>-15.805118</td>\n",
       "    </tr>\n",
       "    <tr>\n",
       "      <th>4</th>\n",
       "      <td>cvrp-2-df-87</td>\n",
       "      <td>df-2</td>\n",
       "      <td>{'lng': -48.05498915846707, 'lat': -15.8381445...</td>\n",
       "      <td>180</td>\n",
       "      <td>[{'id': 'a6328fb4dc0654eb28a996a270b0f6e4', 'p...</td>\n",
       "      <td>-48.054989</td>\n",
       "      <td>-15.838145</td>\n",
       "    </tr>\n",
       "  </tbody>\n",
       "</table>\n",
       "</div>"
      ],
      "text/plain": [
       "           name region                                             origin  \\\n",
       "0  cvrp-2-df-33   df-2  {'lng': -48.05498915846707, 'lat': -15.8381445...   \n",
       "1  cvrp-2-df-73   df-2  {'lng': -48.05498915846707, 'lat': -15.8381445...   \n",
       "2  cvrp-2-df-20   df-2  {'lng': -48.05498915846707, 'lat': -15.8381445...   \n",
       "3  cvrp-1-df-71   df-1  {'lng': -47.89366206897872, 'lat': -15.8051175...   \n",
       "4  cvrp-2-df-87   df-2  {'lng': -48.05498915846707, 'lat': -15.8381445...   \n",
       "\n",
       "   vehicle_capacity                                         deliveries  \\\n",
       "0               180  [{'id': '313483a19d2f8d65cd5024c8d215cfbd', 'p...   \n",
       "1               180  [{'id': 'bf3fc630b1c29601a4caf1bdd474b85', 'po...   \n",
       "2               180  [{'id': 'b30f1145a2ba4e0b9ac0162b68d045c3', 'p...   \n",
       "3               180  [{'id': 'be3ed547394196c12c7c27c89ac74ed6', 'p...   \n",
       "4               180  [{'id': 'a6328fb4dc0654eb28a996a270b0f6e4', 'p...   \n",
       "\n",
       "         lng        lat  \n",
       "0 -48.054989 -15.838145  \n",
       "1 -48.054989 -15.838145  \n",
       "2 -48.054989 -15.838145  \n",
       "3 -47.893662 -15.805118  \n",
       "4 -48.054989 -15.838145  "
      ]
     },
     "execution_count": 8,
     "metadata": {},
     "output_type": "execute_result"
    }
   ],
   "source": [
    "df = pd.merge(left = df, right = origin_df, how = \"inner\", left_index = True, right_index = True)\n",
    "df.head()"
   ]
  },
  {
   "cell_type": "markdown",
   "id": "367862c8",
   "metadata": {
    "papermill": {
     "duration": 0.009136,
     "end_time": "2023-03-07T19:21:10.234467",
     "exception": false,
     "start_time": "2023-03-07T19:21:10.225331",
     "status": "completed"
    },
    "tags": []
   },
   "source": [
    "We now remove the duplicate Origin column and rename the other ones"
   ]
  },
  {
   "cell_type": "code",
   "execution_count": 9,
   "id": "473a608e",
   "metadata": {
    "execution": {
     "iopub.execute_input": "2023-03-07T19:21:10.255890Z",
     "iopub.status.busy": "2023-03-07T19:21:10.255448Z",
     "iopub.status.idle": "2023-03-07T19:21:10.563966Z",
     "shell.execute_reply": "2023-03-07T19:21:10.562273Z"
    },
    "papermill": {
     "duration": 0.323002,
     "end_time": "2023-03-07T19:21:10.567106",
     "exception": false,
     "start_time": "2023-03-07T19:21:10.244104",
     "status": "completed"
    },
    "tags": []
   },
   "outputs": [
    {
     "data": {
      "text/html": [
       "<div>\n",
       "<style scoped>\n",
       "    .dataframe tbody tr th:only-of-type {\n",
       "        vertical-align: middle;\n",
       "    }\n",
       "\n",
       "    .dataframe tbody tr th {\n",
       "        vertical-align: top;\n",
       "    }\n",
       "\n",
       "    .dataframe thead th {\n",
       "        text-align: right;\n",
       "    }\n",
       "</style>\n",
       "<table border=\"1\" class=\"dataframe\">\n",
       "  <thead>\n",
       "    <tr style=\"text-align: right;\">\n",
       "      <th></th>\n",
       "      <th>name</th>\n",
       "      <th>region</th>\n",
       "      <th>hub_long</th>\n",
       "      <th>hub_lat</th>\n",
       "      <th>vehicle_capacity</th>\n",
       "      <th>deliveries</th>\n",
       "    </tr>\n",
       "  </thead>\n",
       "  <tbody>\n",
       "    <tr>\n",
       "      <th>0</th>\n",
       "      <td>cvrp-2-df-33</td>\n",
       "      <td>df-2</td>\n",
       "      <td>-48.054989</td>\n",
       "      <td>-15.838145</td>\n",
       "      <td>180</td>\n",
       "      <td>[{'id': '313483a19d2f8d65cd5024c8d215cfbd', 'p...</td>\n",
       "    </tr>\n",
       "    <tr>\n",
       "      <th>1</th>\n",
       "      <td>cvrp-2-df-73</td>\n",
       "      <td>df-2</td>\n",
       "      <td>-48.054989</td>\n",
       "      <td>-15.838145</td>\n",
       "      <td>180</td>\n",
       "      <td>[{'id': 'bf3fc630b1c29601a4caf1bdd474b85', 'po...</td>\n",
       "    </tr>\n",
       "    <tr>\n",
       "      <th>2</th>\n",
       "      <td>cvrp-2-df-20</td>\n",
       "      <td>df-2</td>\n",
       "      <td>-48.054989</td>\n",
       "      <td>-15.838145</td>\n",
       "      <td>180</td>\n",
       "      <td>[{'id': 'b30f1145a2ba4e0b9ac0162b68d045c3', 'p...</td>\n",
       "    </tr>\n",
       "    <tr>\n",
       "      <th>3</th>\n",
       "      <td>cvrp-1-df-71</td>\n",
       "      <td>df-1</td>\n",
       "      <td>-47.893662</td>\n",
       "      <td>-15.805118</td>\n",
       "      <td>180</td>\n",
       "      <td>[{'id': 'be3ed547394196c12c7c27c89ac74ed6', 'p...</td>\n",
       "    </tr>\n",
       "    <tr>\n",
       "      <th>4</th>\n",
       "      <td>cvrp-2-df-87</td>\n",
       "      <td>df-2</td>\n",
       "      <td>-48.054989</td>\n",
       "      <td>-15.838145</td>\n",
       "      <td>180</td>\n",
       "      <td>[{'id': 'a6328fb4dc0654eb28a996a270b0f6e4', 'p...</td>\n",
       "    </tr>\n",
       "  </tbody>\n",
       "</table>\n",
       "</div>"
      ],
      "text/plain": [
       "           name region   hub_long    hub_lat  vehicle_capacity  \\\n",
       "0  cvrp-2-df-33   df-2 -48.054989 -15.838145               180   \n",
       "1  cvrp-2-df-73   df-2 -48.054989 -15.838145               180   \n",
       "2  cvrp-2-df-20   df-2 -48.054989 -15.838145               180   \n",
       "3  cvrp-1-df-71   df-1 -47.893662 -15.805118               180   \n",
       "4  cvrp-2-df-87   df-2 -48.054989 -15.838145               180   \n",
       "\n",
       "                                          deliveries  \n",
       "0  [{'id': '313483a19d2f8d65cd5024c8d215cfbd', 'p...  \n",
       "1  [{'id': 'bf3fc630b1c29601a4caf1bdd474b85', 'po...  \n",
       "2  [{'id': 'b30f1145a2ba4e0b9ac0162b68d045c3', 'p...  \n",
       "3  [{'id': 'be3ed547394196c12c7c27c89ac74ed6', 'p...  \n",
       "4  [{'id': 'a6328fb4dc0654eb28a996a270b0f6e4', 'p...  "
      ]
     },
     "execution_count": 9,
     "metadata": {},
     "output_type": "execute_result"
    }
   ],
   "source": [
    "df = df.drop(\"origin\", axis = 1)\n",
    "df = df[[\"name\",\"region\", \"lng\", \"lat\", \"vehicle_capacity\", \"deliveries\"]]\n",
    "df.rename(columns = {\"lng\":\"hub_long\",\"lat\":\"hub_lat\"}, inplace = True)\n",
    "df.head()"
   ]
  },
  {
   "cell_type": "markdown",
   "id": "26277e4e",
   "metadata": {
    "papermill": {
     "duration": 0.00962,
     "end_time": "2023-03-07T19:21:10.587388",
     "exception": false,
     "start_time": "2023-03-07T19:21:10.577768",
     "status": "completed"
    },
    "tags": []
   },
   "source": [
    "Now, \"exploding\" the deliveries column, we perform the following operations"
   ]
  },
  {
   "cell_type": "code",
   "execution_count": 10,
   "id": "1778d54b",
   "metadata": {
    "execution": {
     "iopub.execute_input": "2023-03-07T19:21:10.609543Z",
     "iopub.status.busy": "2023-03-07T19:21:10.609083Z",
     "iopub.status.idle": "2023-03-07T19:21:10.817976Z",
     "shell.execute_reply": "2023-03-07T19:21:10.816647Z"
    },
    "papermill": {
     "duration": 0.223684,
     "end_time": "2023-03-07T19:21:10.820841",
     "exception": false,
     "start_time": "2023-03-07T19:21:10.597157",
     "status": "completed"
    },
    "tags": []
   },
   "outputs": [
    {
     "data": {
      "text/html": [
       "<div>\n",
       "<style scoped>\n",
       "    .dataframe tbody tr th:only-of-type {\n",
       "        vertical-align: middle;\n",
       "    }\n",
       "\n",
       "    .dataframe tbody tr th {\n",
       "        vertical-align: top;\n",
       "    }\n",
       "\n",
       "    .dataframe thead th {\n",
       "        text-align: right;\n",
       "    }\n",
       "</style>\n",
       "<table border=\"1\" class=\"dataframe\">\n",
       "  <thead>\n",
       "    <tr style=\"text-align: right;\">\n",
       "      <th></th>\n",
       "      <th>deliveries</th>\n",
       "    </tr>\n",
       "  </thead>\n",
       "  <tbody>\n",
       "    <tr>\n",
       "      <th>0</th>\n",
       "      <td>{'id': '313483a19d2f8d65cd5024c8d215cfbd', 'po...</td>\n",
       "    </tr>\n",
       "    <tr>\n",
       "      <th>0</th>\n",
       "      <td>{'id': '320c94b17aa685c939b3f3244c3099de', 'po...</td>\n",
       "    </tr>\n",
       "    <tr>\n",
       "      <th>0</th>\n",
       "      <td>{'id': '3663b42f4b8decb33059febaba46d5c8', 'po...</td>\n",
       "    </tr>\n",
       "    <tr>\n",
       "      <th>0</th>\n",
       "      <td>{'id': 'e11ab58363c38d6abc90d5fba87b7d7', 'poi...</td>\n",
       "    </tr>\n",
       "    <tr>\n",
       "      <th>0</th>\n",
       "      <td>{'id': '54cb45b7bbbd4e34e7150900f92d7f4b', 'po...</td>\n",
       "    </tr>\n",
       "  </tbody>\n",
       "</table>\n",
       "</div>"
      ],
      "text/plain": [
       "                                          deliveries\n",
       "0  {'id': '313483a19d2f8d65cd5024c8d215cfbd', 'po...\n",
       "0  {'id': '320c94b17aa685c939b3f3244c3099de', 'po...\n",
       "0  {'id': '3663b42f4b8decb33059febaba46d5c8', 'po...\n",
       "0  {'id': 'e11ab58363c38d6abc90d5fba87b7d7', 'poi...\n",
       "0  {'id': '54cb45b7bbbd4e34e7150900f92d7f4b', 'po..."
      ]
     },
     "execution_count": 10,
     "metadata": {},
     "output_type": "execute_result"
    }
   ],
   "source": [
    "df_exploded = df[[\"deliveries\"]].explode(\"deliveries\")\n",
    "df_exploded.head()"
   ]
  },
  {
   "cell_type": "code",
   "execution_count": 11,
   "id": "79a17428",
   "metadata": {
    "execution": {
     "iopub.execute_input": "2023-03-07T19:21:10.844065Z",
     "iopub.status.busy": "2023-03-07T19:21:10.843638Z",
     "iopub.status.idle": "2023-03-07T19:21:11.735054Z",
     "shell.execute_reply": "2023-03-07T19:21:11.733579Z"
    },
    "papermill": {
     "duration": 0.908068,
     "end_time": "2023-03-07T19:21:11.738860",
     "exception": false,
     "start_time": "2023-03-07T19:21:10.830792",
     "status": "completed"
    },
    "tags": []
   },
   "outputs": [
    {
     "data": {
      "text/html": [
       "<div>\n",
       "<style scoped>\n",
       "    .dataframe tbody tr th:only-of-type {\n",
       "        vertical-align: middle;\n",
       "    }\n",
       "\n",
       "    .dataframe tbody tr th {\n",
       "        vertical-align: top;\n",
       "    }\n",
       "\n",
       "    .dataframe thead th {\n",
       "        text-align: right;\n",
       "    }\n",
       "</style>\n",
       "<table border=\"1\" class=\"dataframe\">\n",
       "  <thead>\n",
       "    <tr style=\"text-align: right;\">\n",
       "      <th></th>\n",
       "      <th>delivery_size</th>\n",
       "      <th>delivery_lng</th>\n",
       "      <th>delivery_lat</th>\n",
       "    </tr>\n",
       "  </thead>\n",
       "  <tbody>\n",
       "    <tr>\n",
       "      <th>0</th>\n",
       "      <td>9</td>\n",
       "      <td>-48.116189</td>\n",
       "      <td>-15.848929</td>\n",
       "    </tr>\n",
       "    <tr>\n",
       "      <th>0</th>\n",
       "      <td>2</td>\n",
       "      <td>-48.118195</td>\n",
       "      <td>-15.850772</td>\n",
       "    </tr>\n",
       "    <tr>\n",
       "      <th>0</th>\n",
       "      <td>1</td>\n",
       "      <td>-48.112483</td>\n",
       "      <td>-15.847871</td>\n",
       "    </tr>\n",
       "    <tr>\n",
       "      <th>0</th>\n",
       "      <td>2</td>\n",
       "      <td>-48.118023</td>\n",
       "      <td>-15.846471</td>\n",
       "    </tr>\n",
       "    <tr>\n",
       "      <th>0</th>\n",
       "      <td>7</td>\n",
       "      <td>-48.114898</td>\n",
       "      <td>-15.858055</td>\n",
       "    </tr>\n",
       "  </tbody>\n",
       "</table>\n",
       "</div>"
      ],
      "text/plain": [
       "   delivery_size  delivery_lng  delivery_lat\n",
       "0              9    -48.116189    -15.848929\n",
       "0              2    -48.118195    -15.850772\n",
       "0              1    -48.112483    -15.847871\n",
       "0              2    -48.118023    -15.846471\n",
       "0              7    -48.114898    -15.858055"
      ]
     },
     "execution_count": 11,
     "metadata": {},
     "output_type": "execute_result"
    }
   ],
   "source": [
    "new_df = pd.concat([pd.DataFrame(df_exploded[\"deliveries\"].apply(lambda record: record[\"size\"])).rename(columns={\"deliveries\": \"delivery_size\"}),\n",
    "                    pd.DataFrame(df_exploded[\"deliveries\"].apply(lambda record: record[\"point\"][\"lng\"])).rename(columns={\"deliveries\": \"delivery_lng\"}),\n",
    "                    pd.DataFrame(df_exploded[\"deliveries\"].apply(lambda record: record[\"point\"][\"lat\"])).rename(columns={\"deliveries\": \"delivery_lat\"})\n",
    "                   ], axis = 1)\n",
    "new_df.head()"
   ]
  },
  {
   "cell_type": "markdown",
   "id": "57c36f7f",
   "metadata": {
    "papermill": {
     "duration": 0.011571,
     "end_time": "2023-03-07T19:21:11.763010",
     "exception": false,
     "start_time": "2023-03-07T19:21:11.751439",
     "status": "completed"
    },
    "tags": []
   },
   "source": [
    "Now that we \"exploded\" the data, we merge it to the previous df"
   ]
  },
  {
   "cell_type": "code",
   "execution_count": 12,
   "id": "11dec564",
   "metadata": {
    "execution": {
     "iopub.execute_input": "2023-03-07T19:21:11.787443Z",
     "iopub.status.busy": "2023-03-07T19:21:11.786561Z",
     "iopub.status.idle": "2023-03-07T19:21:11.902609Z",
     "shell.execute_reply": "2023-03-07T19:21:11.900753Z"
    },
    "papermill": {
     "duration": 0.131097,
     "end_time": "2023-03-07T19:21:11.905521",
     "exception": false,
     "start_time": "2023-03-07T19:21:11.774424",
     "status": "completed"
    },
    "tags": []
   },
   "outputs": [
    {
     "data": {
      "text/html": [
       "<div>\n",
       "<style scoped>\n",
       "    .dataframe tbody tr th:only-of-type {\n",
       "        vertical-align: middle;\n",
       "    }\n",
       "\n",
       "    .dataframe tbody tr th {\n",
       "        vertical-align: top;\n",
       "    }\n",
       "\n",
       "    .dataframe thead th {\n",
       "        text-align: right;\n",
       "    }\n",
       "</style>\n",
       "<table border=\"1\" class=\"dataframe\">\n",
       "  <thead>\n",
       "    <tr style=\"text-align: right;\">\n",
       "      <th></th>\n",
       "      <th>name</th>\n",
       "      <th>region</th>\n",
       "      <th>hub_long</th>\n",
       "      <th>hub_lat</th>\n",
       "      <th>vehicle_capacity</th>\n",
       "      <th>delivery_size</th>\n",
       "      <th>delivery_lng</th>\n",
       "      <th>delivery_lat</th>\n",
       "    </tr>\n",
       "  </thead>\n",
       "  <tbody>\n",
       "    <tr>\n",
       "      <th>0</th>\n",
       "      <td>cvrp-2-df-33</td>\n",
       "      <td>df-2</td>\n",
       "      <td>-48.054989</td>\n",
       "      <td>-15.838145</td>\n",
       "      <td>180</td>\n",
       "      <td>9</td>\n",
       "      <td>-48.116189</td>\n",
       "      <td>-15.848929</td>\n",
       "    </tr>\n",
       "    <tr>\n",
       "      <th>1</th>\n",
       "      <td>cvrp-2-df-33</td>\n",
       "      <td>df-2</td>\n",
       "      <td>-48.054989</td>\n",
       "      <td>-15.838145</td>\n",
       "      <td>180</td>\n",
       "      <td>2</td>\n",
       "      <td>-48.118195</td>\n",
       "      <td>-15.850772</td>\n",
       "    </tr>\n",
       "    <tr>\n",
       "      <th>2</th>\n",
       "      <td>cvrp-2-df-33</td>\n",
       "      <td>df-2</td>\n",
       "      <td>-48.054989</td>\n",
       "      <td>-15.838145</td>\n",
       "      <td>180</td>\n",
       "      <td>1</td>\n",
       "      <td>-48.112483</td>\n",
       "      <td>-15.847871</td>\n",
       "    </tr>\n",
       "    <tr>\n",
       "      <th>3</th>\n",
       "      <td>cvrp-2-df-33</td>\n",
       "      <td>df-2</td>\n",
       "      <td>-48.054989</td>\n",
       "      <td>-15.838145</td>\n",
       "      <td>180</td>\n",
       "      <td>2</td>\n",
       "      <td>-48.118023</td>\n",
       "      <td>-15.846471</td>\n",
       "    </tr>\n",
       "    <tr>\n",
       "      <th>4</th>\n",
       "      <td>cvrp-2-df-33</td>\n",
       "      <td>df-2</td>\n",
       "      <td>-48.054989</td>\n",
       "      <td>-15.838145</td>\n",
       "      <td>180</td>\n",
       "      <td>7</td>\n",
       "      <td>-48.114898</td>\n",
       "      <td>-15.858055</td>\n",
       "    </tr>\n",
       "    <tr>\n",
       "      <th>...</th>\n",
       "      <td>...</td>\n",
       "      <td>...</td>\n",
       "      <td>...</td>\n",
       "      <td>...</td>\n",
       "      <td>...</td>\n",
       "      <td>...</td>\n",
       "      <td>...</td>\n",
       "      <td>...</td>\n",
       "    </tr>\n",
       "    <tr>\n",
       "      <th>636144</th>\n",
       "      <td>cvrp-2-df-62</td>\n",
       "      <td>df-2</td>\n",
       "      <td>-48.054989</td>\n",
       "      <td>-15.838145</td>\n",
       "      <td>180</td>\n",
       "      <td>8</td>\n",
       "      <td>-48.064269</td>\n",
       "      <td>-15.997694</td>\n",
       "    </tr>\n",
       "    <tr>\n",
       "      <th>636145</th>\n",
       "      <td>cvrp-2-df-62</td>\n",
       "      <td>df-2</td>\n",
       "      <td>-48.054989</td>\n",
       "      <td>-15.838145</td>\n",
       "      <td>180</td>\n",
       "      <td>4</td>\n",
       "      <td>-48.065176</td>\n",
       "      <td>-16.003597</td>\n",
       "    </tr>\n",
       "    <tr>\n",
       "      <th>636146</th>\n",
       "      <td>cvrp-2-df-62</td>\n",
       "      <td>df-2</td>\n",
       "      <td>-48.054989</td>\n",
       "      <td>-15.838145</td>\n",
       "      <td>180</td>\n",
       "      <td>9</td>\n",
       "      <td>-48.065841</td>\n",
       "      <td>-16.003808</td>\n",
       "    </tr>\n",
       "    <tr>\n",
       "      <th>636147</th>\n",
       "      <td>cvrp-2-df-62</td>\n",
       "      <td>df-2</td>\n",
       "      <td>-48.054989</td>\n",
       "      <td>-15.838145</td>\n",
       "      <td>180</td>\n",
       "      <td>1</td>\n",
       "      <td>-48.062327</td>\n",
       "      <td>-16.001568</td>\n",
       "    </tr>\n",
       "    <tr>\n",
       "      <th>636148</th>\n",
       "      <td>cvrp-2-df-62</td>\n",
       "      <td>df-2</td>\n",
       "      <td>-48.054989</td>\n",
       "      <td>-15.838145</td>\n",
       "      <td>180</td>\n",
       "      <td>9</td>\n",
       "      <td>-48.059420</td>\n",
       "      <td>-16.009234</td>\n",
       "    </tr>\n",
       "  </tbody>\n",
       "</table>\n",
       "<p>636149 rows × 8 columns</p>\n",
       "</div>"
      ],
      "text/plain": [
       "                name region   hub_long    hub_lat  vehicle_capacity  \\\n",
       "0       cvrp-2-df-33   df-2 -48.054989 -15.838145               180   \n",
       "1       cvrp-2-df-33   df-2 -48.054989 -15.838145               180   \n",
       "2       cvrp-2-df-33   df-2 -48.054989 -15.838145               180   \n",
       "3       cvrp-2-df-33   df-2 -48.054989 -15.838145               180   \n",
       "4       cvrp-2-df-33   df-2 -48.054989 -15.838145               180   \n",
       "...              ...    ...        ...        ...               ...   \n",
       "636144  cvrp-2-df-62   df-2 -48.054989 -15.838145               180   \n",
       "636145  cvrp-2-df-62   df-2 -48.054989 -15.838145               180   \n",
       "636146  cvrp-2-df-62   df-2 -48.054989 -15.838145               180   \n",
       "636147  cvrp-2-df-62   df-2 -48.054989 -15.838145               180   \n",
       "636148  cvrp-2-df-62   df-2 -48.054989 -15.838145               180   \n",
       "\n",
       "        delivery_size  delivery_lng  delivery_lat  \n",
       "0                   9    -48.116189    -15.848929  \n",
       "1                   2    -48.118195    -15.850772  \n",
       "2                   1    -48.112483    -15.847871  \n",
       "3                   2    -48.118023    -15.846471  \n",
       "4                   7    -48.114898    -15.858055  \n",
       "...               ...           ...           ...  \n",
       "636144              8    -48.064269    -15.997694  \n",
       "636145              4    -48.065176    -16.003597  \n",
       "636146              9    -48.065841    -16.003808  \n",
       "636147              1    -48.062327    -16.001568  \n",
       "636148              9    -48.059420    -16.009234  \n",
       "\n",
       "[636149 rows x 8 columns]"
      ]
     },
     "execution_count": 12,
     "metadata": {},
     "output_type": "execute_result"
    }
   ],
   "source": [
    "df = df.drop(\"deliveries\", axis = 1)\n",
    "df = pd.merge(left = df, right = new_df, how = \"right\", left_index = True, right_index = True )\n",
    "df.reset_index(inplace = True, drop = True)\n",
    "df"
   ]
  },
  {
   "cell_type": "code",
   "execution_count": 13,
   "id": "9450dadc",
   "metadata": {
    "execution": {
     "iopub.execute_input": "2023-03-07T19:21:11.928597Z",
     "iopub.status.busy": "2023-03-07T19:21:11.927858Z",
     "iopub.status.idle": "2023-03-07T19:21:12.017502Z",
     "shell.execute_reply": "2023-03-07T19:21:12.015499Z"
    },
    "papermill": {
     "duration": 0.104281,
     "end_time": "2023-03-07T19:21:12.020337",
     "exception": false,
     "start_time": "2023-03-07T19:21:11.916056",
     "status": "completed"
    },
    "tags": []
   },
   "outputs": [
    {
     "name": "stdout",
     "output_type": "stream",
     "text": [
      "<class 'pandas.core.frame.DataFrame'>\n",
      "RangeIndex: 636149 entries, 0 to 636148\n",
      "Data columns (total 8 columns):\n",
      " #   Column            Non-Null Count   Dtype  \n",
      "---  ------            --------------   -----  \n",
      " 0   name              636149 non-null  object \n",
      " 1   region            636149 non-null  object \n",
      " 2   hub_long          636149 non-null  float64\n",
      " 3   hub_lat           636149 non-null  float64\n",
      " 4   vehicle_capacity  636149 non-null  int64  \n",
      " 5   delivery_size     636149 non-null  int64  \n",
      " 6   delivery_lng      636149 non-null  float64\n",
      " 7   delivery_lat      636149 non-null  float64\n",
      "dtypes: float64(4), int64(2), object(2)\n",
      "memory usage: 38.8+ MB\n"
     ]
    }
   ],
   "source": [
    "df.info()"
   ]
  },
  {
   "cell_type": "markdown",
   "id": "929d84a2",
   "metadata": {
    "papermill": {
     "duration": 0.010028,
     "end_time": "2023-03-07T19:21:12.041018",
     "exception": false,
     "start_time": "2023-03-07T19:21:12.030990",
     "status": "completed"
    },
    "tags": []
   },
   "source": [
    "From the info above we can take different things:\n",
    "\n",
    "* The data types are consistent with the data, no changes or conversions needed;\n",
    "* There is no null data;\n",
    "* there are 636 149 rows, each row represent a different delivery."
   ]
  },
  {
   "cell_type": "markdown",
   "id": "b0ed400f",
   "metadata": {
    "papermill": {
     "duration": 0.010804,
     "end_time": "2023-03-07T19:21:12.062242",
     "exception": false,
     "start_time": "2023-03-07T19:21:12.051438",
     "status": "completed"
    },
    "tags": []
   },
   "source": [
    "To confirm that there is no null o missing data, we use the following code line"
   ]
  },
  {
   "cell_type": "code",
   "execution_count": 14,
   "id": "48d5685b",
   "metadata": {
    "execution": {
     "iopub.execute_input": "2023-03-07T19:21:12.084939Z",
     "iopub.status.busy": "2023-03-07T19:21:12.084497Z",
     "iopub.status.idle": "2023-03-07T19:21:12.161003Z",
     "shell.execute_reply": "2023-03-07T19:21:12.159560Z"
    },
    "papermill": {
     "duration": 0.091093,
     "end_time": "2023-03-07T19:21:12.163776",
     "exception": false,
     "start_time": "2023-03-07T19:21:12.072683",
     "status": "completed"
    },
    "tags": []
   },
   "outputs": [
    {
     "data": {
      "text/plain": [
       "name                False\n",
       "region              False\n",
       "hub_long            False\n",
       "hub_lat             False\n",
       "vehicle_capacity    False\n",
       "delivery_size       False\n",
       "delivery_lng        False\n",
       "delivery_lat        False\n",
       "dtype: bool"
      ]
     },
     "execution_count": 14,
     "metadata": {},
     "output_type": "execute_result"
    }
   ],
   "source": [
    "df.isna().any()"
   ]
  },
  {
   "cell_type": "markdown",
   "id": "dbdb82c0",
   "metadata": {
    "papermill": {
     "duration": 0.010138,
     "end_time": "2023-03-07T19:21:12.184434",
     "exception": false,
     "start_time": "2023-03-07T19:21:12.174296",
     "status": "completed"
    },
    "tags": []
   },
   "source": [
    "## Using GeoCodification on the delivery hub\n",
    "\n",
    "The reverse geocodification transforms the lat and long data in their respective text descriptions"
   ]
  },
  {
   "cell_type": "code",
   "execution_count": 15,
   "id": "97aca2c5",
   "metadata": {
    "execution": {
     "iopub.execute_input": "2023-03-07T19:21:12.207456Z",
     "iopub.status.busy": "2023-03-07T19:21:12.207044Z",
     "iopub.status.idle": "2023-03-07T19:21:12.338718Z",
     "shell.execute_reply": "2023-03-07T19:21:12.337374Z"
    },
    "papermill": {
     "duration": 0.146227,
     "end_time": "2023-03-07T19:21:12.341156",
     "exception": false,
     "start_time": "2023-03-07T19:21:12.194929",
     "status": "completed"
    },
    "tags": []
   },
   "outputs": [
    {
     "data": {
      "text/html": [
       "<div>\n",
       "<style scoped>\n",
       "    .dataframe tbody tr th:only-of-type {\n",
       "        vertical-align: middle;\n",
       "    }\n",
       "\n",
       "    .dataframe tbody tr th {\n",
       "        vertical-align: top;\n",
       "    }\n",
       "\n",
       "    .dataframe thead th {\n",
       "        text-align: right;\n",
       "    }\n",
       "</style>\n",
       "<table border=\"1\" class=\"dataframe\">\n",
       "  <thead>\n",
       "    <tr style=\"text-align: right;\">\n",
       "      <th></th>\n",
       "      <th>region</th>\n",
       "      <th>hub_long</th>\n",
       "      <th>hub_lat</th>\n",
       "    </tr>\n",
       "  </thead>\n",
       "  <tbody>\n",
       "    <tr>\n",
       "      <th>0</th>\n",
       "      <td>df-0</td>\n",
       "      <td>-47.802665</td>\n",
       "      <td>-15.657014</td>\n",
       "    </tr>\n",
       "    <tr>\n",
       "      <th>1</th>\n",
       "      <td>df-1</td>\n",
       "      <td>-47.893662</td>\n",
       "      <td>-15.805118</td>\n",
       "    </tr>\n",
       "    <tr>\n",
       "      <th>2</th>\n",
       "      <td>df-2</td>\n",
       "      <td>-48.054989</td>\n",
       "      <td>-15.838145</td>\n",
       "    </tr>\n",
       "  </tbody>\n",
       "</table>\n",
       "</div>"
      ],
      "text/plain": [
       "  region   hub_long    hub_lat\n",
       "0   df-0 -47.802665 -15.657014\n",
       "1   df-1 -47.893662 -15.805118\n",
       "2   df-2 -48.054989 -15.838145"
      ]
     },
     "execution_count": 15,
     "metadata": {},
     "output_type": "execute_result"
    }
   ],
   "source": [
    "hub_df = df[[\"region\",\"hub_long\",\"hub_lat\"]]\n",
    "hub_df = hub_df.drop_duplicates().sort_values(by = \"region\").reset_index(drop=True)\n",
    "hub_df.head()"
   ]
  },
  {
   "cell_type": "markdown",
   "id": "1105c51c",
   "metadata": {
    "papermill": {
     "duration": 0.010934,
     "end_time": "2023-03-07T19:21:12.362831",
     "exception": false,
     "start_time": "2023-03-07T19:21:12.351897",
     "status": "completed"
    },
    "tags": []
   },
   "source": [
    "For this particular example, we will be using nominatim for the reverse geocodification"
   ]
  },
  {
   "cell_type": "code",
   "execution_count": 16,
   "id": "f6040608",
   "metadata": {
    "execution": {
     "iopub.execute_input": "2023-03-07T19:21:12.388223Z",
     "iopub.status.busy": "2023-03-07T19:21:12.387804Z",
     "iopub.status.idle": "2023-03-07T19:21:12.394211Z",
     "shell.execute_reply": "2023-03-07T19:21:12.392912Z"
    },
    "papermill": {
     "duration": 0.022651,
     "end_time": "2023-03-07T19:21:12.396844",
     "exception": false,
     "start_time": "2023-03-07T19:21:12.374193",
     "status": "completed"
    },
    "tags": []
   },
   "outputs": [],
   "source": [
    "geolocator = Nominatim(user_agent = \"logdata_geocoder\")\n",
    "geocoder = RateLimiter(geolocator.reverse, min_delay_seconds = 1)"
   ]
  },
  {
   "cell_type": "markdown",
   "id": "7f1d6a5d",
   "metadata": {
    "papermill": {
     "duration": 0.010285,
     "end_time": "2023-03-07T19:21:12.417966",
     "exception": false,
     "start_time": "2023-03-07T19:21:12.407681",
     "status": "completed"
    },
    "tags": []
   },
   "source": [
    "Because the geocoder needs data to be in string format of latitude and longitude, a conversion is needed"
   ]
  },
  {
   "cell_type": "code",
   "execution_count": 17,
   "id": "8eb6207b",
   "metadata": {
    "execution": {
     "iopub.execute_input": "2023-03-07T19:21:12.441682Z",
     "iopub.status.busy": "2023-03-07T19:21:12.441245Z",
     "iopub.status.idle": "2023-03-07T19:21:14.514254Z",
     "shell.execute_reply": "2023-03-07T19:21:14.512896Z"
    },
    "papermill": {
     "duration": 2.08791,
     "end_time": "2023-03-07T19:21:14.517048",
     "exception": false,
     "start_time": "2023-03-07T19:21:12.429138",
     "status": "completed"
    },
    "tags": []
   },
   "outputs": [
    {
     "data": {
      "text/html": [
       "<div>\n",
       "<style scoped>\n",
       "    .dataframe tbody tr th:only-of-type {\n",
       "        vertical-align: middle;\n",
       "    }\n",
       "\n",
       "    .dataframe tbody tr th {\n",
       "        vertical-align: top;\n",
       "    }\n",
       "\n",
       "    .dataframe thead th {\n",
       "        text-align: right;\n",
       "    }\n",
       "</style>\n",
       "<table border=\"1\" class=\"dataframe\">\n",
       "  <thead>\n",
       "    <tr style=\"text-align: right;\">\n",
       "      <th></th>\n",
       "      <th>region</th>\n",
       "      <th>hub_long</th>\n",
       "      <th>hub_lat</th>\n",
       "      <th>coordinates</th>\n",
       "      <th>geodata</th>\n",
       "    </tr>\n",
       "  </thead>\n",
       "  <tbody>\n",
       "    <tr>\n",
       "      <th>0</th>\n",
       "      <td>df-0</td>\n",
       "      <td>-47.802665</td>\n",
       "      <td>-15.657014</td>\n",
       "      <td>-15.657013854445248, -47.802664728268745</td>\n",
       "      <td>(Clinica dos Olhos, Rua 7, Quadra 2, Sobradinh...</td>\n",
       "    </tr>\n",
       "    <tr>\n",
       "      <th>1</th>\n",
       "      <td>df-1</td>\n",
       "      <td>-47.893662</td>\n",
       "      <td>-15.805118</td>\n",
       "      <td>-15.80511751066334, -47.89366206897872</td>\n",
       "      <td>(Bloco B / F, W1 Sul, SQS 103, Asa Sul, Brasíl...</td>\n",
       "    </tr>\n",
       "    <tr>\n",
       "      <th>2</th>\n",
       "      <td>df-2</td>\n",
       "      <td>-48.054989</td>\n",
       "      <td>-15.838145</td>\n",
       "      <td>-15.83814451122274, -48.05498915846707</td>\n",
       "      <td>(Armazém do Bolo, lote 4/8, CSB 4/5, Taguating...</td>\n",
       "    </tr>\n",
       "  </tbody>\n",
       "</table>\n",
       "</div>"
      ],
      "text/plain": [
       "  region   hub_long    hub_lat                               coordinates  \\\n",
       "0   df-0 -47.802665 -15.657014  -15.657013854445248, -47.802664728268745   \n",
       "1   df-1 -47.893662 -15.805118    -15.80511751066334, -47.89366206897872   \n",
       "2   df-2 -48.054989 -15.838145    -15.83814451122274, -48.05498915846707   \n",
       "\n",
       "                                             geodata  \n",
       "0  (Clinica dos Olhos, Rua 7, Quadra 2, Sobradinh...  \n",
       "1  (Bloco B / F, W1 Sul, SQS 103, Asa Sul, Brasíl...  \n",
       "2  (Armazém do Bolo, lote 4/8, CSB 4/5, Taguating...  "
      ]
     },
     "execution_count": 17,
     "metadata": {},
     "output_type": "execute_result"
    }
   ],
   "source": [
    "hub_df[\"coordinates\"] = hub_df[\"hub_lat\"].astype(str) + \", \" + hub_df[\"hub_long\"].astype(str)\n",
    "hub_df[\"geodata\"] = hub_df[\"coordinates\"].apply(geocoder)\n",
    "hub_df.head()"
   ]
  },
  {
   "cell_type": "code",
   "execution_count": 18,
   "id": "f768d4f0",
   "metadata": {
    "execution": {
     "iopub.execute_input": "2023-03-07T19:21:14.540888Z",
     "iopub.status.busy": "2023-03-07T19:21:14.540449Z",
     "iopub.status.idle": "2023-03-07T19:21:14.551869Z",
     "shell.execute_reply": "2023-03-07T19:21:14.550396Z"
    },
    "papermill": {
     "duration": 0.026328,
     "end_time": "2023-03-07T19:21:14.554365",
     "exception": false,
     "start_time": "2023-03-07T19:21:14.528037",
     "status": "completed"
    },
    "tags": []
   },
   "outputs": [
    {
     "data": {
      "text/plain": [
       "Index(['place_id', 'licence', 'osm_type', 'osm_id', 'lat', 'lon',\n",
       "       'display_name', 'boundingbox', 'address.amenity', 'address.road',\n",
       "       'address.residential', 'address.suburb', 'address.town',\n",
       "       'address.municipality', 'address.county', 'address.state_district',\n",
       "       'address.state', 'address.ISO3166-2-lvl4', 'address.region',\n",
       "       'address.postcode', 'address.country', 'address.country_code',\n",
       "       'address.building', 'address.neighbourhood', 'address.city',\n",
       "       'address.shop', 'address.house_number'],\n",
       "      dtype='object')"
      ]
     },
     "execution_count": 18,
     "metadata": {},
     "output_type": "execute_result"
    }
   ],
   "source": [
    "hub_geo_df = pd.json_normalize(hub_df[\"geodata\"].apply(lambda data: data.raw))\n",
    "hub_geo_df.columns"
   ]
  },
  {
   "cell_type": "code",
   "execution_count": 19,
   "id": "ae6049ad",
   "metadata": {
    "execution": {
     "iopub.execute_input": "2023-03-07T19:21:14.578930Z",
     "iopub.status.busy": "2023-03-07T19:21:14.577802Z",
     "iopub.status.idle": "2023-03-07T19:21:14.595928Z",
     "shell.execute_reply": "2023-03-07T19:21:14.594720Z"
    },
    "papermill": {
     "duration": 0.033026,
     "end_time": "2023-03-07T19:21:14.598416",
     "exception": false,
     "start_time": "2023-03-07T19:21:14.565390",
     "status": "completed"
    },
    "tags": []
   },
   "outputs": [
    {
     "data": {
      "text/html": [
       "<div>\n",
       "<style scoped>\n",
       "    .dataframe tbody tr th:only-of-type {\n",
       "        vertical-align: middle;\n",
       "    }\n",
       "\n",
       "    .dataframe tbody tr th {\n",
       "        vertical-align: top;\n",
       "    }\n",
       "\n",
       "    .dataframe thead th {\n",
       "        text-align: right;\n",
       "    }\n",
       "</style>\n",
       "<table border=\"1\" class=\"dataframe\">\n",
       "  <thead>\n",
       "    <tr style=\"text-align: right;\">\n",
       "      <th></th>\n",
       "      <th>hub_suburb</th>\n",
       "      <th>hub_city</th>\n",
       "    </tr>\n",
       "  </thead>\n",
       "  <tbody>\n",
       "    <tr>\n",
       "      <th>0</th>\n",
       "      <td>Sobradinho</td>\n",
       "      <td>Sobradinho</td>\n",
       "    </tr>\n",
       "    <tr>\n",
       "      <th>1</th>\n",
       "      <td>Asa Sul</td>\n",
       "      <td>Brasília</td>\n",
       "    </tr>\n",
       "    <tr>\n",
       "      <th>2</th>\n",
       "      <td>Taguatinga</td>\n",
       "      <td>Taguatinga</td>\n",
       "    </tr>\n",
       "  </tbody>\n",
       "</table>\n",
       "</div>"
      ],
      "text/plain": [
       "   hub_suburb    hub_city\n",
       "0  Sobradinho  Sobradinho\n",
       "1     Asa Sul    Brasília\n",
       "2  Taguatinga  Taguatinga"
      ]
     },
     "execution_count": 19,
     "metadata": {},
     "output_type": "execute_result"
    }
   ],
   "source": [
    "hub_geo_df = hub_geo_df[[\"address.town\", \"address.suburb\", \"address.city\"]]\n",
    "hub_geo_df.rename(columns = {\"address.town\":\"hub_town\", \"address.suburb\": \"hub_suburb\", \"address.city\": \"hub_city\"}, inplace = True)\n",
    "hub_geo_df[\"hub_city\"] = np.where(hub_geo_df[\"hub_city\"].notna(), hub_geo_df[\"hub_city\"],hub_geo_df[\"hub_town\"])\n",
    "hub_geo_df[\"hub_suburb\"] = np.where(hub_geo_df[\"hub_suburb\"].notna(), hub_geo_df[\"hub_suburb\"], hub_geo_df[\"hub_city\"])\n",
    "hub_geo_df = hub_geo_df.drop(\"hub_town\", axis = 1)\n",
    "hub_geo_df.head()"
   ]
  },
  {
   "cell_type": "markdown",
   "id": "592d730e",
   "metadata": {
    "papermill": {
     "duration": 0.01119,
     "end_time": "2023-03-07T19:21:14.621105",
     "exception": false,
     "start_time": "2023-03-07T19:21:14.609915",
     "status": "completed"
    },
    "tags": []
   },
   "source": [
    "Now, it's time to combine the df with the information about the suburb and city with the main df"
   ]
  },
  {
   "cell_type": "code",
   "execution_count": 20,
   "id": "71e7655e",
   "metadata": {
    "execution": {
     "iopub.execute_input": "2023-03-07T19:21:14.646775Z",
     "iopub.status.busy": "2023-03-07T19:21:14.645749Z",
     "iopub.status.idle": "2023-03-07T19:21:14.662717Z",
     "shell.execute_reply": "2023-03-07T19:21:14.661071Z"
    },
    "papermill": {
     "duration": 0.033426,
     "end_time": "2023-03-07T19:21:14.666027",
     "exception": false,
     "start_time": "2023-03-07T19:21:14.632601",
     "status": "completed"
    },
    "tags": []
   },
   "outputs": [
    {
     "data": {
      "text/html": [
       "<div>\n",
       "<style scoped>\n",
       "    .dataframe tbody tr th:only-of-type {\n",
       "        vertical-align: middle;\n",
       "    }\n",
       "\n",
       "    .dataframe tbody tr th {\n",
       "        vertical-align: top;\n",
       "    }\n",
       "\n",
       "    .dataframe thead th {\n",
       "        text-align: right;\n",
       "    }\n",
       "</style>\n",
       "<table border=\"1\" class=\"dataframe\">\n",
       "  <thead>\n",
       "    <tr style=\"text-align: right;\">\n",
       "      <th></th>\n",
       "      <th>region</th>\n",
       "      <th>hub_suburb</th>\n",
       "      <th>hub_city</th>\n",
       "    </tr>\n",
       "  </thead>\n",
       "  <tbody>\n",
       "    <tr>\n",
       "      <th>0</th>\n",
       "      <td>df-0</td>\n",
       "      <td>Sobradinho</td>\n",
       "      <td>Sobradinho</td>\n",
       "    </tr>\n",
       "    <tr>\n",
       "      <th>1</th>\n",
       "      <td>df-1</td>\n",
       "      <td>Asa Sul</td>\n",
       "      <td>Brasília</td>\n",
       "    </tr>\n",
       "    <tr>\n",
       "      <th>2</th>\n",
       "      <td>df-2</td>\n",
       "      <td>Taguatinga</td>\n",
       "      <td>Taguatinga</td>\n",
       "    </tr>\n",
       "  </tbody>\n",
       "</table>\n",
       "</div>"
      ],
      "text/plain": [
       "  region  hub_suburb    hub_city\n",
       "0   df-0  Sobradinho  Sobradinho\n",
       "1   df-1     Asa Sul    Brasília\n",
       "2   df-2  Taguatinga  Taguatinga"
      ]
     },
     "execution_count": 20,
     "metadata": {},
     "output_type": "execute_result"
    }
   ],
   "source": [
    "hub_df = pd.merge(left = hub_df, right = hub_geo_df, left_index = True, right_index = True)\n",
    "hub_df = hub_df[[\"region\",\"hub_suburb\",\"hub_city\"]]\n",
    "hub_df.head()"
   ]
  },
  {
   "cell_type": "code",
   "execution_count": 21,
   "id": "1a2513a2",
   "metadata": {
    "execution": {
     "iopub.execute_input": "2023-03-07T19:21:14.691030Z",
     "iopub.status.busy": "2023-03-07T19:21:14.690572Z",
     "iopub.status.idle": "2023-03-07T19:21:14.986405Z",
     "shell.execute_reply": "2023-03-07T19:21:14.984777Z"
    },
    "papermill": {
     "duration": 0.311563,
     "end_time": "2023-03-07T19:21:14.989294",
     "exception": false,
     "start_time": "2023-03-07T19:21:14.677731",
     "status": "completed"
    },
    "tags": []
   },
   "outputs": [
    {
     "data": {
      "text/html": [
       "<div>\n",
       "<style scoped>\n",
       "    .dataframe tbody tr th:only-of-type {\n",
       "        vertical-align: middle;\n",
       "    }\n",
       "\n",
       "    .dataframe tbody tr th {\n",
       "        vertical-align: top;\n",
       "    }\n",
       "\n",
       "    .dataframe thead th {\n",
       "        text-align: right;\n",
       "    }\n",
       "</style>\n",
       "<table border=\"1\" class=\"dataframe\">\n",
       "  <thead>\n",
       "    <tr style=\"text-align: right;\">\n",
       "      <th></th>\n",
       "      <th>name</th>\n",
       "      <th>region</th>\n",
       "      <th>hub_long</th>\n",
       "      <th>hub_lat</th>\n",
       "      <th>hub_city</th>\n",
       "      <th>hub_suburb</th>\n",
       "      <th>vehicle_capacity</th>\n",
       "      <th>delivery_size</th>\n",
       "      <th>delivery_lng</th>\n",
       "      <th>delivery_lat</th>\n",
       "    </tr>\n",
       "  </thead>\n",
       "  <tbody>\n",
       "    <tr>\n",
       "      <th>0</th>\n",
       "      <td>cvrp-2-df-33</td>\n",
       "      <td>df-2</td>\n",
       "      <td>-48.054989</td>\n",
       "      <td>-15.838145</td>\n",
       "      <td>Taguatinga</td>\n",
       "      <td>Taguatinga</td>\n",
       "      <td>180</td>\n",
       "      <td>9</td>\n",
       "      <td>-48.116189</td>\n",
       "      <td>-15.848929</td>\n",
       "    </tr>\n",
       "    <tr>\n",
       "      <th>1</th>\n",
       "      <td>cvrp-2-df-33</td>\n",
       "      <td>df-2</td>\n",
       "      <td>-48.054989</td>\n",
       "      <td>-15.838145</td>\n",
       "      <td>Taguatinga</td>\n",
       "      <td>Taguatinga</td>\n",
       "      <td>180</td>\n",
       "      <td>2</td>\n",
       "      <td>-48.118195</td>\n",
       "      <td>-15.850772</td>\n",
       "    </tr>\n",
       "    <tr>\n",
       "      <th>2</th>\n",
       "      <td>cvrp-2-df-33</td>\n",
       "      <td>df-2</td>\n",
       "      <td>-48.054989</td>\n",
       "      <td>-15.838145</td>\n",
       "      <td>Taguatinga</td>\n",
       "      <td>Taguatinga</td>\n",
       "      <td>180</td>\n",
       "      <td>1</td>\n",
       "      <td>-48.112483</td>\n",
       "      <td>-15.847871</td>\n",
       "    </tr>\n",
       "    <tr>\n",
       "      <th>3</th>\n",
       "      <td>cvrp-2-df-33</td>\n",
       "      <td>df-2</td>\n",
       "      <td>-48.054989</td>\n",
       "      <td>-15.838145</td>\n",
       "      <td>Taguatinga</td>\n",
       "      <td>Taguatinga</td>\n",
       "      <td>180</td>\n",
       "      <td>2</td>\n",
       "      <td>-48.118023</td>\n",
       "      <td>-15.846471</td>\n",
       "    </tr>\n",
       "    <tr>\n",
       "      <th>4</th>\n",
       "      <td>cvrp-2-df-33</td>\n",
       "      <td>df-2</td>\n",
       "      <td>-48.054989</td>\n",
       "      <td>-15.838145</td>\n",
       "      <td>Taguatinga</td>\n",
       "      <td>Taguatinga</td>\n",
       "      <td>180</td>\n",
       "      <td>7</td>\n",
       "      <td>-48.114898</td>\n",
       "      <td>-15.858055</td>\n",
       "    </tr>\n",
       "  </tbody>\n",
       "</table>\n",
       "</div>"
      ],
      "text/plain": [
       "           name region   hub_long    hub_lat    hub_city  hub_suburb  \\\n",
       "0  cvrp-2-df-33   df-2 -48.054989 -15.838145  Taguatinga  Taguatinga   \n",
       "1  cvrp-2-df-33   df-2 -48.054989 -15.838145  Taguatinga  Taguatinga   \n",
       "2  cvrp-2-df-33   df-2 -48.054989 -15.838145  Taguatinga  Taguatinga   \n",
       "3  cvrp-2-df-33   df-2 -48.054989 -15.838145  Taguatinga  Taguatinga   \n",
       "4  cvrp-2-df-33   df-2 -48.054989 -15.838145  Taguatinga  Taguatinga   \n",
       "\n",
       "   vehicle_capacity  delivery_size  delivery_lng  delivery_lat  \n",
       "0               180              9    -48.116189    -15.848929  \n",
       "1               180              2    -48.118195    -15.850772  \n",
       "2               180              1    -48.112483    -15.847871  \n",
       "3               180              2    -48.118023    -15.846471  \n",
       "4               180              7    -48.114898    -15.858055  "
      ]
     },
     "execution_count": 21,
     "metadata": {},
     "output_type": "execute_result"
    }
   ],
   "source": [
    "df = pd.merge(left = df, right = hub_df, how = \"inner\", on = \"region\")\n",
    "df = df[[\"name\", \"region\",\"hub_long\", \"hub_lat\", \"hub_city\", \"hub_suburb\", \"vehicle_capacity\", \"delivery_size\", \"delivery_lng\", \"delivery_lat\"]]\n",
    "df.head()\n",
    "    "
   ]
  },
  {
   "cell_type": "markdown",
   "id": "a911a916",
   "metadata": {
    "papermill": {
     "duration": 0.011107,
     "end_time": "2023-03-07T19:21:15.012131",
     "exception": false,
     "start_time": "2023-03-07T19:21:15.001024",
     "status": "completed"
    },
    "tags": []
   },
   "source": [
    "For the delivery dataset, with over 600 000 entries, the reversed geocodification was done locally on another machine and inserted on a different csv file, the data is available [here](https://www.kaggle.com/datasets/franklinposso/loggi-deliveries)"
   ]
  },
  {
   "cell_type": "code",
   "execution_count": 22,
   "id": "b9568c13",
   "metadata": {
    "execution": {
     "iopub.execute_input": "2023-03-07T19:21:15.037342Z",
     "iopub.status.busy": "2023-03-07T19:21:15.036924Z",
     "iopub.status.idle": "2023-03-07T19:21:16.122993Z",
     "shell.execute_reply": "2023-03-07T19:21:16.121594Z"
    },
    "papermill": {
     "duration": 1.102103,
     "end_time": "2023-03-07T19:21:16.125760",
     "exception": false,
     "start_time": "2023-03-07T19:21:15.023657",
     "status": "completed"
    },
    "tags": []
   },
   "outputs": [
    {
     "data": {
      "text/html": [
       "<div>\n",
       "<style scoped>\n",
       "    .dataframe tbody tr th:only-of-type {\n",
       "        vertical-align: middle;\n",
       "    }\n",
       "\n",
       "    .dataframe tbody tr th {\n",
       "        vertical-align: top;\n",
       "    }\n",
       "\n",
       "    .dataframe thead th {\n",
       "        text-align: right;\n",
       "    }\n",
       "</style>\n",
       "<table border=\"1\" class=\"dataframe\">\n",
       "  <thead>\n",
       "    <tr style=\"text-align: right;\">\n",
       "      <th></th>\n",
       "      <th>delivery_lng</th>\n",
       "      <th>delivery_lat</th>\n",
       "      <th>delivery_city</th>\n",
       "      <th>delivery_suburb</th>\n",
       "    </tr>\n",
       "  </thead>\n",
       "  <tbody>\n",
       "    <tr>\n",
       "      <th>0</th>\n",
       "      <td>-48.116189</td>\n",
       "      <td>-15.848929</td>\n",
       "      <td>Ceilândia</td>\n",
       "      <td>P Sul</td>\n",
       "    </tr>\n",
       "    <tr>\n",
       "      <th>1</th>\n",
       "      <td>-48.118195</td>\n",
       "      <td>-15.850772</td>\n",
       "      <td>Ceilândia</td>\n",
       "      <td>P Sul</td>\n",
       "    </tr>\n",
       "    <tr>\n",
       "      <th>2</th>\n",
       "      <td>-48.112483</td>\n",
       "      <td>-15.847871</td>\n",
       "      <td>Ceilândia</td>\n",
       "      <td>P Sul</td>\n",
       "    </tr>\n",
       "    <tr>\n",
       "      <th>3</th>\n",
       "      <td>-48.118023</td>\n",
       "      <td>-15.846471</td>\n",
       "      <td>Ceilândia</td>\n",
       "      <td>P Sul</td>\n",
       "    </tr>\n",
       "    <tr>\n",
       "      <th>4</th>\n",
       "      <td>-48.114898</td>\n",
       "      <td>-15.858055</td>\n",
       "      <td>Sol Nascente/Pôr do Sol</td>\n",
       "      <td>Sol Nascente/Pôr do Sol</td>\n",
       "    </tr>\n",
       "  </tbody>\n",
       "</table>\n",
       "</div>"
      ],
      "text/plain": [
       "   delivery_lng  delivery_lat            delivery_city  \\\n",
       "0    -48.116189    -15.848929                Ceilândia   \n",
       "1    -48.118195    -15.850772                Ceilândia   \n",
       "2    -48.112483    -15.847871                Ceilândia   \n",
       "3    -48.118023    -15.846471                Ceilândia   \n",
       "4    -48.114898    -15.858055  Sol Nascente/Pôr do Sol   \n",
       "\n",
       "           delivery_suburb  \n",
       "0                    P Sul  \n",
       "1                    P Sul  \n",
       "2                    P Sul  \n",
       "3                    P Sul  \n",
       "4  Sol Nascente/Pôr do Sol  "
      ]
     },
     "execution_count": 22,
     "metadata": {},
     "output_type": "execute_result"
    }
   ],
   "source": [
    "deliveries_geo_df = pd.read_csv(\"/kaggle/input/deliveries-geodata/deliveries-geodata.csv\")\n",
    "deliveries_geo_df.head()"
   ]
  },
  {
   "cell_type": "markdown",
   "id": "63f984dd",
   "metadata": {
    "papermill": {
     "duration": 0.013819,
     "end_time": "2023-03-07T19:21:16.151995",
     "exception": false,
     "start_time": "2023-03-07T19:21:16.138176",
     "status": "completed"
    },
    "tags": []
   },
   "source": [
    "Now, merging this dataset with the main one:"
   ]
  },
  {
   "cell_type": "code",
   "execution_count": 23,
   "id": "1d0761be",
   "metadata": {
    "execution": {
     "iopub.execute_input": "2023-03-07T19:21:16.183931Z",
     "iopub.status.busy": "2023-03-07T19:21:16.183465Z",
     "iopub.status.idle": "2023-03-07T19:21:16.333650Z",
     "shell.execute_reply": "2023-03-07T19:21:16.332304Z"
    },
    "papermill": {
     "duration": 0.169209,
     "end_time": "2023-03-07T19:21:16.336368",
     "exception": false,
     "start_time": "2023-03-07T19:21:16.167159",
     "status": "completed"
    },
    "tags": []
   },
   "outputs": [
    {
     "data": {
      "text/html": [
       "<div>\n",
       "<style scoped>\n",
       "    .dataframe tbody tr th:only-of-type {\n",
       "        vertical-align: middle;\n",
       "    }\n",
       "\n",
       "    .dataframe tbody tr th {\n",
       "        vertical-align: top;\n",
       "    }\n",
       "\n",
       "    .dataframe thead th {\n",
       "        text-align: right;\n",
       "    }\n",
       "</style>\n",
       "<table border=\"1\" class=\"dataframe\">\n",
       "  <thead>\n",
       "    <tr style=\"text-align: right;\">\n",
       "      <th></th>\n",
       "      <th>name</th>\n",
       "      <th>region</th>\n",
       "      <th>hub_long</th>\n",
       "      <th>hub_lat</th>\n",
       "      <th>hub_city</th>\n",
       "      <th>hub_suburb</th>\n",
       "      <th>vehicle_capacity</th>\n",
       "      <th>delivery_size</th>\n",
       "      <th>delivery_lng</th>\n",
       "      <th>delivery_lat</th>\n",
       "      <th>delivery_city</th>\n",
       "      <th>delivery_suburb</th>\n",
       "    </tr>\n",
       "  </thead>\n",
       "  <tbody>\n",
       "    <tr>\n",
       "      <th>0</th>\n",
       "      <td>cvrp-2-df-33</td>\n",
       "      <td>df-2</td>\n",
       "      <td>-48.054989</td>\n",
       "      <td>-15.838145</td>\n",
       "      <td>Taguatinga</td>\n",
       "      <td>Taguatinga</td>\n",
       "      <td>180</td>\n",
       "      <td>9</td>\n",
       "      <td>-48.116189</td>\n",
       "      <td>-15.848929</td>\n",
       "      <td>Ceilândia</td>\n",
       "      <td>P Sul</td>\n",
       "    </tr>\n",
       "    <tr>\n",
       "      <th>1</th>\n",
       "      <td>cvrp-2-df-33</td>\n",
       "      <td>df-2</td>\n",
       "      <td>-48.054989</td>\n",
       "      <td>-15.838145</td>\n",
       "      <td>Taguatinga</td>\n",
       "      <td>Taguatinga</td>\n",
       "      <td>180</td>\n",
       "      <td>2</td>\n",
       "      <td>-48.118195</td>\n",
       "      <td>-15.850772</td>\n",
       "      <td>Ceilândia</td>\n",
       "      <td>P Sul</td>\n",
       "    </tr>\n",
       "    <tr>\n",
       "      <th>2</th>\n",
       "      <td>cvrp-2-df-33</td>\n",
       "      <td>df-2</td>\n",
       "      <td>-48.054989</td>\n",
       "      <td>-15.838145</td>\n",
       "      <td>Taguatinga</td>\n",
       "      <td>Taguatinga</td>\n",
       "      <td>180</td>\n",
       "      <td>1</td>\n",
       "      <td>-48.112483</td>\n",
       "      <td>-15.847871</td>\n",
       "      <td>Ceilândia</td>\n",
       "      <td>P Sul</td>\n",
       "    </tr>\n",
       "    <tr>\n",
       "      <th>3</th>\n",
       "      <td>cvrp-2-df-33</td>\n",
       "      <td>df-2</td>\n",
       "      <td>-48.054989</td>\n",
       "      <td>-15.838145</td>\n",
       "      <td>Taguatinga</td>\n",
       "      <td>Taguatinga</td>\n",
       "      <td>180</td>\n",
       "      <td>2</td>\n",
       "      <td>-48.118023</td>\n",
       "      <td>-15.846471</td>\n",
       "      <td>Ceilândia</td>\n",
       "      <td>P Sul</td>\n",
       "    </tr>\n",
       "    <tr>\n",
       "      <th>4</th>\n",
       "      <td>cvrp-2-df-33</td>\n",
       "      <td>df-2</td>\n",
       "      <td>-48.054989</td>\n",
       "      <td>-15.838145</td>\n",
       "      <td>Taguatinga</td>\n",
       "      <td>Taguatinga</td>\n",
       "      <td>180</td>\n",
       "      <td>7</td>\n",
       "      <td>-48.114898</td>\n",
       "      <td>-15.858055</td>\n",
       "      <td>Sol Nascente/Pôr do Sol</td>\n",
       "      <td>Sol Nascente/Pôr do Sol</td>\n",
       "    </tr>\n",
       "  </tbody>\n",
       "</table>\n",
       "</div>"
      ],
      "text/plain": [
       "           name region   hub_long    hub_lat    hub_city  hub_suburb  \\\n",
       "0  cvrp-2-df-33   df-2 -48.054989 -15.838145  Taguatinga  Taguatinga   \n",
       "1  cvrp-2-df-33   df-2 -48.054989 -15.838145  Taguatinga  Taguatinga   \n",
       "2  cvrp-2-df-33   df-2 -48.054989 -15.838145  Taguatinga  Taguatinga   \n",
       "3  cvrp-2-df-33   df-2 -48.054989 -15.838145  Taguatinga  Taguatinga   \n",
       "4  cvrp-2-df-33   df-2 -48.054989 -15.838145  Taguatinga  Taguatinga   \n",
       "\n",
       "   vehicle_capacity  delivery_size  delivery_lng  delivery_lat  \\\n",
       "0               180              9    -48.116189    -15.848929   \n",
       "1               180              2    -48.118195    -15.850772   \n",
       "2               180              1    -48.112483    -15.847871   \n",
       "3               180              2    -48.118023    -15.846471   \n",
       "4               180              7    -48.114898    -15.858055   \n",
       "\n",
       "             delivery_city          delivery_suburb  \n",
       "0                Ceilândia                    P Sul  \n",
       "1                Ceilândia                    P Sul  \n",
       "2                Ceilândia                    P Sul  \n",
       "3                Ceilândia                    P Sul  \n",
       "4  Sol Nascente/Pôr do Sol  Sol Nascente/Pôr do Sol  "
      ]
     },
     "execution_count": 23,
     "metadata": {},
     "output_type": "execute_result"
    }
   ],
   "source": [
    "df = pd.merge(left = df, right = deliveries_geo_df[[\"delivery_city\",\"delivery_suburb\"]], how = \"inner\", left_index = True, right_index = True)\n",
    "df.head()"
   ]
  },
  {
   "cell_type": "markdown",
   "id": "111d007c",
   "metadata": {
    "papermill": {
     "duration": 0.011665,
     "end_time": "2023-03-07T19:21:16.360212",
     "exception": false,
     "start_time": "2023-03-07T19:21:16.348547",
     "status": "completed"
    },
    "tags": []
   },
   "source": [
    "An important step after these steps is to check for missing data"
   ]
  },
  {
   "cell_type": "code",
   "execution_count": 24,
   "id": "08a972a3",
   "metadata": {
    "execution": {
     "iopub.execute_input": "2023-03-07T19:21:16.388170Z",
     "iopub.status.busy": "2023-03-07T19:21:16.387338Z",
     "iopub.status.idle": "2023-03-07T19:21:16.596097Z",
     "shell.execute_reply": "2023-03-07T19:21:16.594661Z"
    },
    "papermill": {
     "duration": 0.224893,
     "end_time": "2023-03-07T19:21:16.598695",
     "exception": false,
     "start_time": "2023-03-07T19:21:16.373802",
     "status": "completed"
    },
    "tags": []
   },
   "outputs": [
    {
     "name": "stdout",
     "output_type": "stream",
     "text": [
      "<class 'pandas.core.frame.DataFrame'>\n",
      "Int64Index: 636149 entries, 0 to 636148\n",
      "Data columns (total 12 columns):\n",
      " #   Column            Non-Null Count   Dtype  \n",
      "---  ------            --------------   -----  \n",
      " 0   name              636149 non-null  object \n",
      " 1   region            636149 non-null  object \n",
      " 2   hub_long          636149 non-null  float64\n",
      " 3   hub_lat           636149 non-null  float64\n",
      " 4   hub_city          636149 non-null  object \n",
      " 5   hub_suburb        636149 non-null  object \n",
      " 6   vehicle_capacity  636149 non-null  int64  \n",
      " 7   delivery_size     636149 non-null  int64  \n",
      " 8   delivery_lng      636149 non-null  float64\n",
      " 9   delivery_lat      636149 non-null  float64\n",
      " 10  delivery_city     634447 non-null  object \n",
      " 11  delivery_suburb   476264 non-null  object \n",
      "dtypes: float64(4), int64(2), object(6)\n",
      "memory usage: 79.2+ MB\n"
     ]
    }
   ],
   "source": [
    "df.info()"
   ]
  },
  {
   "cell_type": "code",
   "execution_count": 25,
   "id": "03da0816",
   "metadata": {
    "execution": {
     "iopub.execute_input": "2023-03-07T19:21:16.625520Z",
     "iopub.status.busy": "2023-03-07T19:21:16.625070Z",
     "iopub.status.idle": "2023-03-07T19:21:16.822016Z",
     "shell.execute_reply": "2023-03-07T19:21:16.820638Z"
    },
    "papermill": {
     "duration": 0.213636,
     "end_time": "2023-03-07T19:21:16.824928",
     "exception": false,
     "start_time": "2023-03-07T19:21:16.611292",
     "status": "completed"
    },
    "tags": []
   },
   "outputs": [
    {
     "data": {
      "text/plain": [
       "name                False\n",
       "region              False\n",
       "hub_long            False\n",
       "hub_lat             False\n",
       "hub_city            False\n",
       "hub_suburb          False\n",
       "vehicle_capacity    False\n",
       "delivery_size       False\n",
       "delivery_lng        False\n",
       "delivery_lat        False\n",
       "delivery_city        True\n",
       "delivery_suburb      True\n",
       "dtype: bool"
      ]
     },
     "execution_count": 25,
     "metadata": {},
     "output_type": "execute_result"
    }
   ],
   "source": [
    "df.isna().any()"
   ]
  },
  {
   "cell_type": "code",
   "execution_count": null,
   "id": "a11ea892",
   "metadata": {
    "papermill": {
     "duration": 0.011886,
     "end_time": "2023-03-07T19:21:16.849633",
     "exception": false,
     "start_time": "2023-03-07T19:21:16.837747",
     "status": "completed"
    },
    "tags": []
   },
   "outputs": [],
   "source": []
  }
 ],
 "metadata": {
  "kernelspec": {
   "display_name": "Python 3",
   "language": "python",
   "name": "python3"
  },
  "language_info": {
   "codemirror_mode": {
    "name": "ipython",
    "version": 3
   },
   "file_extension": ".py",
   "mimetype": "text/x-python",
   "name": "python",
   "nbconvert_exporter": "python",
   "pygments_lexer": "ipython3",
   "version": "3.7.12"
  },
  "papermill": {
   "default_parameters": {},
   "duration": 29.539048,
   "end_time": "2023-03-07T19:21:18.286860",
   "environment_variables": {},
   "exception": null,
   "input_path": "__notebook__.ipynb",
   "output_path": "__notebook__.ipynb",
   "parameters": {},
   "start_time": "2023-03-07T19:20:48.747812",
   "version": "2.4.0"
  }
 },
 "nbformat": 4,
 "nbformat_minor": 5
}
