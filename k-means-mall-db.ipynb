{
 "cells": [
  {
   "cell_type": "markdown",
   "id": "12d431e2",
   "metadata": {
    "_cell_guid": "b1076dfc-b9ad-4769-8c92-a6c4dae69d19",
    "_uuid": "8f2839f25d086af736a60e9eeb907d3b93b6e0e5",
    "papermill": {
     "duration": 0.003682,
     "end_time": "2023-03-09T14:30:36.937913",
     "exception": false,
     "start_time": "2023-03-09T14:30:36.934231",
     "status": "completed"
    },
    "tags": []
   },
   "source": [
    "## Author: Rodolpho Justino\n",
    "\n",
    "This notebook is used to perform a k-means method analysis of a Mall DB\n",
    "\n",
    "The Mall wants to segment its clients in order to direct their actions of marketing, the DB is available [here](https://raw.githubusercontent.com/andre-marcos-perez/ebac-course-utils/main/dataset/mall_customers.csv)"
   ]
  },
  {
   "cell_type": "code",
   "execution_count": 1,
   "id": "58f77fe9",
   "metadata": {
    "execution": {
     "iopub.execute_input": "2023-03-09T14:30:36.944905Z",
     "iopub.status.busy": "2023-03-09T14:30:36.943753Z",
     "iopub.status.idle": "2023-03-09T14:30:39.229648Z",
     "shell.execute_reply": "2023-03-09T14:30:39.228390Z"
    },
    "papermill": {
     "duration": 2.292512,
     "end_time": "2023-03-09T14:30:39.232770",
     "exception": false,
     "start_time": "2023-03-09T14:30:36.940258",
     "status": "completed"
    },
    "tags": []
   },
   "outputs": [],
   "source": [
    "import pandas as pd\n",
    "import numpy as np\n",
    "import seaborn as sns\n",
    "import matplotlib.pyplot as plt\n",
    "from sklearn.cluster import KMeans"
   ]
  },
  {
   "cell_type": "code",
   "execution_count": null,
   "id": "e227edf7",
   "metadata": {
    "papermill": {
     "duration": 0.00145,
     "end_time": "2023-03-09T14:30:39.236219",
     "exception": false,
     "start_time": "2023-03-09T14:30:39.234769",
     "status": "completed"
    },
    "tags": []
   },
   "outputs": [],
   "source": []
  }
 ],
 "metadata": {
  "kernelspec": {
   "display_name": "Python 3",
   "language": "python",
   "name": "python3"
  },
  "language_info": {
   "codemirror_mode": {
    "name": "ipython",
    "version": 3
   },
   "file_extension": ".py",
   "mimetype": "text/x-python",
   "name": "python",
   "nbconvert_exporter": "python",
   "pygments_lexer": "ipython3",
   "version": "3.7.12"
  },
  "papermill": {
   "default_parameters": {},
   "duration": 14.909909,
   "end_time": "2023-03-09T14:30:40.061416",
   "environment_variables": {},
   "exception": null,
   "input_path": "__notebook__.ipynb",
   "output_path": "__notebook__.ipynb",
   "parameters": {},
   "start_time": "2023-03-09T14:30:25.151507",
   "version": "2.4.0"
  }
 },
 "nbformat": 4,
 "nbformat_minor": 5
}
