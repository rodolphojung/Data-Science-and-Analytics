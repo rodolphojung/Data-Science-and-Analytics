{
  "nbformat": 4,
  "nbformat_minor": 0,
  "metadata": {
    "colab": {
      "provenance": [],
      "authorship_tag": "ABX9TyOW0haj4D7fv4AIn79xtIlQ",
      "include_colab_link": true
    },
    "kernelspec": {
      "name": "python3",
      "display_name": "Python 3"
    },
    "language_info": {
      "name": "python"
    }
  },
  "cells": [
    {
      "cell_type": "markdown",
      "metadata": {
        "id": "view-in-github",
        "colab_type": "text"
      },
      "source": [
        "<a href=\"https://colab.research.google.com/github/rodolphojung/Data-Science-and-Analytics/blob/main/PySparkPyArrowCrimData.ipynb\" target=\"_parent\"><img src=\"https://colab.research.google.com/assets/colab-badge.svg\" alt=\"Open In Colab\"/></a>"
      ]
    },
    {
      "cell_type": "markdown",
      "source": [
        "Loading the dataset"
      ],
      "metadata": {
        "id": "U5kuTLkjWz0f"
      }
    },
    {
      "cell_type": "code",
      "source": [
        "!wget https://raw.githubusercontent.com/andre-marcos-perez/ebac-course-utils/main/dataset/crime.csv -q -O crime.csv"
      ],
      "metadata": {
        "id": "SrCThWpDWxX-"
      },
      "execution_count": 2,
      "outputs": []
    },
    {
      "cell_type": "code",
      "source": [
        "import pandas as pd\n",
        "filename = './crime'\n",
        "\n",
        "df = pd.read_csv(f'./{filename}.csv')"
      ],
      "metadata": {
        "id": "7skuT_BGWwCP"
      },
      "execution_count": 3,
      "outputs": []
    },
    {
      "cell_type": "code",
      "execution_count": 4,
      "metadata": {
        "colab": {
          "base_uri": "https://localhost:8080/",
          "height": 354
        },
        "id": "OB4RzC-kWsz4",
        "outputId": "3fa3d8a5-3499-4838-e09e-cb8e2b066730"
      },
      "outputs": [
        {
          "output_type": "execute_result",
          "data": {
            "text/plain": [
              "   index       ID Case Number                    Date                   Block  \\\n",
              "0      0  9446824    HX100141  01/01/2014 02:00:00 AM     0000X W ILLINOIS ST   \n",
              "1      1  9446748    HX100020  01/01/2014 12:00:00 AM     006XX N DEARBORN ST   \n",
              "2      2  9446758    HX100030  01/01/2014 12:30:00 AM        052XX W RACE AVE   \n",
              "3      3  9446760    HX100027  01/01/2014 12:30:00 AM  053XX W WELLINGTON AVE   \n",
              "4      4  9446764    HX100054  01/01/2014 12:10:00 AM    014XX W LEXINGTON ST   \n",
              "\n",
              "   IUCR     Primary Type    Description Location Description  Arrest  \\\n",
              "0  0460          BATTERY         SIMPLE               STREET   False   \n",
              "1  0890            THEFT  FROM BUILDING        BAR OR TAVERN   False   \n",
              "2  1310  CRIMINAL DAMAGE    TO PROPERTY            APARTMENT   False   \n",
              "3  0460          BATTERY         SIMPLE            APARTMENT    True   \n",
              "4  0460          BATTERY         SIMPLE               STREET   False   \n",
              "\n",
              "   Domestic  Beat  District  Ward  Community Area FBI Code   Latitude  \\\n",
              "0     False  1831        18  42.0             8.0      08B  41.890828   \n",
              "1     False  1832        18  42.0             8.0       06  41.893542   \n",
              "2     False  1523        15  28.0            25.0       14  41.890046   \n",
              "3     False  2514        25  31.0            19.0      08B  41.935011   \n",
              "4     False  1231        12  25.0            28.0      08B  41.872509   \n",
              "\n",
              "   Longitude  \n",
              "0 -87.630235  \n",
              "1 -87.629702  \n",
              "2 -87.756333  \n",
              "3 -87.759739  \n",
              "4 -87.663069  "
            ],
            "text/html": [
              "\n",
              "  <div id=\"df-94f5fac1-26b3-4985-ac53-8ac0d7518c2a\">\n",
              "    <div class=\"colab-df-container\">\n",
              "      <div>\n",
              "<style scoped>\n",
              "    .dataframe tbody tr th:only-of-type {\n",
              "        vertical-align: middle;\n",
              "    }\n",
              "\n",
              "    .dataframe tbody tr th {\n",
              "        vertical-align: top;\n",
              "    }\n",
              "\n",
              "    .dataframe thead th {\n",
              "        text-align: right;\n",
              "    }\n",
              "</style>\n",
              "<table border=\"1\" class=\"dataframe\">\n",
              "  <thead>\n",
              "    <tr style=\"text-align: right;\">\n",
              "      <th></th>\n",
              "      <th>index</th>\n",
              "      <th>ID</th>\n",
              "      <th>Case Number</th>\n",
              "      <th>Date</th>\n",
              "      <th>Block</th>\n",
              "      <th>IUCR</th>\n",
              "      <th>Primary Type</th>\n",
              "      <th>Description</th>\n",
              "      <th>Location Description</th>\n",
              "      <th>Arrest</th>\n",
              "      <th>Domestic</th>\n",
              "      <th>Beat</th>\n",
              "      <th>District</th>\n",
              "      <th>Ward</th>\n",
              "      <th>Community Area</th>\n",
              "      <th>FBI Code</th>\n",
              "      <th>Latitude</th>\n",
              "      <th>Longitude</th>\n",
              "    </tr>\n",
              "  </thead>\n",
              "  <tbody>\n",
              "    <tr>\n",
              "      <th>0</th>\n",
              "      <td>0</td>\n",
              "      <td>9446824</td>\n",
              "      <td>HX100141</td>\n",
              "      <td>01/01/2014 02:00:00 AM</td>\n",
              "      <td>0000X W ILLINOIS ST</td>\n",
              "      <td>0460</td>\n",
              "      <td>BATTERY</td>\n",
              "      <td>SIMPLE</td>\n",
              "      <td>STREET</td>\n",
              "      <td>False</td>\n",
              "      <td>False</td>\n",
              "      <td>1831</td>\n",
              "      <td>18</td>\n",
              "      <td>42.0</td>\n",
              "      <td>8.0</td>\n",
              "      <td>08B</td>\n",
              "      <td>41.890828</td>\n",
              "      <td>-87.630235</td>\n",
              "    </tr>\n",
              "    <tr>\n",
              "      <th>1</th>\n",
              "      <td>1</td>\n",
              "      <td>9446748</td>\n",
              "      <td>HX100020</td>\n",
              "      <td>01/01/2014 12:00:00 AM</td>\n",
              "      <td>006XX N DEARBORN ST</td>\n",
              "      <td>0890</td>\n",
              "      <td>THEFT</td>\n",
              "      <td>FROM BUILDING</td>\n",
              "      <td>BAR OR TAVERN</td>\n",
              "      <td>False</td>\n",
              "      <td>False</td>\n",
              "      <td>1832</td>\n",
              "      <td>18</td>\n",
              "      <td>42.0</td>\n",
              "      <td>8.0</td>\n",
              "      <td>06</td>\n",
              "      <td>41.893542</td>\n",
              "      <td>-87.629702</td>\n",
              "    </tr>\n",
              "    <tr>\n",
              "      <th>2</th>\n",
              "      <td>2</td>\n",
              "      <td>9446758</td>\n",
              "      <td>HX100030</td>\n",
              "      <td>01/01/2014 12:30:00 AM</td>\n",
              "      <td>052XX W RACE AVE</td>\n",
              "      <td>1310</td>\n",
              "      <td>CRIMINAL DAMAGE</td>\n",
              "      <td>TO PROPERTY</td>\n",
              "      <td>APARTMENT</td>\n",
              "      <td>False</td>\n",
              "      <td>False</td>\n",
              "      <td>1523</td>\n",
              "      <td>15</td>\n",
              "      <td>28.0</td>\n",
              "      <td>25.0</td>\n",
              "      <td>14</td>\n",
              "      <td>41.890046</td>\n",
              "      <td>-87.756333</td>\n",
              "    </tr>\n",
              "    <tr>\n",
              "      <th>3</th>\n",
              "      <td>3</td>\n",
              "      <td>9446760</td>\n",
              "      <td>HX100027</td>\n",
              "      <td>01/01/2014 12:30:00 AM</td>\n",
              "      <td>053XX W WELLINGTON AVE</td>\n",
              "      <td>0460</td>\n",
              "      <td>BATTERY</td>\n",
              "      <td>SIMPLE</td>\n",
              "      <td>APARTMENT</td>\n",
              "      <td>True</td>\n",
              "      <td>False</td>\n",
              "      <td>2514</td>\n",
              "      <td>25</td>\n",
              "      <td>31.0</td>\n",
              "      <td>19.0</td>\n",
              "      <td>08B</td>\n",
              "      <td>41.935011</td>\n",
              "      <td>-87.759739</td>\n",
              "    </tr>\n",
              "    <tr>\n",
              "      <th>4</th>\n",
              "      <td>4</td>\n",
              "      <td>9446764</td>\n",
              "      <td>HX100054</td>\n",
              "      <td>01/01/2014 12:10:00 AM</td>\n",
              "      <td>014XX W LEXINGTON ST</td>\n",
              "      <td>0460</td>\n",
              "      <td>BATTERY</td>\n",
              "      <td>SIMPLE</td>\n",
              "      <td>STREET</td>\n",
              "      <td>False</td>\n",
              "      <td>False</td>\n",
              "      <td>1231</td>\n",
              "      <td>12</td>\n",
              "      <td>25.0</td>\n",
              "      <td>28.0</td>\n",
              "      <td>08B</td>\n",
              "      <td>41.872509</td>\n",
              "      <td>-87.663069</td>\n",
              "    </tr>\n",
              "  </tbody>\n",
              "</table>\n",
              "</div>\n",
              "      <button class=\"colab-df-convert\" onclick=\"convertToInteractive('df-94f5fac1-26b3-4985-ac53-8ac0d7518c2a')\"\n",
              "              title=\"Convert this dataframe to an interactive table.\"\n",
              "              style=\"display:none;\">\n",
              "        \n",
              "  <svg xmlns=\"http://www.w3.org/2000/svg\" height=\"24px\"viewBox=\"0 0 24 24\"\n",
              "       width=\"24px\">\n",
              "    <path d=\"M0 0h24v24H0V0z\" fill=\"none\"/>\n",
              "    <path d=\"M18.56 5.44l.94 2.06.94-2.06 2.06-.94-2.06-.94-.94-2.06-.94 2.06-2.06.94zm-11 1L8.5 8.5l.94-2.06 2.06-.94-2.06-.94L8.5 2.5l-.94 2.06-2.06.94zm10 10l.94 2.06.94-2.06 2.06-.94-2.06-.94-.94-2.06-.94 2.06-2.06.94z\"/><path d=\"M17.41 7.96l-1.37-1.37c-.4-.4-.92-.59-1.43-.59-.52 0-1.04.2-1.43.59L10.3 9.45l-7.72 7.72c-.78.78-.78 2.05 0 2.83L4 21.41c.39.39.9.59 1.41.59.51 0 1.02-.2 1.41-.59l7.78-7.78 2.81-2.81c.8-.78.8-2.07 0-2.86zM5.41 20L4 18.59l7.72-7.72 1.47 1.35L5.41 20z\"/>\n",
              "  </svg>\n",
              "      </button>\n",
              "      \n",
              "  <style>\n",
              "    .colab-df-container {\n",
              "      display:flex;\n",
              "      flex-wrap:wrap;\n",
              "      gap: 12px;\n",
              "    }\n",
              "\n",
              "    .colab-df-convert {\n",
              "      background-color: #E8F0FE;\n",
              "      border: none;\n",
              "      border-radius: 50%;\n",
              "      cursor: pointer;\n",
              "      display: none;\n",
              "      fill: #1967D2;\n",
              "      height: 32px;\n",
              "      padding: 0 0 0 0;\n",
              "      width: 32px;\n",
              "    }\n",
              "\n",
              "    .colab-df-convert:hover {\n",
              "      background-color: #E2EBFA;\n",
              "      box-shadow: 0px 1px 2px rgba(60, 64, 67, 0.3), 0px 1px 3px 1px rgba(60, 64, 67, 0.15);\n",
              "      fill: #174EA6;\n",
              "    }\n",
              "\n",
              "    [theme=dark] .colab-df-convert {\n",
              "      background-color: #3B4455;\n",
              "      fill: #D2E3FC;\n",
              "    }\n",
              "\n",
              "    [theme=dark] .colab-df-convert:hover {\n",
              "      background-color: #434B5C;\n",
              "      box-shadow: 0px 1px 3px 1px rgba(0, 0, 0, 0.15);\n",
              "      filter: drop-shadow(0px 1px 2px rgba(0, 0, 0, 0.3));\n",
              "      fill: #FFFFFF;\n",
              "    }\n",
              "  </style>\n",
              "\n",
              "      <script>\n",
              "        const buttonEl =\n",
              "          document.querySelector('#df-94f5fac1-26b3-4985-ac53-8ac0d7518c2a button.colab-df-convert');\n",
              "        buttonEl.style.display =\n",
              "          google.colab.kernel.accessAllowed ? 'block' : 'none';\n",
              "\n",
              "        async function convertToInteractive(key) {\n",
              "          const element = document.querySelector('#df-94f5fac1-26b3-4985-ac53-8ac0d7518c2a');\n",
              "          const dataTable =\n",
              "            await google.colab.kernel.invokeFunction('convertToInteractive',\n",
              "                                                     [key], {});\n",
              "          if (!dataTable) return;\n",
              "\n",
              "          const docLinkHtml = 'Like what you see? Visit the ' +\n",
              "            '<a target=\"_blank\" href=https://colab.research.google.com/notebooks/data_table.ipynb>data table notebook</a>'\n",
              "            + ' to learn more about interactive tables.';\n",
              "          element.innerHTML = '';\n",
              "          dataTable['output_type'] = 'display_data';\n",
              "          await google.colab.output.renderOutput(dataTable, element);\n",
              "          const docLink = document.createElement('div');\n",
              "          docLink.innerHTML = docLinkHtml;\n",
              "          element.appendChild(docLink);\n",
              "        }\n",
              "      </script>\n",
              "    </div>\n",
              "  </div>\n",
              "  "
            ]
          },
          "metadata": {},
          "execution_count": 4
        }
      ],
      "source": [
        "df.head()"
      ]
    },
    {
      "cell_type": "code",
      "source": [
        "df.info()"
      ],
      "metadata": {
        "colab": {
          "base_uri": "https://localhost:8080/"
        },
        "id": "eDFUXMrLXP-e",
        "outputId": "0f606c24-08f0-4d53-d829-10592bdd3be1"
      },
      "execution_count": 5,
      "outputs": [
        {
          "output_type": "stream",
          "name": "stdout",
          "text": [
            "<class 'pandas.core.frame.DataFrame'>\n",
            "RangeIndex: 274423 entries, 0 to 274422\n",
            "Data columns (total 18 columns):\n",
            " #   Column                Non-Null Count   Dtype  \n",
            "---  ------                --------------   -----  \n",
            " 0   index                 274423 non-null  int64  \n",
            " 1   ID                    274423 non-null  int64  \n",
            " 2   Case Number           274423 non-null  object \n",
            " 3   Date                  274423 non-null  object \n",
            " 4   Block                 274423 non-null  object \n",
            " 5   IUCR                  274423 non-null  object \n",
            " 6   Primary Type          274423 non-null  object \n",
            " 7   Description           274423 non-null  object \n",
            " 8   Location Description  274247 non-null  object \n",
            " 9   Arrest                274423 non-null  bool   \n",
            " 10  Domestic              274423 non-null  bool   \n",
            " 11  Beat                  274423 non-null  int64  \n",
            " 12  District              274423 non-null  int64  \n",
            " 13  Ward                  274421 non-null  float64\n",
            " 14  Community Area        274422 non-null  float64\n",
            " 15  FBI Code              274423 non-null  object \n",
            " 16  Latitude              269464 non-null  float64\n",
            " 17  Longitude             269464 non-null  float64\n",
            "dtypes: bool(2), float64(4), int64(4), object(8)\n",
            "memory usage: 34.0+ MB\n"
          ]
        }
      ]
    },
    {
      "cell_type": "markdown",
      "source": [
        "We see that the df has about 275k rows and 18 columns"
      ],
      "metadata": {
        "id": "yNn3t31rXdcn"
      }
    },
    {
      "cell_type": "code",
      "source": [
        "agg_df = df['Location Description'].value_counts()"
      ],
      "metadata": {
        "id": "erbJmD26XbWN"
      },
      "execution_count": 6,
      "outputs": []
    },
    {
      "cell_type": "code",
      "source": [
        "agg_df"
      ],
      "metadata": {
        "colab": {
          "base_uri": "https://localhost:8080/"
        },
        "id": "McTEBqtgXxqO",
        "outputId": "a2e8558f-dd60-4a9b-9b25-c8f2467c503f"
      },
      "execution_count": 7,
      "outputs": [
        {
          "output_type": "execute_result",
          "data": {
            "text/plain": [
              "STREET                     63057\n",
              "RESIDENCE                  43139\n",
              "APARTMENT                  35041\n",
              "SIDEWALK                   30901\n",
              "OTHER                      10735\n",
              "                           ...  \n",
              "GAS STATION DRIVE/PROP.        1\n",
              "BASEMENT                       1\n",
              "VESTIBULE                      1\n",
              "NURSING HOME                   1\n",
              "GOVERNMENT BUILDING            1\n",
              "Name: Location Description, Length: 119, dtype: int64"
            ]
          },
          "metadata": {},
          "execution_count": 7
        }
      ]
    },
    {
      "cell_type": "code",
      "source": [
        "df.to_parquet('./crime.parquet', engine = 'pyarrow')"
      ],
      "metadata": {
        "id": "ITy2uZMFXy_M"
      },
      "execution_count": 8,
      "outputs": []
    },
    {
      "cell_type": "code",
      "source": [
        "df.to_parquet('./crime.parquet.gzip', engine = 'pyarrow', compression = 'gzip')"
      ],
      "metadata": {
        "id": "ky5EZKrUZFgI"
      },
      "execution_count": 9,
      "outputs": []
    },
    {
      "cell_type": "markdown",
      "source": [
        "Showing the size of the files on drive"
      ],
      "metadata": {
        "id": "hU-X86zlZio4"
      }
    },
    {
      "cell_type": "code",
      "source": [
        "import os\n",
        "\n",
        "extensions = ['csv', 'parquet','parquet.gzip']\n",
        "\n",
        "for extension in extensions:\n",
        "  size = os.path.getsize(f'{filename}.{extension}')\n",
        "  size_mb = round(size /1024 / 1024, 2)\n",
        "\n",
        "  print (f'{extension}:{size_mb} MB')"
      ],
      "metadata": {
        "colab": {
          "base_uri": "https://localhost:8080/"
        },
        "id": "NeqU1U_UZWlr",
        "outputId": "732b846e-b1ad-49a2-b850-a18201d12c41"
      },
      "execution_count": 10,
      "outputs": [
        {
          "output_type": "stream",
          "name": "stdout",
          "text": [
            "csv:44.72 MB\n",
            "parquet:11.66 MB\n",
            "parquet.gzip:8.32 MB\n"
          ]
        }
      ]
    },
    {
      "cell_type": "code",
      "source": [
        "!pip install pyarrow==7.0.0"
      ],
      "metadata": {
        "colab": {
          "base_uri": "https://localhost:8080/"
        },
        "id": "-6LSc_bJaGA3",
        "outputId": "49a09e39-412e-4907-a67a-db9548a6ec99"
      },
      "execution_count": 11,
      "outputs": [
        {
          "output_type": "stream",
          "name": "stdout",
          "text": [
            "Looking in indexes: https://pypi.org/simple, https://us-python.pkg.dev/colab-wheels/public/simple/\n",
            "Requirement already satisfied: pyarrow==7.0.0 in /usr/local/lib/python3.9/dist-packages (7.0.0)\n",
            "Requirement already satisfied: numpy>=1.16.6 in /usr/local/lib/python3.9/dist-packages (from pyarrow==7.0.0) (1.22.4)\n"
          ]
        }
      ]
    },
    {
      "cell_type": "code",
      "source": [
        "from pyarrow import csv\n",
        "import pyarrow as pa\n",
        "import pandas as pd\n",
        "\n",
        "filename = './crime'\n",
        "\n",
        "table = csv.read_csv(f'{filename}.csv')\n",
        "df = pd.read_csv(f'./{filename}.csv')"
      ],
      "metadata": {
        "id": "_-1Yngwra1ZY"
      },
      "execution_count": 12,
      "outputs": []
    },
    {
      "cell_type": "markdown",
      "source": [
        "Aggregation Using Pandas"
      ],
      "metadata": {
        "id": "syfYJVFpdB-r"
      }
    },
    {
      "cell_type": "code",
      "source": [
        "agg_df = df['Location Description'].value_counts()"
      ],
      "metadata": {
        "id": "q26gHdsnbQL5"
      },
      "execution_count": 14,
      "outputs": []
    },
    {
      "cell_type": "markdown",
      "source": [
        "Aggregation using PyArrow"
      ],
      "metadata": {
        "id": "dzwY9muIdEWm"
      }
    },
    {
      "cell_type": "code",
      "source": [
        "agg_table = table.group_by('Location Description').aggregate([('Location Description', 'count')])\n",
        "agg_table"
      ],
      "metadata": {
        "colab": {
          "base_uri": "https://localhost:8080/"
        },
        "id": "c9IkUo8fbgun",
        "outputId": "cd795390-aae6-4aa1-f79e-715f61ec8055"
      },
      "execution_count": 19,
      "outputs": [
        {
          "output_type": "execute_result",
          "data": {
            "text/plain": [
              "pyarrow.Table\n",
              "Location Description_count: int64\n",
              "Location Description: string\n",
              "----\n",
              "Location Description_count: [[63057,1827,35041,5451,43139,30901,10735,7458,4861,1139,...,3,2,5,3,1,1,3,2,2,1]]\n",
              "Location Description: [[\"STREET\",\"BAR OR TAVERN\",\"APARTMENT\",\"RESIDENTIAL YARD (FRONT/BACK)\",\"RESIDENCE\",\"SIDEWALK\",\"OTHER\",\"PARKING LOT/GARAGE(NON.RESID.)\",\"RESIDENCE PORCH/HALLWAY\",\"CTA PLATFORM\",...,\"GANGWAY\",\"GARAGE\",\"PARKING LOT\",\"VACANT LOT\",\"GAS STATION DRIVE/PROP.\",\"BASEMENT\",\"DRIVEWAY\",\"CHA PARKING LOT\",\"BARBER SHOP/BEAUTY SALON\",\"GOVERNMENT BUILDING\"]]"
            ]
          },
          "metadata": {},
          "execution_count": 19
        }
      ]
    },
    {
      "cell_type": "markdown",
      "source": [
        "Difference in size using PyArrow and Pandas"
      ],
      "metadata": {
        "id": "-YfQ36BZhqlP"
      }
    },
    {
      "cell_type": "code",
      "source": [
        "import sys \n",
        "\n",
        "objects = [{'pandas': df}, {'pyarrow': table}]\n",
        "\n",
        "for obj_dict in objects:\n",
        "  for id, obj in obj_dict.items():\n",
        "\n",
        "    size = sys.getsizeof(obj)\n",
        "    size_mb = round(size / 1024 / 1024, 2)\n",
        "\n",
        "    print(f'{id}: {size_mb} MB')"
      ],
      "metadata": {
        "colab": {
          "base_uri": "https://localhost:8080/"
        },
        "id": "8KcDnuH8hJ2A",
        "outputId": "44389637-31b5-421b-8419-9fe15af7bd8e"
      },
      "execution_count": 26,
      "outputs": [
        {
          "output_type": "stream",
          "name": "stdout",
          "text": [
            "pandas: 178.39 MB\n",
            "pyarrow: 49.47 MB\n"
          ]
        }
      ]
    },
    {
      "cell_type": "markdown",
      "source": [
        "To work with partitioned data, we create a reference date for each column"
      ],
      "metadata": {
        "id": "n0SrJ9RHeB7U"
      }
    },
    {
      "cell_type": "code",
      "source": [
        "filename = './crime'\n",
        "df = pd.read_csv(f'./{filename}.csv')"
      ],
      "metadata": {
        "id": "PJy10dwKct-e"
      },
      "execution_count": 20,
      "outputs": []
    },
    {
      "cell_type": "code",
      "source": [
        "from datetime import datetime\n",
        "\n",
        "df['reference_date'] = df['Date'].apply(lambda date:datetime.strptime(date.split(sep = ' ')[0], '%m/%d/%Y').strftime('%Y-%m-%d'))"
      ],
      "metadata": {
        "id": "TWdxvLQXedGL"
      },
      "execution_count": 21,
      "outputs": []
    },
    {
      "cell_type": "code",
      "source": [
        "df.tail()"
      ],
      "metadata": {
        "colab": {
          "base_uri": "https://localhost:8080/",
          "height": 513
        },
        "id": "PLMDIlzJe3dc",
        "outputId": "610ac292-4f87-4d77-e863-dbc6af3e36a6"
      },
      "execution_count": 22,
      "outputs": [
        {
          "output_type": "execute_result",
          "data": {
            "text/plain": [
              "         index        ID Case Number                    Date  \\\n",
              "274418  274418  10362481    HY554205  08/15/2014 09:00:00 PM   \n",
              "274419  274419  10362558    HY554336  08/31/2014 03:00:00 AM   \n",
              "274420  274420  10363233    HY554972  02/20/2014 12:00:00 PM   \n",
              "274421  274421  10363368    HY555019  09/02/2014 09:00:00 AM   \n",
              "274422  274422  10364473    HY556366  12/04/2014 09:00:00 AM   \n",
              "\n",
              "                    Block  IUCR         Primary Type  \\\n",
              "274418   048XX N CLARK ST  1130   DECEPTIVE PRACTICE   \n",
              "274419    028XX W 19TH ST  0281  CRIM SEXUAL ASSAULT   \n",
              "274420  046XX W NORTH AVE  1153   DECEPTIVE PRACTICE   \n",
              "274421  047XX N BEACON ST  1153   DECEPTIVE PRACTICE   \n",
              "274422   012XX W LUNT AVE  1153   DECEPTIVE PRACTICE   \n",
              "\n",
              "                                Description       Location Description  \\\n",
              "274418             FRAUD OR CONFIDENCE GAME                  APARTMENT   \n",
              "274419                       NON-AGGRAVATED  HOSPITAL BUILDING/GROUNDS   \n",
              "274420  FINANCIAL IDENTITY THEFT OVER $ 300                      OTHER   \n",
              "274421  FINANCIAL IDENTITY THEFT OVER $ 300                  APARTMENT   \n",
              "274422  FINANCIAL IDENTITY THEFT OVER $ 300                  APARTMENT   \n",
              "\n",
              "        Arrest  Domestic  Beat  District  Ward  Community Area FBI Code  \\\n",
              "274418   False     False  2032        20  46.0             3.0       11   \n",
              "274419   False     False  1022        10  12.0            30.0       02   \n",
              "274420   False     False  2533        25  37.0            25.0       11   \n",
              "274421   False     False  1913        19  46.0             3.0       11   \n",
              "274422   False     False  2431        24  49.0             1.0       11   \n",
              "\n",
              "        Latitude  Longitude reference_date  \n",
              "274418       NaN        NaN     2014-08-15  \n",
              "274419       NaN        NaN     2014-08-31  \n",
              "274420       NaN        NaN     2014-02-20  \n",
              "274421       NaN        NaN     2014-09-02  \n",
              "274422       NaN        NaN     2014-12-04  "
            ],
            "text/html": [
              "\n",
              "  <div id=\"df-e4a8b98b-7031-4bf0-8c11-4b794fe7aaf2\">\n",
              "    <div class=\"colab-df-container\">\n",
              "      <div>\n",
              "<style scoped>\n",
              "    .dataframe tbody tr th:only-of-type {\n",
              "        vertical-align: middle;\n",
              "    }\n",
              "\n",
              "    .dataframe tbody tr th {\n",
              "        vertical-align: top;\n",
              "    }\n",
              "\n",
              "    .dataframe thead th {\n",
              "        text-align: right;\n",
              "    }\n",
              "</style>\n",
              "<table border=\"1\" class=\"dataframe\">\n",
              "  <thead>\n",
              "    <tr style=\"text-align: right;\">\n",
              "      <th></th>\n",
              "      <th>index</th>\n",
              "      <th>ID</th>\n",
              "      <th>Case Number</th>\n",
              "      <th>Date</th>\n",
              "      <th>Block</th>\n",
              "      <th>IUCR</th>\n",
              "      <th>Primary Type</th>\n",
              "      <th>Description</th>\n",
              "      <th>Location Description</th>\n",
              "      <th>Arrest</th>\n",
              "      <th>Domestic</th>\n",
              "      <th>Beat</th>\n",
              "      <th>District</th>\n",
              "      <th>Ward</th>\n",
              "      <th>Community Area</th>\n",
              "      <th>FBI Code</th>\n",
              "      <th>Latitude</th>\n",
              "      <th>Longitude</th>\n",
              "      <th>reference_date</th>\n",
              "    </tr>\n",
              "  </thead>\n",
              "  <tbody>\n",
              "    <tr>\n",
              "      <th>274418</th>\n",
              "      <td>274418</td>\n",
              "      <td>10362481</td>\n",
              "      <td>HY554205</td>\n",
              "      <td>08/15/2014 09:00:00 PM</td>\n",
              "      <td>048XX N CLARK ST</td>\n",
              "      <td>1130</td>\n",
              "      <td>DECEPTIVE PRACTICE</td>\n",
              "      <td>FRAUD OR CONFIDENCE GAME</td>\n",
              "      <td>APARTMENT</td>\n",
              "      <td>False</td>\n",
              "      <td>False</td>\n",
              "      <td>2032</td>\n",
              "      <td>20</td>\n",
              "      <td>46.0</td>\n",
              "      <td>3.0</td>\n",
              "      <td>11</td>\n",
              "      <td>NaN</td>\n",
              "      <td>NaN</td>\n",
              "      <td>2014-08-15</td>\n",
              "    </tr>\n",
              "    <tr>\n",
              "      <th>274419</th>\n",
              "      <td>274419</td>\n",
              "      <td>10362558</td>\n",
              "      <td>HY554336</td>\n",
              "      <td>08/31/2014 03:00:00 AM</td>\n",
              "      <td>028XX W 19TH ST</td>\n",
              "      <td>0281</td>\n",
              "      <td>CRIM SEXUAL ASSAULT</td>\n",
              "      <td>NON-AGGRAVATED</td>\n",
              "      <td>HOSPITAL BUILDING/GROUNDS</td>\n",
              "      <td>False</td>\n",
              "      <td>False</td>\n",
              "      <td>1022</td>\n",
              "      <td>10</td>\n",
              "      <td>12.0</td>\n",
              "      <td>30.0</td>\n",
              "      <td>02</td>\n",
              "      <td>NaN</td>\n",
              "      <td>NaN</td>\n",
              "      <td>2014-08-31</td>\n",
              "    </tr>\n",
              "    <tr>\n",
              "      <th>274420</th>\n",
              "      <td>274420</td>\n",
              "      <td>10363233</td>\n",
              "      <td>HY554972</td>\n",
              "      <td>02/20/2014 12:00:00 PM</td>\n",
              "      <td>046XX W NORTH AVE</td>\n",
              "      <td>1153</td>\n",
              "      <td>DECEPTIVE PRACTICE</td>\n",
              "      <td>FINANCIAL IDENTITY THEFT OVER $ 300</td>\n",
              "      <td>OTHER</td>\n",
              "      <td>False</td>\n",
              "      <td>False</td>\n",
              "      <td>2533</td>\n",
              "      <td>25</td>\n",
              "      <td>37.0</td>\n",
              "      <td>25.0</td>\n",
              "      <td>11</td>\n",
              "      <td>NaN</td>\n",
              "      <td>NaN</td>\n",
              "      <td>2014-02-20</td>\n",
              "    </tr>\n",
              "    <tr>\n",
              "      <th>274421</th>\n",
              "      <td>274421</td>\n",
              "      <td>10363368</td>\n",
              "      <td>HY555019</td>\n",
              "      <td>09/02/2014 09:00:00 AM</td>\n",
              "      <td>047XX N BEACON ST</td>\n",
              "      <td>1153</td>\n",
              "      <td>DECEPTIVE PRACTICE</td>\n",
              "      <td>FINANCIAL IDENTITY THEFT OVER $ 300</td>\n",
              "      <td>APARTMENT</td>\n",
              "      <td>False</td>\n",
              "      <td>False</td>\n",
              "      <td>1913</td>\n",
              "      <td>19</td>\n",
              "      <td>46.0</td>\n",
              "      <td>3.0</td>\n",
              "      <td>11</td>\n",
              "      <td>NaN</td>\n",
              "      <td>NaN</td>\n",
              "      <td>2014-09-02</td>\n",
              "    </tr>\n",
              "    <tr>\n",
              "      <th>274422</th>\n",
              "      <td>274422</td>\n",
              "      <td>10364473</td>\n",
              "      <td>HY556366</td>\n",
              "      <td>12/04/2014 09:00:00 AM</td>\n",
              "      <td>012XX W LUNT AVE</td>\n",
              "      <td>1153</td>\n",
              "      <td>DECEPTIVE PRACTICE</td>\n",
              "      <td>FINANCIAL IDENTITY THEFT OVER $ 300</td>\n",
              "      <td>APARTMENT</td>\n",
              "      <td>False</td>\n",
              "      <td>False</td>\n",
              "      <td>2431</td>\n",
              "      <td>24</td>\n",
              "      <td>49.0</td>\n",
              "      <td>1.0</td>\n",
              "      <td>11</td>\n",
              "      <td>NaN</td>\n",
              "      <td>NaN</td>\n",
              "      <td>2014-12-04</td>\n",
              "    </tr>\n",
              "  </tbody>\n",
              "</table>\n",
              "</div>\n",
              "      <button class=\"colab-df-convert\" onclick=\"convertToInteractive('df-e4a8b98b-7031-4bf0-8c11-4b794fe7aaf2')\"\n",
              "              title=\"Convert this dataframe to an interactive table.\"\n",
              "              style=\"display:none;\">\n",
              "        \n",
              "  <svg xmlns=\"http://www.w3.org/2000/svg\" height=\"24px\"viewBox=\"0 0 24 24\"\n",
              "       width=\"24px\">\n",
              "    <path d=\"M0 0h24v24H0V0z\" fill=\"none\"/>\n",
              "    <path d=\"M18.56 5.44l.94 2.06.94-2.06 2.06-.94-2.06-.94-.94-2.06-.94 2.06-2.06.94zm-11 1L8.5 8.5l.94-2.06 2.06-.94-2.06-.94L8.5 2.5l-.94 2.06-2.06.94zm10 10l.94 2.06.94-2.06 2.06-.94-2.06-.94-.94-2.06-.94 2.06-2.06.94z\"/><path d=\"M17.41 7.96l-1.37-1.37c-.4-.4-.92-.59-1.43-.59-.52 0-1.04.2-1.43.59L10.3 9.45l-7.72 7.72c-.78.78-.78 2.05 0 2.83L4 21.41c.39.39.9.59 1.41.59.51 0 1.02-.2 1.41-.59l7.78-7.78 2.81-2.81c.8-.78.8-2.07 0-2.86zM5.41 20L4 18.59l7.72-7.72 1.47 1.35L5.41 20z\"/>\n",
              "  </svg>\n",
              "      </button>\n",
              "      \n",
              "  <style>\n",
              "    .colab-df-container {\n",
              "      display:flex;\n",
              "      flex-wrap:wrap;\n",
              "      gap: 12px;\n",
              "    }\n",
              "\n",
              "    .colab-df-convert {\n",
              "      background-color: #E8F0FE;\n",
              "      border: none;\n",
              "      border-radius: 50%;\n",
              "      cursor: pointer;\n",
              "      display: none;\n",
              "      fill: #1967D2;\n",
              "      height: 32px;\n",
              "      padding: 0 0 0 0;\n",
              "      width: 32px;\n",
              "    }\n",
              "\n",
              "    .colab-df-convert:hover {\n",
              "      background-color: #E2EBFA;\n",
              "      box-shadow: 0px 1px 2px rgba(60, 64, 67, 0.3), 0px 1px 3px 1px rgba(60, 64, 67, 0.15);\n",
              "      fill: #174EA6;\n",
              "    }\n",
              "\n",
              "    [theme=dark] .colab-df-convert {\n",
              "      background-color: #3B4455;\n",
              "      fill: #D2E3FC;\n",
              "    }\n",
              "\n",
              "    [theme=dark] .colab-df-convert:hover {\n",
              "      background-color: #434B5C;\n",
              "      box-shadow: 0px 1px 3px 1px rgba(0, 0, 0, 0.15);\n",
              "      filter: drop-shadow(0px 1px 2px rgba(0, 0, 0, 0.3));\n",
              "      fill: #FFFFFF;\n",
              "    }\n",
              "  </style>\n",
              "\n",
              "      <script>\n",
              "        const buttonEl =\n",
              "          document.querySelector('#df-e4a8b98b-7031-4bf0-8c11-4b794fe7aaf2 button.colab-df-convert');\n",
              "        buttonEl.style.display =\n",
              "          google.colab.kernel.accessAllowed ? 'block' : 'none';\n",
              "\n",
              "        async function convertToInteractive(key) {\n",
              "          const element = document.querySelector('#df-e4a8b98b-7031-4bf0-8c11-4b794fe7aaf2');\n",
              "          const dataTable =\n",
              "            await google.colab.kernel.invokeFunction('convertToInteractive',\n",
              "                                                     [key], {});\n",
              "          if (!dataTable) return;\n",
              "\n",
              "          const docLinkHtml = 'Like what you see? Visit the ' +\n",
              "            '<a target=\"_blank\" href=https://colab.research.google.com/notebooks/data_table.ipynb>data table notebook</a>'\n",
              "            + ' to learn more about interactive tables.';\n",
              "          element.innerHTML = '';\n",
              "          dataTable['output_type'] = 'display_data';\n",
              "          await google.colab.output.renderOutput(dataTable, element);\n",
              "          const docLink = document.createElement('div');\n",
              "          docLink.innerHTML = docLinkHtml;\n",
              "          element.appendChild(docLink);\n",
              "        }\n",
              "      </script>\n",
              "    </div>\n",
              "  </div>\n",
              "  "
            ]
          },
          "metadata": {},
          "execution_count": 22
        }
      ]
    },
    {
      "cell_type": "code",
      "source": [
        "agg_df = pd.DataFrame(df['reference_date'].value_counts()).sort_index().reset_index()\n",
        "agg_df = agg_df.rename(columns = {'reference_date':'amount'})\n",
        "agg_df = agg_df.rename(columns = {'index':'reference_date'})"
      ],
      "metadata": {
        "id": "IFz2VkBMe65U"
      },
      "execution_count": 24,
      "outputs": []
    },
    {
      "cell_type": "code",
      "source": [
        "agg_df.tail()"
      ],
      "metadata": {
        "colab": {
          "base_uri": "https://localhost:8080/",
          "height": 206
        },
        "id": "zPm71vpufYrQ",
        "outputId": "e875a652-ef3b-4bc5-edac-6f4c01de5755"
      },
      "execution_count": 25,
      "outputs": [
        {
          "output_type": "execute_result",
          "data": {
            "text/plain": [
              "    reference_date  amount\n",
              "360     2014-12-27     716\n",
              "361     2014-12-28     631\n",
              "362     2014-12-29     677\n",
              "363     2014-12-30     570\n",
              "364     2014-12-31     577"
            ],
            "text/html": [
              "\n",
              "  <div id=\"df-275bcfb0-4ad0-47e6-a787-03d1153646ef\">\n",
              "    <div class=\"colab-df-container\">\n",
              "      <div>\n",
              "<style scoped>\n",
              "    .dataframe tbody tr th:only-of-type {\n",
              "        vertical-align: middle;\n",
              "    }\n",
              "\n",
              "    .dataframe tbody tr th {\n",
              "        vertical-align: top;\n",
              "    }\n",
              "\n",
              "    .dataframe thead th {\n",
              "        text-align: right;\n",
              "    }\n",
              "</style>\n",
              "<table border=\"1\" class=\"dataframe\">\n",
              "  <thead>\n",
              "    <tr style=\"text-align: right;\">\n",
              "      <th></th>\n",
              "      <th>reference_date</th>\n",
              "      <th>amount</th>\n",
              "    </tr>\n",
              "  </thead>\n",
              "  <tbody>\n",
              "    <tr>\n",
              "      <th>360</th>\n",
              "      <td>2014-12-27</td>\n",
              "      <td>716</td>\n",
              "    </tr>\n",
              "    <tr>\n",
              "      <th>361</th>\n",
              "      <td>2014-12-28</td>\n",
              "      <td>631</td>\n",
              "    </tr>\n",
              "    <tr>\n",
              "      <th>362</th>\n",
              "      <td>2014-12-29</td>\n",
              "      <td>677</td>\n",
              "    </tr>\n",
              "    <tr>\n",
              "      <th>363</th>\n",
              "      <td>2014-12-30</td>\n",
              "      <td>570</td>\n",
              "    </tr>\n",
              "    <tr>\n",
              "      <th>364</th>\n",
              "      <td>2014-12-31</td>\n",
              "      <td>577</td>\n",
              "    </tr>\n",
              "  </tbody>\n",
              "</table>\n",
              "</div>\n",
              "      <button class=\"colab-df-convert\" onclick=\"convertToInteractive('df-275bcfb0-4ad0-47e6-a787-03d1153646ef')\"\n",
              "              title=\"Convert this dataframe to an interactive table.\"\n",
              "              style=\"display:none;\">\n",
              "        \n",
              "  <svg xmlns=\"http://www.w3.org/2000/svg\" height=\"24px\"viewBox=\"0 0 24 24\"\n",
              "       width=\"24px\">\n",
              "    <path d=\"M0 0h24v24H0V0z\" fill=\"none\"/>\n",
              "    <path d=\"M18.56 5.44l.94 2.06.94-2.06 2.06-.94-2.06-.94-.94-2.06-.94 2.06-2.06.94zm-11 1L8.5 8.5l.94-2.06 2.06-.94-2.06-.94L8.5 2.5l-.94 2.06-2.06.94zm10 10l.94 2.06.94-2.06 2.06-.94-2.06-.94-.94-2.06-.94 2.06-2.06.94z\"/><path d=\"M17.41 7.96l-1.37-1.37c-.4-.4-.92-.59-1.43-.59-.52 0-1.04.2-1.43.59L10.3 9.45l-7.72 7.72c-.78.78-.78 2.05 0 2.83L4 21.41c.39.39.9.59 1.41.59.51 0 1.02-.2 1.41-.59l7.78-7.78 2.81-2.81c.8-.78.8-2.07 0-2.86zM5.41 20L4 18.59l7.72-7.72 1.47 1.35L5.41 20z\"/>\n",
              "  </svg>\n",
              "      </button>\n",
              "      \n",
              "  <style>\n",
              "    .colab-df-container {\n",
              "      display:flex;\n",
              "      flex-wrap:wrap;\n",
              "      gap: 12px;\n",
              "    }\n",
              "\n",
              "    .colab-df-convert {\n",
              "      background-color: #E8F0FE;\n",
              "      border: none;\n",
              "      border-radius: 50%;\n",
              "      cursor: pointer;\n",
              "      display: none;\n",
              "      fill: #1967D2;\n",
              "      height: 32px;\n",
              "      padding: 0 0 0 0;\n",
              "      width: 32px;\n",
              "    }\n",
              "\n",
              "    .colab-df-convert:hover {\n",
              "      background-color: #E2EBFA;\n",
              "      box-shadow: 0px 1px 2px rgba(60, 64, 67, 0.3), 0px 1px 3px 1px rgba(60, 64, 67, 0.15);\n",
              "      fill: #174EA6;\n",
              "    }\n",
              "\n",
              "    [theme=dark] .colab-df-convert {\n",
              "      background-color: #3B4455;\n",
              "      fill: #D2E3FC;\n",
              "    }\n",
              "\n",
              "    [theme=dark] .colab-df-convert:hover {\n",
              "      background-color: #434B5C;\n",
              "      box-shadow: 0px 1px 3px 1px rgba(0, 0, 0, 0.15);\n",
              "      filter: drop-shadow(0px 1px 2px rgba(0, 0, 0, 0.3));\n",
              "      fill: #FFFFFF;\n",
              "    }\n",
              "  </style>\n",
              "\n",
              "      <script>\n",
              "        const buttonEl =\n",
              "          document.querySelector('#df-275bcfb0-4ad0-47e6-a787-03d1153646ef button.colab-df-convert');\n",
              "        buttonEl.style.display =\n",
              "          google.colab.kernel.accessAllowed ? 'block' : 'none';\n",
              "\n",
              "        async function convertToInteractive(key) {\n",
              "          const element = document.querySelector('#df-275bcfb0-4ad0-47e6-a787-03d1153646ef');\n",
              "          const dataTable =\n",
              "            await google.colab.kernel.invokeFunction('convertToInteractive',\n",
              "                                                     [key], {});\n",
              "          if (!dataTable) return;\n",
              "\n",
              "          const docLinkHtml = 'Like what you see? Visit the ' +\n",
              "            '<a target=\"_blank\" href=https://colab.research.google.com/notebooks/data_table.ipynb>data table notebook</a>'\n",
              "            + ' to learn more about interactive tables.';\n",
              "          element.innerHTML = '';\n",
              "          dataTable['output_type'] = 'display_data';\n",
              "          await google.colab.output.renderOutput(dataTable, element);\n",
              "          const docLink = document.createElement('div');\n",
              "          docLink.innerHTML = docLinkHtml;\n",
              "          element.appendChild(docLink);\n",
              "        }\n",
              "      </script>\n",
              "    </div>\n",
              "  </div>\n",
              "  "
            ]
          },
          "metadata": {},
          "execution_count": 25
        }
      ]
    },
    {
      "cell_type": "code",
      "source": [
        "import seaborn as sns\n",
        "with sns.axes_style('whitegrid'):\n",
        "  chart = sns.barplot(x = 'reference_date', y = 'amount', data = agg_df)\n",
        "  chart.set(xticklabels = [])\n",
        "  chart.set(title = 'Frequency of Crime per Day (Chicago)', xlabel = 'Date (values omited)', ylabel = 'Absolute Frequency')\n",
        "  chart.figure.set_size_inches(w = 40/2.54, h = 15/2.54)"
      ],
      "metadata": {
        "colab": {
          "base_uri": "https://localhost:8080/",
          "height": 389
        },
        "id": "cvB128x8g47q",
        "outputId": "1e9b9b14-a4c4-4e03-e90c-875613f2026c"
      },
      "execution_count": 29,
      "outputs": [
        {
          "output_type": "display_data",
          "data": {
            "text/plain": [
              "<Figure size 1133.86x425.197 with 1 Axes>"
            ],
            "image/png": "[encoded data removed]"
          },
          "metadata": {}
        }
      ]
    },
    {
      "cell_type": "code",
      "source": [
        "df.to_parquet('./crime', engine = 'pyarrow', compression = 'gzip', partition_cols = 'reference_date')"
      ],
      "metadata": {
        "id": "SEJmPno7irk_"
      },
      "execution_count": 30,
      "outputs": []
    },
    {
      "cell_type": "code",
      "source": [
        "df.to_csv('./crime_enriched.csv', sep = ',', index = False)"
      ],
      "metadata": {
        "id": "MFvuIXJ3jYue"
      },
      "execution_count": 31,
      "outputs": []
    },
    {
      "cell_type": "markdown",
      "source": [
        "Connecting to Amazon S3"
      ],
      "metadata": {
        "id": "VeUEwtdApgBt"
      }
    },
    {
      "cell_type": "code",
      "source": [
        "from getpass import getpass\n",
        "\n",
        "aws_access_key_id = getpass()"
      ],
      "metadata": {
        "colab": {
          "base_uri": "https://localhost:8080/"
        },
        "id": "-Os_Jzs_jhFm",
        "outputId": "c4ff311f-2107-406b-c3f4-c7651d7c60a5"
      },
      "execution_count": 32,
      "outputs": [
        {
          "name": "stdout",
          "output_type": "stream",
          "text": [
            "··········\n"
          ]
        }
      ]
    },
    {
      "cell_type": "code",
      "source": [
        "from getpass import getpass\n",
        "\n",
        "aws_secret_access_key = getpass()"
      ],
      "metadata": {
        "colab": {
          "base_uri": "https://localhost:8080/"
        },
        "id": "aonwcMinpnSv",
        "outputId": "657d02e8-bf3a-4823-f35e-55aa9a80a837"
      },
      "execution_count": 33,
      "outputs": [
        {
          "name": "stdout",
          "output_type": "stream",
          "text": [
            "··········\n"
          ]
        }
      ]
    },
    {
      "cell_type": "code",
      "source": [
        "!pip install boto3"
      ],
      "metadata": {
        "colab": {
          "base_uri": "https://localhost:8080/"
        },
        "id": "b19L-qTFp7ct",
        "outputId": "98d0cffd-dc01-4d36-a33e-649aa780a024"
      },
      "execution_count": 34,
      "outputs": [
        {
          "output_type": "stream",
          "name": "stdout",
          "text": [
            "Looking in indexes: https://pypi.org/simple, https://us-python.pkg.dev/colab-wheels/public/simple/\n",
            "Collecting boto3\n",
            "  Downloading boto3-1.26.93-py3-none-any.whl (135 kB)\n",
            "\u001b[2K     \u001b[90m━━━━━━━━━━━━━━━━━━━━━━━━━━━━━━━━━━━━━━━\u001b[0m \u001b[32m135.1/135.1 KB\u001b[0m \u001b[31m3.2 MB/s\u001b[0m eta \u001b[36m0:00:00\u001b[0m\n",
            "\u001b[?25hCollecting s3transfer<0.7.0,>=0.6.0\n",
            "  Downloading s3transfer-0.6.0-py3-none-any.whl (79 kB)\n",
            "\u001b[2K     \u001b[90m━━━━━━━━━━━━━━━━━━━━━━━━━━━━━━━━━━━━━━━━\u001b[0m \u001b[32m79.6/79.6 KB\u001b[0m \u001b[31m6.0 MB/s\u001b[0m eta \u001b[36m0:00:00\u001b[0m\n",
            "\u001b[?25hCollecting jmespath<2.0.0,>=0.7.1\n",
            "  Downloading jmespath-1.0.1-py3-none-any.whl (20 kB)\n",
            "Collecting botocore<1.30.0,>=1.29.93\n",
            "  Downloading botocore-1.29.93-py3-none-any.whl (10.5 MB)\n",
            "\u001b[2K     \u001b[90m━━━━━━━━━━━━━━━━━━━━━━━━━━━━━━━━━━━━━━━━\u001b[0m \u001b[32m10.5/10.5 MB\u001b[0m \u001b[31m55.2 MB/s\u001b[0m eta \u001b[36m0:00:00\u001b[0m\n",
            "\u001b[?25hRequirement already satisfied: urllib3<1.27,>=1.25.4 in /usr/local/lib/python3.9/dist-packages (from botocore<1.30.0,>=1.29.93->boto3) (1.26.15)\n",
            "Requirement already satisfied: python-dateutil<3.0.0,>=2.1 in /usr/local/lib/python3.9/dist-packages (from botocore<1.30.0,>=1.29.93->boto3) (2.8.2)\n",
            "Requirement already satisfied: six>=1.5 in /usr/local/lib/python3.9/dist-packages (from python-dateutil<3.0.0,>=2.1->botocore<1.30.0,>=1.29.93->boto3) (1.15.0)\n",
            "Installing collected packages: jmespath, botocore, s3transfer, boto3\n",
            "Successfully installed boto3-1.26.93 botocore-1.29.93 jmespath-1.0.1 s3transfer-0.6.0\n"
          ]
        }
      ]
    },
    {
      "cell_type": "code",
      "source": [
        "import boto3\n",
        "\n",
        "client = boto3.client(\n",
        "    's3',\n",
        "    aws_access_key_id = aws_access_key_id,\n",
        "    aws_secret_access_key = aws_secret_access_key\n",
        ")"
      ],
      "metadata": {
        "id": "sd2ykCy2qCnc"
      },
      "execution_count": 36,
      "outputs": []
    },
    {
      "cell_type": "code",
      "source": [
        "import os\n",
        "\n",
        "BUCKET = 'mod42ebacparquet'\n",
        "\n",
        "i = 0\n",
        "\n",
        "for root, dirs, files in os.walk('./crime'):\n",
        "  elapsed = f'{round(100*i/365,2)} %'\n",
        "  print(elapsed)\n",
        "  for file in files:\n",
        "    path = os.path.join(root,file)\n",
        "    bucket_path = '/'.join(path.split(sep = '/')[2:])\n",
        "    client.upload_file(path, BUCKET, bucket_path)\n",
        "  i = i+1"
      ],
      "metadata": {
        "colab": {
          "base_uri": "https://localhost:8080/"
        },
        "id": "JVvjIVpSqV3F",
        "outputId": "e0ca03ae-0550-4cbc-ca92-aa36cb5d153f"
      },
      "execution_count": 38,
      "outputs": [
        {
          "output_type": "stream",
          "name": "stdout",
          "text": [
            "0.0 %\n",
            "0.27 %\n",
            "0.55 %\n",
            "0.82 %\n",
            "1.1 %\n",
            "1.37 %\n",
            "1.64 %\n",
            "1.92 %\n",
            "2.19 %\n",
            "2.47 %\n",
            "2.74 %\n",
            "3.01 %\n",
            "3.29 %\n",
            "3.56 %\n",
            "3.84 %\n",
            "4.11 %\n",
            "4.38 %\n",
            "4.66 %\n",
            "4.93 %\n",
            "5.21 %\n",
            "5.48 %\n",
            "5.75 %\n",
            "6.03 %\n",
            "6.3 %\n",
            "6.58 %\n",
            "6.85 %\n",
            "7.12 %\n",
            "7.4 %\n",
            "7.67 %\n",
            "7.95 %\n",
            "8.22 %\n",
            "8.49 %\n",
            "8.77 %\n",
            "9.04 %\n",
            "9.32 %\n",
            "9.59 %\n",
            "9.86 %\n",
            "10.14 %\n",
            "10.41 %\n",
            "10.68 %\n",
            "10.96 %\n",
            "11.23 %\n",
            "11.51 %\n",
            "11.78 %\n",
            "12.05 %\n",
            "12.33 %\n",
            "12.6 %\n",
            "12.88 %\n",
            "13.15 %\n",
            "13.42 %\n",
            "13.7 %\n",
            "13.97 %\n",
            "14.25 %\n",
            "14.52 %\n",
            "14.79 %\n",
            "15.07 %\n",
            "15.34 %\n",
            "15.62 %\n",
            "15.89 %\n",
            "16.16 %\n",
            "16.44 %\n",
            "16.71 %\n",
            "16.99 %\n",
            "17.26 %\n",
            "17.53 %\n",
            "17.81 %\n",
            "18.08 %\n",
            "18.36 %\n",
            "18.63 %\n",
            "18.9 %\n",
            "19.18 %\n",
            "19.45 %\n",
            "19.73 %\n",
            "20.0 %\n",
            "20.27 %\n",
            "20.55 %\n",
            "20.82 %\n",
            "21.1 %\n",
            "21.37 %\n",
            "21.64 %\n",
            "21.92 %\n",
            "22.19 %\n",
            "22.47 %\n",
            "22.74 %\n",
            "23.01 %\n",
            "23.29 %\n",
            "23.56 %\n",
            "23.84 %\n",
            "24.11 %\n",
            "24.38 %\n",
            "24.66 %\n",
            "24.93 %\n",
            "25.21 %\n",
            "25.48 %\n",
            "25.75 %\n",
            "26.03 %\n",
            "26.3 %\n",
            "26.58 %\n",
            "26.85 %\n",
            "27.12 %\n",
            "27.4 %\n",
            "27.67 %\n",
            "27.95 %\n",
            "28.22 %\n",
            "28.49 %\n",
            "28.77 %\n",
            "29.04 %\n",
            "29.32 %\n",
            "29.59 %\n",
            "29.86 %\n",
            "30.14 %\n",
            "30.41 %\n",
            "30.68 %\n",
            "30.96 %\n",
            "31.23 %\n",
            "31.51 %\n",
            "31.78 %\n",
            "32.05 %\n",
            "32.33 %\n",
            "32.6 %\n",
            "32.88 %\n",
            "33.15 %\n",
            "33.42 %\n",
            "33.7 %\n",
            "33.97 %\n",
            "34.25 %\n",
            "34.52 %\n",
            "34.79 %\n",
            "35.07 %\n",
            "35.34 %\n",
            "35.62 %\n",
            "35.89 %\n",
            "36.16 %\n",
            "36.44 %\n",
            "36.71 %\n",
            "36.99 %\n",
            "37.26 %\n",
            "37.53 %\n",
            "37.81 %\n",
            "38.08 %\n",
            "38.36 %\n",
            "38.63 %\n",
            "38.9 %\n",
            "39.18 %\n",
            "39.45 %\n",
            "39.73 %\n",
            "40.0 %\n",
            "40.27 %\n",
            "40.55 %\n",
            "40.82 %\n",
            "41.1 %\n",
            "41.37 %\n",
            "41.64 %\n",
            "41.92 %\n",
            "42.19 %\n",
            "42.47 %\n",
            "42.74 %\n",
            "43.01 %\n",
            "43.29 %\n",
            "43.56 %\n",
            "43.84 %\n",
            "44.11 %\n",
            "44.38 %\n",
            "44.66 %\n",
            "44.93 %\n",
            "45.21 %\n",
            "45.48 %\n",
            "45.75 %\n",
            "46.03 %\n",
            "46.3 %\n",
            "46.58 %\n",
            "46.85 %\n",
            "47.12 %\n",
            "47.4 %\n",
            "47.67 %\n",
            "47.95 %\n",
            "48.22 %\n",
            "48.49 %\n",
            "48.77 %\n",
            "49.04 %\n",
            "49.32 %\n",
            "49.59 %\n",
            "49.86 %\n",
            "50.14 %\n",
            "50.41 %\n",
            "50.68 %\n",
            "50.96 %\n",
            "51.23 %\n",
            "51.51 %\n",
            "51.78 %\n",
            "52.05 %\n",
            "52.33 %\n",
            "52.6 %\n",
            "52.88 %\n",
            "53.15 %\n",
            "53.42 %\n",
            "53.7 %\n",
            "53.97 %\n",
            "54.25 %\n",
            "54.52 %\n",
            "54.79 %\n",
            "55.07 %\n",
            "55.34 %\n",
            "55.62 %\n",
            "55.89 %\n",
            "56.16 %\n",
            "56.44 %\n",
            "56.71 %\n",
            "56.99 %\n",
            "57.26 %\n",
            "57.53 %\n",
            "57.81 %\n",
            "58.08 %\n",
            "58.36 %\n",
            "58.63 %\n",
            "58.9 %\n",
            "59.18 %\n",
            "59.45 %\n",
            "59.73 %\n",
            "60.0 %\n",
            "60.27 %\n",
            "60.55 %\n",
            "60.82 %\n",
            "61.1 %\n",
            "61.37 %\n",
            "61.64 %\n",
            "61.92 %\n",
            "62.19 %\n",
            "62.47 %\n",
            "62.74 %\n",
            "63.01 %\n",
            "63.29 %\n",
            "63.56 %\n",
            "63.84 %\n",
            "64.11 %\n",
            "64.38 %\n",
            "64.66 %\n",
            "64.93 %\n",
            "65.21 %\n",
            "65.48 %\n",
            "65.75 %\n",
            "66.03 %\n",
            "66.3 %\n",
            "66.58 %\n",
            "66.85 %\n",
            "67.12 %\n",
            "67.4 %\n",
            "67.67 %\n",
            "67.95 %\n",
            "68.22 %\n",
            "68.49 %\n",
            "68.77 %\n",
            "69.04 %\n",
            "69.32 %\n",
            "69.59 %\n",
            "69.86 %\n",
            "70.14 %\n",
            "70.41 %\n",
            "70.68 %\n",
            "70.96 %\n",
            "71.23 %\n",
            "71.51 %\n",
            "71.78 %\n",
            "72.05 %\n",
            "72.33 %\n",
            "72.6 %\n",
            "72.88 %\n",
            "73.15 %\n",
            "73.42 %\n",
            "73.7 %\n",
            "73.97 %\n",
            "74.25 %\n",
            "74.52 %\n",
            "74.79 %\n",
            "75.07 %\n",
            "75.34 %\n",
            "75.62 %\n",
            "75.89 %\n",
            "76.16 %\n",
            "76.44 %\n",
            "76.71 %\n",
            "76.99 %\n",
            "77.26 %\n",
            "77.53 %\n",
            "77.81 %\n",
            "78.08 %\n",
            "78.36 %\n",
            "78.63 %\n",
            "78.9 %\n",
            "79.18 %\n",
            "79.45 %\n",
            "79.73 %\n",
            "80.0 %\n",
            "80.27 %\n",
            "80.55 %\n",
            "80.82 %\n",
            "81.1 %\n",
            "81.37 %\n",
            "81.64 %\n",
            "81.92 %\n",
            "82.19 %\n",
            "82.47 %\n",
            "82.74 %\n",
            "83.01 %\n",
            "83.29 %\n",
            "83.56 %\n",
            "83.84 %\n",
            "84.11 %\n",
            "84.38 %\n",
            "84.66 %\n",
            "84.93 %\n",
            "85.21 %\n",
            "85.48 %\n",
            "85.75 %\n",
            "86.03 %\n",
            "86.3 %\n",
            "86.58 %\n",
            "86.85 %\n",
            "87.12 %\n",
            "87.4 %\n",
            "87.67 %\n",
            "87.95 %\n",
            "88.22 %\n",
            "88.49 %\n",
            "88.77 %\n",
            "89.04 %\n",
            "89.32 %\n",
            "89.59 %\n",
            "89.86 %\n",
            "90.14 %\n",
            "90.41 %\n",
            "90.68 %\n",
            "90.96 %\n",
            "91.23 %\n",
            "91.51 %\n",
            "91.78 %\n",
            "92.05 %\n",
            "92.33 %\n",
            "92.6 %\n",
            "92.88 %\n",
            "93.15 %\n",
            "93.42 %\n",
            "93.7 %\n",
            "93.97 %\n",
            "94.25 %\n",
            "94.52 %\n",
            "94.79 %\n",
            "95.07 %\n",
            "95.34 %\n",
            "95.62 %\n",
            "95.89 %\n",
            "96.16 %\n",
            "96.44 %\n",
            "96.71 %\n",
            "96.99 %\n",
            "97.26 %\n",
            "97.53 %\n",
            "97.81 %\n",
            "98.08 %\n",
            "98.36 %\n",
            "98.63 %\n",
            "98.9 %\n",
            "99.18 %\n",
            "99.45 %\n",
            "99.73 %\n",
            "100.0 %\n"
          ]
        }
      ]
    },
    {
      "cell_type": "code",
      "source": [],
      "metadata": {
        "id": "RXAtDiJarNSV"
      },
      "execution_count": null,
      "outputs": []
    }
  ]
}