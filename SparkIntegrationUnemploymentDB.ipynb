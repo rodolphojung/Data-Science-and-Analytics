{
  "nbformat": 4,
  "nbformat_minor": 0,
  "metadata": {
    "colab": {
      "provenance": [],
      "authorship_tag": "ABX9TyN9exPJtlD96Eo4NHVlCHaY",
      "include_colab_link": true
    },
    "kernelspec": {
      "name": "python3",
      "display_name": "Python 3"
    },
    "language_info": {
      "name": "python"
    }
  },
  "cells": [
    {
      "cell_type": "markdown",
      "metadata": {
        "id": "view-in-github",
        "colab_type": "text"
      },
      "source": [
        "<a href=\"https://colab.research.google.com/github/rodolphojung/Data-Science-and-Analytics/blob/main/SparkIntegrationUnemploymentDB.ipynb\" target=\"_parent\"><img src=\"https://colab.research.google.com/assets/colab-badge.svg\" alt=\"Open In Colab\"/></a>"
      ]
    },
    {
      "cell_type": "markdown",
      "source": [
        "Spark Installation"
      ],
      "metadata": {
        "id": "2PtYN2kI4u6o"
      }
    },
    {
      "cell_type": "code",
      "execution_count": 1,
      "metadata": {
        "id": "opAIWtN14tqJ"
      },
      "outputs": [],
      "source": [
        "%%capture\n",
        "!wget -q https://archive.apache.org/dist/spark/spark-3.0.0/spark-3.0.0-bin-hadoop2.7.tgz\n",
        "!tar xf spark-3.0.0-bin-hadoop2.7.tgz && rm spark-3.0.0-bin-hadoop2.7.tgz"
      ]
    },
    {
      "cell_type": "markdown",
      "source": [
        "Download and Installation of Java version 8"
      ],
      "metadata": {
        "id": "PVFoUazx5byV"
      }
    },
    {
      "cell_type": "code",
      "source": [
        "%%capture\n",
        "!apt-get remove openjdk*\n",
        "!apt-get update --fix-missing\n",
        "!apt-get install openjdk-8-jdk-headless -qq > /dev/null"
      ],
      "metadata": {
        "id": "pzrVFqVw5bHs"
      },
      "execution_count": 2,
      "outputs": []
    },
    {
      "cell_type": "markdown",
      "source": [
        "Installing Pythons API for spark, pyspark"
      ],
      "metadata": {
        "id": "qgOa66BM5s9j"
      }
    },
    {
      "cell_type": "code",
      "source": [
        "!pip install -q pyspark==3.0.0"
      ],
      "metadata": {
        "colab": {
          "base_uri": "https://localhost:8080/"
        },
        "id": "YcHzjFSj40wP",
        "outputId": "75fcd9a9-438a-48bf-86a9-5c827be7bb9c"
      },
      "execution_count": 3,
      "outputs": [
        {
          "output_type": "stream",
          "name": "stdout",
          "text": [
            "\u001b[2K     \u001b[90m━━━━━━━━━━━━━━━━━━━━━━━━━━━━━━━━━━━━━━━\u001b[0m \u001b[32m204.7/204.7 MB\u001b[0m \u001b[31m5.8 MB/s\u001b[0m eta \u001b[36m0:00:00\u001b[0m\n",
            "\u001b[?25h  Preparing metadata (setup.py) ... \u001b[?25l\u001b[?25hdone\n",
            "\u001b[2K     \u001b[90m━━━━━━━━━━━━━━━━━━━━━━━━━━━━━━━━━━━━━━\u001b[0m \u001b[32m198.6/198.6 KB\u001b[0m \u001b[31m21.5 MB/s\u001b[0m eta \u001b[36m0:00:00\u001b[0m\n",
            "\u001b[?25h  Building wheel for pyspark (setup.py) ... \u001b[?25l\u001b[?25hdone\n"
          ]
        }
      ]
    },
    {
      "cell_type": "markdown",
      "source": [
        "Configuration"
      ],
      "metadata": {
        "id": "-UPqbTLb6HOS"
      }
    },
    {
      "cell_type": "code",
      "source": [
        "import os\n",
        "\n",
        "os.environ[\"JAVA_HOME\"] = \"/usr/lib/jvm/java-8-openjdk-amd64\"\n",
        "os.environ[\"SPARK_HOME\"] = \"/content/spark-3.0.0-bin-hadoop2.7\""
      ],
      "metadata": {
        "id": "PjIcSVEW5vJ-"
      },
      "execution_count": 4,
      "outputs": []
    },
    {
      "cell_type": "markdown",
      "source": [
        "Connecting Pyspark and Java"
      ],
      "metadata": {
        "id": "IsG-9_7H6Ppt"
      }
    },
    {
      "cell_type": "code",
      "source": [
        "!pip install -q findspark==1.4.2"
      ],
      "metadata": {
        "id": "SYZk17uj6Mvc"
      },
      "execution_count": 5,
      "outputs": []
    },
    {
      "cell_type": "code",
      "source": [
        "import findspark\n",
        "\n",
        "findspark.init()"
      ],
      "metadata": {
        "id": "cUHxTq5e6U6s"
      },
      "execution_count": 6,
      "outputs": []
    },
    {
      "cell_type": "code",
      "source": [
        "from pyspark.sql import SparkSession\n",
        "\n",
        "spark = SparkSession.builder.master(\"local[*]\").appName(\"pyspark-notebook\").getOrCreate()"
      ],
      "metadata": {
        "id": "A9CfWgI_6b2b"
      },
      "execution_count": 7,
      "outputs": []
    },
    {
      "cell_type": "markdown",
      "source": [
        "Loading the Data"
      ],
      "metadata": {
        "id": "DiGLyWu69M_N"
      }
    },
    {
      "cell_type": "code",
      "source": [
        "!wget -q \"https://raw.githubusercontent.com/cluster-apps-on-docker/spark-standalone-cluster-on-docker/master/build/workspace/data/uk-macroeconomic-data.csv\" -O \"uk-macroeconomic-data.csv\""
      ],
      "metadata": {
        "id": "gQfM8ocu6ecz"
      },
      "execution_count": 8,
      "outputs": []
    },
    {
      "cell_type": "code",
      "source": [
        "df = spark.read.csv(path = 'uk-macroeconomic-data.csv', sep = ',', header = True)"
      ],
      "metadata": {
        "id": "yFOYzSE29IAK"
      },
      "execution_count": 10,
      "outputs": []
    },
    {
      "cell_type": "code",
      "source": [
        "df.show()"
      ],
      "metadata": {
        "colab": {
          "base_uri": "https://localhost:8080/"
        },
        "id": "6ZEovg4r9b2x",
        "outputId": "d3f4de99-d38f-455d-9abb-6ca5109b0d72"
      },
      "execution_count": 11,
      "outputs": [
        {
          "output_type": "stream",
          "name": "stdout",
          "text": [
            "+-----------+------------------------------------+-----------------------------------+-------------------------------------------------------------------------------------------+-----------------------------------------------------------------------------------------+------------------------------------------------------------------------------+----------------------------------------------------------------------------------------+-------------------------------------------------------------------------------------+-----------------------------------------------------------------------------------+--------------------+--------------------+--------------------------+-------------------------------------------------+--------------------+--------------------+---------------------------------------+-------------------------------+---------------------------------+------------------+--------------------+----------+-----------------+---------------------------+-------------------------------+----------+--------------------+---------------------+-------------------------------------------+-----------------------------+-------------+-------------+--------------+------------+--------------------+--------------------+------------------------+----------------------+------------------------------+------------+--------------------+------------------------------------------+------------------------------------------+--------------------+-----------------------------------+---------------------+--------------------+--------------------+----------------------+--------------------+--------------------+--------------------+-------------+--------------+-----------------------------+-------------------------------+-----------------------------------------------+-----------------------------+-------------+-------------+-------------+---------------------------------------+-----------------------------------------+----------------------------+------------------------------+-----------------------------------------+-------------------------------------------+---------------------+-----------------------+-----------------------+-----------------------------+-------------------------------+-------------+--------------------+----------------+--------------------+----------------------------------------------------------------------+------------------------------------------------------------------------+\n",
            "|Description|Real GDP of England at market prices|Real GDP of England at factor cost |Real UK GDP at market prices, geographically-consistent estimate based on post-1922 borders|Real UK GDP at factor cost, geographically-consistent estimate based on post-1922 borders|Index of real UK GDP at factor cost - based on changing political boundaries, |Composite estimate of English and (geographically-consistent) UK real GDP at factor cost|HP-filter of log of real composite estimate of English and UK real GDP at factor cost|Real UK gross disposable national income at market prices, constant border estimate|    Real consumption|     Real investment|Stockbuilding contribution|Real government consumption of goods and services|      Export volumes|      Import volumes|Nominal GDP of England at market prices|Nominal UK GDP at market prices|Nominal UK GDP at market prices.1|Population (GB+NI)|Population (England)|Employment|Unemployment rate|Average weekly hours worked|Capital Services, whole economy|TFP growth| Labour productivity|Labour productivity.1|Labour share, whole economy excluding rents|GDP deflator at market prices|Export prices|Import prices|Terms of Trade|$ Oil prices|   Earnings per head|Consumer price index|Consumer price inflation|Real consumption wages|Wholesale/producer price index|   Bank Rate|         Bank Rate.1|10 year/medium-term government bond yields|Consols / long-term government bond yields|      Mortgage rates|Corporate borrowing rate from banks|Corporate bond yields|        Share prices|   $/£ exchange rate|Real $/£ exchange rate|         Nominal ERI|            Real ERI|   House price index|      Credit |Secured credit|Bank of England Balance sheet|Bank of England Balance sheet.1|Coin in circulation outside the Bank of England|Notes and coin in circulation|Monetary base|           M1| Broad Money |Public sector Total Managed Expenditure|Public sector Total Managed Expenditure.1|Public Sector Total Receipts|Public Sector Total Receipts.1|Public Sector Net Lending(+)/Borrowing(-)|Public Sector Net Lending(+)/Borrowing(-).1|UK Public sector debt|UK Public sector debt.1|UK Public sector debt.2|Central Government Gross Debt|Central Government Gross Debt.1|Trade deficit|     Trade deficit.1|Current account |  Current account .1|Current account deficit including estimated non-monetary bullion flows|Current account deficit including estimated non-monetary bullion flows.1|\n",
            "+-----------+------------------------------------+-----------------------------------+-------------------------------------------------------------------------------------------+-----------------------------------------------------------------------------------------+------------------------------------------------------------------------------+----------------------------------------------------------------------------------------+-------------------------------------------------------------------------------------+-----------------------------------------------------------------------------------+--------------------+--------------------+--------------------------+-------------------------------------------------+--------------------+--------------------+---------------------------------------+-------------------------------+---------------------------------+------------------+--------------------+----------+-----------------+---------------------------+-------------------------------+----------+--------------------+---------------------+-------------------------------------------+-----------------------------+-------------+-------------+--------------+------------+--------------------+--------------------+------------------------+----------------------+------------------------------+------------+--------------------+------------------------------------------+------------------------------------------+--------------------+-----------------------------------+---------------------+--------------------+--------------------+----------------------+--------------------+--------------------+--------------------+-------------+--------------+-----------------------------+-------------------------------+-----------------------------------------------+-----------------------------+-------------+-------------+-------------+---------------------------------------+-----------------------------------------+----------------------------+------------------------------+-----------------------------------------+-------------------------------------------+---------------------+-----------------------+-----------------------+-----------------------------+-------------------------------+-------------+--------------------+----------------+--------------------+----------------------------------------------------------------------+------------------------------------------------------------------------+\n",
            "|      Units|                £mn, Chained Volu...|               £mn, Chained Volu...|                                                                       £mn, Chained Volu...|                                                                     £mn, Chained Volu...|                                                          GB before 1801, G...|                                                                                2013=100|                                                                 approx. % differe...|                                                               £mn, Chained Volu...|£mn, Chained Volu...|£mn, Chained Volu...|      pp contribution t...|                             £mn, Chained Volu...|£mn, Chained Volu...|£mn, Chained Volu...|                                    £mn|                            £mn|                              £mn|              000s|                000s|      000s|                %|                      hours|               £mn, 2013 prices|         %|Real GDP per head...| Real GDP per hour...|                       share of GDP excl...|                     2013=100|     2013=100|     2013=100|      2013=100|$ per barrel|Average weekly ea...|            2015=100|                       %|              1900=100|                      2010=100|% end period|%, calendar year ...|                      %, calendar year ...|                      %, calendar year ...|%, calendar year ...|               %, calendar year ...| %, calendar year ...|April 1962=100, Y...|Calendar year ave...|  Calendar year ave...|Calendar year ave...|Calendar year ave...|Calendar year ave...|Year end, £mn| Year end, £mn|             % of nominal GDP|               % of nominal GDP|                                  Year end, £mn|                Year end, £mn|Year end, £mn|Year end, £mn|Year end, £mn|                   Calendar year tot...|                     as a % of nominal...|        Calendar year tot...|          as a % of nominal...|                     Calendar year tot...|                       as a % of nominal...| Calendar Year end...|   as a % of nominal...|   as a % of nominal...|         Financial year en...|           Financial year en...|          £mn|as a % of nominal...|             £mn|as a % of nominal...|                                                                   £mn|                                                    as a % of nominal...|\n",
            "|       1209|                                null|                               null|                                                                                       null|                                                                                     null|                                                                          null|                                                                                    null|                                                                                 null|                                                                               null|                null|                null|                      null|                                             null|                null|                null|                                   null|                           null|                             null|              null|                3626|      null|             null|                       null|                           null|      null|                null|                 null|                                       null|                         null|         null|         null|          null|        null|               0.034|                0.08|                    null|                 51.79|                          null|        null|                null|                                      null|                                      null|                null|                               null|                 null|                null|                null|                  null|                null|                null|                null|         null|          null|                         null|                           null|                                           null|                         null|         null|         null|         null|                                   null|                                     null|                        null|                          null|                                     null|                                       null|                 null|                   null|                   null|                         null|                           null|         null|                null|            null|                null|                                                                  null|                                                                    null|\n",
            "|       1210|                                null|                               null|                                                                                       null|                                                                                     null|                                                                          null|                                                                                    null|                                                                                 null|                                                                               null|                null|                null|                      null|                                             null|                null|                null|                                   null|                           null|                             null|              null|                3656|      null|             null|                       null|                           null|      null|                null|                 null|                                       null|                         null|         null|         null|          null|        null|               0.030|                0.08|                    2.58|                 44.65|                          null|        null|                null|                                      null|                                      null|                null|                               null|                 null|                null|                null|                  null|                null|                null|                null|         null|          null|                         null|                           null|                                           null|                         null|         null|         null|         null|                                   null|                                     null|                        null|                          null|                                     null|                                       null|                 null|                   null|                   null|                         null|                           null|         null|                null|            null|                null|                                                                  null|                                                                    null|\n",
            "|       1211|                                null|                               null|                                                                                       null|                                                                                     null|                                                                          null|                                                                                    null|                                                                                 null|                                                                               null|                null|                null|                      null|                                             null|                null|                null|                                   null|                           null|                             null|              null|                3686|      null|             null|                       null|                           null|      null|                null|                 null|                                       null|                         null|         null|         null|          null|        null|               0.026|                0.09|                   12.22|                 34.86|                          null|        null|                null|                                      null|                                      null|                null|                               null|                 null|                null|                null|                  null|                null|                null|                null|         null|          null|                         null|                           null|                                           null|                         null|         null|         null|         null|                                   null|                                     null|                        null|                          null|                                     null|                                       null|                 null|                   null|                   null|                         null|                           null|         null|                null|            null|                null|                                                                  null|                                                                    null|\n",
            "|       1212|                                null|                               null|                                                                                       null|                                                                                     null|                                                                          null|                                                                                    null|                                                                                 null|                                                                               null|                null|                null|                      null|                                             null|                null|                null|                                   null|                           null|                             null|              null|                3717|      null|             null|                       null|                           null|      null|                null|                 null|                                       null|                         null|         null|         null|          null|        null|               0.033|                0.08|                  -12.32|                 49.35|                          null|        null|                null|                                      null|                                      null|                null|                               null|                 null|                null|                null|                  null|                null|                null|                null|         null|          null|                         null|                           null|                                           null|                         null|         null|         null|         null|                                   null|                                     null|                        null|                          null|                                     null|                                       null|                 null|                   null|                   null|                         null|                           null|         null|                null|            null|                null|                                                                  null|                                                                    null|\n",
            "|       1213|                                null|                               null|                                                                                       null|                                                                                     null|                                                                          null|                                                                                    null|                                                                                 null|                                                                               null|                null|                null|                      null|                                             null|                null|                null|                                   null|                           null|                             null|              null|                3747|      null|             null|                       null|                           null|      null|                null|                 null|                                       null|                         null|         null|         null|          null|        null|               0.037|                0.08|                   -3.37|                 57.28|                          null|        null|                null|                                      null|                                      null|                null|                               null|                 null|                null|                null|                  null|                null|                null|                null|         null|          null|                         null|                           null|                                           null|                         null|         null|         null|         null|                                   null|                                     null|                        null|                          null|                                     null|                                       null|                 null|                   null|                   null|                         null|                           null|         null|                null|            null|                null|                                                                  null|                                                                    null|\n",
            "|       1214|                                null|                               null|                                                                                       null|                                                                                     null|                                                                          null|                                                                                    null|                                                                                 null|                                                                               null|                null|                null|                      null|                                             null|                null|                null|                                   null|                           null|                             null|              null|                3778|      null|             null|                       null|                           null|      null|                null|                 null|                                       null|                         null|         null|         null|          null|        null|               0.041|                0.08|                   -3.37|                 66.49|                          null|        null|                null|                                      null|                                      null|                null|                               null|                 null|                null|                null|                  null|                null|                null|                null|         null|          null|                         null|                           null|                                           null|                         null|         null|         null|         null|                                   null|                                     null|                        null|                          null|                                     null|                                       null|                 null|                   null|                   null|                         null|                           null|         null|                null|            null|                null|                                                                  null|                                                                    null|\n",
            "|       1215|                                null|                               null|                                                                                       null|                                                                                     null|                                                                          null|                                                                                    null|                                                                                 null|                                                                               null|                null|                null|                      null|                                             null|                null|                null|                                   null|                           null|                             null|              null|                3810|      null|             null|                       null|                           null|      null|                null|                 null|                                       null|                         null|         null|         null|          null|        null|               0.038|                0.08|                    6.34|                 57.33|                          null|        null|                null|                                      null|                                      null|                null|                               null|                 null|                null|                null|                  null|                null|                null|                null|         null|          null|                         null|                           null|                                           null|                         null|         null|         null|         null|                                   null|                                     null|                        null|                          null|                                     null|                                       null|                 null|                   null|                   null|                         null|                           null|         null|                null|            null|                null|                                                                  null|                                                                    null|\n",
            "|       1216|                                null|                               null|                                                                                       null|                                                                                     null|                                                                          null|                                                                                    null|                                                                                 null|                                                                               null|                null|                null|                      null|                                             null|                null|                null|                                   null|                           null|                             null|              null|                3841|      null|             null|                       null|                           null|      null|                null|                 null|                                       null|                         null|         null|         null|          null|        null|               0.035|                0.09|                    6.34|                 49.44|                          null|        null|                null|                                      null|                                      null|                null|                               null|                 null|                null|                null|                  null|                null|                null|                null|         null|          null|                         null|                           null|                                           null|                         null|         null|         null|         null|                                   null|                                     null|                        null|                          null|                                     null|                                       null|                 null|                   null|                   null|                         null|                           null|         null|                null|            null|                null|                                                                  null|                                                                    null|\n",
            "|       1217|                                null|                               null|                                                                                       null|                                                                                     null|                                                                          null|                                                                                    null|                                                                                 null|                                                                               null|                null|                null|                      null|                                             null|                null|                null|                                   null|                           null|                             null|              null|                3873|      null|             null|                       null|                           null|      null|                null|                 null|                                       null|                         null|         null|         null|          null|        null|               0.034|                0.10|                   15.78|                 41.18|                          null|        null|                null|                                      null|                                      null|                null|                               null|                 null|                null|                null|                  null|                null|                null|                null|         null|          null|                         null|                           null|                                           null|                         null|         null|         null|         null|                                   null|                                     null|                        null|                          null|                                     null|                                       null|                 null|                   null|                   null|                         null|                           null|         null|                null|            null|                null|                                                                  null|                                                                    null|\n",
            "|       1218|                                null|                               null|                                                                                       null|                                                                                     null|                                                                          null|                                                                                    null|                                                                                 null|                                                                               null|                null|                null|                      null|                                             null|                null|                null|                                   null|                           null|                             null|              null|                3905|      null|             null|                       null|                           null|      null|                null|                 null|                                       null|                         null|         null|         null|          null|        null|               0.029|                0.12|                   16.62|                 30.69|                          null|        null|                null|                                      null|                                      null|                null|                               null|                 null|                null|                null|                  null|                null|                null|                null|         null|          null|                         null|                           null|                                           null|                         null|         null|         null|         null|                                   null|                                     null|                        null|                          null|                                     null|                                       null|                 null|                   null|                   null|                         null|                           null|         null|                null|            null|                null|                                                                  null|                                                                    null|\n",
            "|       1219|                                null|                               null|                                                                                       null|                                                                                     null|                                                                          null|                                                                                    null|                                                                                 null|                                                                               null|                null|                null|                      null|                                             null|                null|                null|                                   null|                           null|                             null|              null|                3937|      null|             null|                       null|                           null|      null|                null|                 null|                                       null|                         null|         null|         null|          null|        null|               0.036|                0.11|                   -3.13|                 39.33|                          null|        null|                null|                                      null|                                      null|                null|                               null|                 null|                null|                null|                  null|                null|                null|                null|         null|          null|                         null|                           null|                                           null|                         null|         null|         null|         null|                                   null|                                     null|                        null|                          null|                                     null|                                       null|                 null|                   null|                   null|                         null|                           null|         null|                null|            null|                null|                                                                  null|                                                                    null|\n",
            "|       1220|                                null|                               null|                                                                                       null|                                                                                     null|                                                                          null|                                                                                    null|                                                                                 null|                                                                               null|                null|                null|                      null|                                             null|                null|                null|                                   null|                           null|                             null|              null|                3970|      null|             null|                       null|                           null|      null|                null|                 null|                                       null|                         null|         null|         null|          null|        null|               0.029|                0.10|                  -12.67|                 36.28|                          null|        null|                null|                                      null|                                      null|                null|                               null|                 null|                null|                null|                  null|                null|                null|                null|         null|          null|                         null|                           null|                                           null|                         null|         null|         null|         null|                                   null|                                     null|                        null|                          null|                                     null|                                       null|                 null|                   null|                   null|                         null|                           null|         null|                null|            null|                null|                                                                  null|                                                                    null|\n",
            "|       1221|                                null|                               null|                                                                                       null|                                                                                     null|                                                                          null|                                                                                    null|                                                                                 null|                                                                               null|                null|                null|                      null|                                             null|                null|                null|                                   null|                           null|                             null|              null|                3978|      null|             null|                       null|                           null|      null|                null|                 null|                                       null|                         null|         null|         null|          null|        null|               0.030|                0.11|                   11.96|                 33.73|                          null|        null|                null|                                      null|                                      null|                null|                               null|                 null|                null|                null|                  null|                null|                null|                null|         null|          null|                         null|                           null|                                           null|                         null|         null|         null|         null|                                   null|                                     null|                        null|                          null|                                     null|                                       null|                 null|                   null|                   null|                         null|                           null|         null|                null|            null|                null|                                                                  null|                                                                    null|\n",
            "|       1222|                                null|                               null|                                                                                       null|                                                                                     null|                                                                          null|                                                                                    null|                                                                                 null|                                                                               null|                null|                null|                      null|                                             null|                null|                null|                                   null|                           null|                             null|              null|                3987|      null|             null|                       null|                           null|      null|                null|                 null|                                       null|                         null|         null|         null|          null|        null|               0.033|                0.09|                  -15.56|                 43.05|                          null|        null|                null|                                      null|                                      null|                null|                               null|                 null|                null|                null|                  null|                null|                null|                null|         null|          null|                         null|                           null|                                           null|                         null|         null|         null|         null|                                   null|                                     null|                        null|                          null|                                     null|                                       null|                 null|                   null|                   null|                         null|                           null|         null|                null|            null|                null|                                                                  null|                                                                    null|\n",
            "|       1223|                                null|                               null|                                                                                       null|                                                                                     null|                                                                          null|                                                                                    null|                                                                                 null|                                                                               null|                null|                null|                      null|                                             null|                null|                null|                                   null|                           null|                             null|              null|                3995|      null|             null|                       null|                           null|      null|                null|                 null|                                       null|                         null|         null|         null|          null|        null|               0.035|                0.08|                  -15.56|                 54.95|                          null|        null|                null|                                      null|                                      null|                null|                               null|                 null|                null|                null|                  null|                null|                null|                null|         null|          null|                         null|                           null|                                           null|                         null|         null|         null|         null|                                   null|                                     null|                        null|                          null|                                     null|                                       null|                 null|                   null|                   null|                         null|                           null|         null|                null|            null|                null|                                                                  null|                                                                    null|\n",
            "|       1224|                                null|                               null|                                                                                       null|                                                                                     null|                                                                          null|                                                                                    null|                                                                                 null|                                                                               null|                null|                null|                      null|                                             null|                null|                null|                                   null|                           null|                             null|              null|                4004|      null|             null|                       null|                           null|      null|                null|                 null|                                       null|                         null|         null|         null|          null|        null|               0.036|                0.09|                   10.33|                 50.33|                          null|        null|                null|                                      null|                                      null|                null|                               null|                 null|                null|                null|                  null|                null|                null|                null|         null|          null|                         null|                           null|                                           null|                         null|         null|         null|         null|                                   null|                                     null|                        null|                          null|                                     null|                                       null|                 null|                   null|                   null|                         null|                           null|         null|                null|            null|                null|                                                                  null|                                                                    null|\n",
            "|       1225|                                null|                               null|                                                                                       null|                                                                                     null|                                                                          null|                                                                                    null|                                                                                 null|                                                                               null|                null|                null|                      null|                                             null|                null|                null|                                   null|                           null|                             null|              null|                4012|      null|             null|                       null|                           null|      null|                null|                 null|                                       null|                         null|         null|         null|          null|        null|               0.032|                0.13|                   49.66|                 30.29|                          null|        null|                null|                                      null|                                      null|                null|                               null|                 null|                null|                null|                  null|                null|                null|                null|         null|          null|                         null|                           null|                                           null|                         null|         null|         null|         null|                                   null|                                     null|                        null|                          null|                                     null|                                       null|                 null|                   null|                   null|                         null|                           null|         null|                null|            null|                null|                                                                  null|                                                                    null|\n",
            "|       1226|                                null|                               null|                                                                                       null|                                                                                     null|                                                                          null|                                                                                    null|                                                                                 null|                                                                               null|                null|                null|                      null|                                             null|                null|                null|                                   null|                           null|                             null|              null|                4021|      null|             null|                       null|                           null|      null|                null|                 null|                                       null|                         null|         null|         null|          null|        null|               0.032|                0.12|                   -9.56|                 33.48|                          null|        null|                null|                                      null|                                      null|                null|                               null|                 null|                null|                null|                  null|                null|                null|                null|         null|          null|                         null|                           null|                                           null|                         null|         null|         null|         null|                                   null|                                     null|                        null|                          null|                                     null|                                       null|                 null|                   null|                   null|                         null|                           null|         null|                null|            null|                null|                                                                  null|                                                                    null|\n",
            "|       1227|                                null|                               null|                                                                                       null|                                                                                     null|                                                                          null|                                                                                    null|                                                                                 null|                                                                               null|                null|                null|                      null|                                             null|                null|                null|                                   null|                           null|                             null|              null|                4029|      null|             null|                       null|                           null|      null|                null|                 null|                                       null|                         null|         null|         null|          null|        null|               0.029|                0.12|                    0.01|                 29.86|                          null|        null|                null|                                      null|                                      null|                null|                               null|                 null|                null|                null|                  null|                null|                null|                null|         null|          null|                         null|                           null|                                           null|                         null|         null|         null|         null|                                   null|                                     null|                        null|                          null|                                     null|                                       null|                 null|                   null|                   null|                         null|                           null|         null|                null|            null|                null|                                                                  null|                                                                    null|\n",
            "+-----------+------------------------------------+-----------------------------------+-------------------------------------------------------------------------------------------+-----------------------------------------------------------------------------------------+------------------------------------------------------------------------------+----------------------------------------------------------------------------------------+-------------------------------------------------------------------------------------+-----------------------------------------------------------------------------------+--------------------+--------------------+--------------------------+-------------------------------------------------+--------------------+--------------------+---------------------------------------+-------------------------------+---------------------------------+------------------+--------------------+----------+-----------------+---------------------------+-------------------------------+----------+--------------------+---------------------+-------------------------------------------+-----------------------------+-------------+-------------+--------------+------------+--------------------+--------------------+------------------------+----------------------+------------------------------+------------+--------------------+------------------------------------------+------------------------------------------+--------------------+-----------------------------------+---------------------+--------------------+--------------------+----------------------+--------------------+--------------------+--------------------+-------------+--------------+-----------------------------+-------------------------------+-----------------------------------------------+-----------------------------+-------------+-------------+-------------+---------------------------------------+-----------------------------------------+----------------------------+------------------------------+-----------------------------------------+-------------------------------------------+---------------------+-----------------------+-----------------------+-----------------------------+-------------------------------+-------------+--------------------+----------------+--------------------+----------------------------------------------------------------------+------------------------------------------------------------------------+\n",
            "only showing top 20 rows\n",
            "\n"
          ]
        }
      ]
    },
    {
      "cell_type": "markdown",
      "source": [
        "More information about the columns"
      ],
      "metadata": {
        "id": "RtmqAf0g-VDT"
      }
    },
    {
      "cell_type": "code",
      "source": [
        "df.printSchema()"
      ],
      "metadata": {
        "colab": {
          "base_uri": "https://localhost:8080/"
        },
        "id": "Ufr2zrFl9qU4",
        "outputId": "df8baea7-e661-49bc-a011-d2be92e283f1"
      },
      "execution_count": 12,
      "outputs": [
        {
          "output_type": "stream",
          "name": "stdout",
          "text": [
            "root\n",
            " |-- Description: string (nullable = true)\n",
            " |-- Real GDP of England at market prices: string (nullable = true)\n",
            " |-- Real GDP of England at factor cost : string (nullable = true)\n",
            " |-- Real UK GDP at market prices, geographically-consistent estimate based on post-1922 borders: string (nullable = true)\n",
            " |-- Real UK GDP at factor cost, geographically-consistent estimate based on post-1922 borders: string (nullable = true)\n",
            " |-- Index of real UK GDP at factor cost - based on changing political boundaries, : string (nullable = true)\n",
            " |-- Composite estimate of English and (geographically-consistent) UK real GDP at factor cost: string (nullable = true)\n",
            " |-- HP-filter of log of real composite estimate of English and UK real GDP at factor cost: string (nullable = true)\n",
            " |-- Real UK gross disposable national income at market prices, constant border estimate: string (nullable = true)\n",
            " |-- Real consumption: string (nullable = true)\n",
            " |-- Real investment: string (nullable = true)\n",
            " |-- Stockbuilding contribution: string (nullable = true)\n",
            " |-- Real government consumption of goods and services: string (nullable = true)\n",
            " |-- Export volumes: string (nullable = true)\n",
            " |-- Import volumes: string (nullable = true)\n",
            " |-- Nominal GDP of England at market prices: string (nullable = true)\n",
            " |-- Nominal UK GDP at market prices: string (nullable = true)\n",
            " |-- Nominal UK GDP at market prices.1: string (nullable = true)\n",
            " |-- Population (GB+NI): string (nullable = true)\n",
            " |-- Population (England): string (nullable = true)\n",
            " |-- Employment: string (nullable = true)\n",
            " |-- Unemployment rate: string (nullable = true)\n",
            " |-- Average weekly hours worked: string (nullable = true)\n",
            " |-- Capital Services, whole economy: string (nullable = true)\n",
            " |-- TFP growth: string (nullable = true)\n",
            " |-- Labour productivity: string (nullable = true)\n",
            " |-- Labour productivity.1: string (nullable = true)\n",
            " |-- Labour share, whole economy excluding rents: string (nullable = true)\n",
            " |-- GDP deflator at market prices: string (nullable = true)\n",
            " |-- Export prices: string (nullable = true)\n",
            " |-- Import prices: string (nullable = true)\n",
            " |-- Terms of Trade: string (nullable = true)\n",
            " |-- $ Oil prices: string (nullable = true)\n",
            " |-- Earnings per head: string (nullable = true)\n",
            " |-- Consumer price index: string (nullable = true)\n",
            " |-- Consumer price inflation: string (nullable = true)\n",
            " |-- Real consumption wages: string (nullable = true)\n",
            " |-- Wholesale/producer price index: string (nullable = true)\n",
            " |-- Bank Rate: string (nullable = true)\n",
            " |-- Bank Rate.1: string (nullable = true)\n",
            " |-- 10 year/medium-term government bond yields: string (nullable = true)\n",
            " |-- Consols / long-term government bond yields: string (nullable = true)\n",
            " |-- Mortgage rates: string (nullable = true)\n",
            " |-- Corporate borrowing rate from banks: string (nullable = true)\n",
            " |-- Corporate bond yields: string (nullable = true)\n",
            " |-- Share prices: string (nullable = true)\n",
            " |-- $/£ exchange rate: string (nullable = true)\n",
            " |-- Real $/£ exchange rate: string (nullable = true)\n",
            " |-- Nominal ERI: string (nullable = true)\n",
            " |-- Real ERI: string (nullable = true)\n",
            " |-- House price index: string (nullable = true)\n",
            " |-- Credit : string (nullable = true)\n",
            " |-- Secured credit: string (nullable = true)\n",
            " |-- Bank of England Balance sheet: string (nullable = true)\n",
            " |-- Bank of England Balance sheet.1: string (nullable = true)\n",
            " |-- Coin in circulation outside the Bank of England: string (nullable = true)\n",
            " |-- Notes and coin in circulation: string (nullable = true)\n",
            " |-- Monetary base: string (nullable = true)\n",
            " |-- M1: string (nullable = true)\n",
            " |-- Broad Money : string (nullable = true)\n",
            " |-- Public sector Total Managed Expenditure: string (nullable = true)\n",
            " |-- Public sector Total Managed Expenditure.1: string (nullable = true)\n",
            " |-- Public Sector Total Receipts: string (nullable = true)\n",
            " |-- Public Sector Total Receipts.1: string (nullable = true)\n",
            " |-- Public Sector Net Lending(+)/Borrowing(-): string (nullable = true)\n",
            " |-- Public Sector Net Lending(+)/Borrowing(-).1: string (nullable = true)\n",
            " |-- UK Public sector debt: string (nullable = true)\n",
            " |-- UK Public sector debt.1: string (nullable = true)\n",
            " |-- UK Public sector debt.2: string (nullable = true)\n",
            " |-- Central Government Gross Debt: string (nullable = true)\n",
            " |-- Central Government Gross Debt.1: string (nullable = true)\n",
            " |-- Trade deficit: string (nullable = true)\n",
            " |-- Trade deficit.1: string (nullable = true)\n",
            " |-- Current account : string (nullable = true)\n",
            " |-- Current account .1: string (nullable = true)\n",
            " |-- Current account deficit including estimated non-monetary bullion flows: string (nullable = true)\n",
            " |-- Current account deficit including estimated non-monetary bullion flows.1: string (nullable = true)\n",
            "\n"
          ]
        }
      ]
    },
    {
      "cell_type": "markdown",
      "source": [
        "Number of Lines in the df"
      ],
      "metadata": {
        "id": "yvhVrm-9_a6b"
      }
    },
    {
      "cell_type": "code",
      "source": [
        "df.count()"
      ],
      "metadata": {
        "colab": {
          "base_uri": "https://localhost:8080/"
        },
        "id": "1w0Xda0I-aV4",
        "outputId": "74c51172-0af8-4b0d-8d4c-2b33d66e8dc5"
      },
      "execution_count": 16,
      "outputs": [
        {
          "output_type": "execute_result",
          "data": {
            "text/plain": [
              "841"
            ]
          },
          "metadata": {},
          "execution_count": 16
        }
      ]
    },
    {
      "cell_type": "markdown",
      "source": [
        "Number of columns in the df"
      ],
      "metadata": {
        "id": "mKfGvNlr_dHA"
      }
    },
    {
      "cell_type": "code",
      "source": [
        "len(df.columns)"
      ],
      "metadata": {
        "colab": {
          "base_uri": "https://localhost:8080/"
        },
        "id": "llj76NGh_XcO",
        "outputId": "13502039-b048-4a59-8690-a5c22ce7afdc"
      },
      "execution_count": 17,
      "outputs": [
        {
          "output_type": "execute_result",
          "data": {
            "text/plain": [
              "77"
            ]
          },
          "metadata": {},
          "execution_count": 17
        }
      ]
    },
    {
      "cell_type": "markdown",
      "source": [
        "Now, we start cleaning the data"
      ],
      "metadata": {
        "id": "aF6wyrjHF2uU"
      }
    },
    {
      "cell_type": "code",
      "source": [
        "df = df.select(['Description', 'Population (GB+NI)', 'Unemployment rate'])"
      ],
      "metadata": {
        "id": "SbXU9NE0_oQV"
      },
      "execution_count": 19,
      "outputs": []
    },
    {
      "cell_type": "code",
      "source": [
        "df = df.\\\n",
        "  withColumnRenamed(\"Description\", \"year\").\\\n",
        "  withColumnRenamed('Population (GB+NI)', 'population').\\\n",
        "  withColumnRenamed('Unemployment rate', 'unemployment_rate')"
      ],
      "metadata": {
        "id": "2p7_DdgoGJyF"
      },
      "execution_count": 23,
      "outputs": []
    },
    {
      "cell_type": "code",
      "source": [
        "df.show()"
      ],
      "metadata": {
        "colab": {
          "base_uri": "https://localhost:8080/"
        },
        "id": "OwbWsmc4ISBA",
        "outputId": "4d16f14c-2257-4af6-e8bc-4aa3481a9321"
      },
      "execution_count": 24,
      "outputs": [
        {
          "output_type": "stream",
          "name": "stdout",
          "text": [
            "+-----+----------+-----------------+\n",
            "| year|population|unemployment_rate|\n",
            "+-----+----------+-----------------+\n",
            "|Units|      000s|                %|\n",
            "| 1209|      null|             null|\n",
            "| 1210|      null|             null|\n",
            "| 1211|      null|             null|\n",
            "| 1212|      null|             null|\n",
            "| 1213|      null|             null|\n",
            "| 1214|      null|             null|\n",
            "| 1215|      null|             null|\n",
            "| 1216|      null|             null|\n",
            "| 1217|      null|             null|\n",
            "| 1218|      null|             null|\n",
            "| 1219|      null|             null|\n",
            "| 1220|      null|             null|\n",
            "| 1221|      null|             null|\n",
            "| 1222|      null|             null|\n",
            "| 1223|      null|             null|\n",
            "| 1224|      null|             null|\n",
            "| 1225|      null|             null|\n",
            "| 1226|      null|             null|\n",
            "| 1227|      null|             null|\n",
            "+-----+----------+-----------------+\n",
            "only showing top 20 rows\n",
            "\n"
          ]
        }
      ]
    },
    {
      "cell_type": "markdown",
      "source": [
        "We see that the first line is a description of the units, and can get in the way of our analysis, we need to treat that"
      ],
      "metadata": {
        "id": "MtkZxqcxIdmV"
      }
    },
    {
      "cell_type": "markdown",
      "source": [
        "To copy the row in evidence, we use the filter method"
      ],
      "metadata": {
        "id": "rDsMPzQSI2Dj"
      }
    },
    {
      "cell_type": "code",
      "source": [
        "df_description = df.filter(df['year'] == 'Units')"
      ],
      "metadata": {
        "id": "aOYDKNzVITRp"
      },
      "execution_count": 25,
      "outputs": []
    },
    {
      "cell_type": "code",
      "source": [
        "df_description.show(n=10)"
      ],
      "metadata": {
        "colab": {
          "base_uri": "https://localhost:8080/"
        },
        "id": "2_9sWNM5JBe4",
        "outputId": "4c80ec40-7998-4b33-b4ab-a9b3215a8942"
      },
      "execution_count": 27,
      "outputs": [
        {
          "output_type": "stream",
          "name": "stdout",
          "text": [
            "+-----+----------+-----------------+\n",
            "| year|population|unemployment_rate|\n",
            "+-----+----------+-----------------+\n",
            "|Units|      000s|                %|\n",
            "+-----+----------+-----------------+\n",
            "\n"
          ]
        }
      ]
    },
    {
      "cell_type": "code",
      "source": [
        "from pyspark.sql.functions import broadcast"
      ],
      "metadata": {
        "id": "bAS8BIVgJFSp"
      },
      "execution_count": 28,
      "outputs": []
    },
    {
      "cell_type": "markdown",
      "source": [
        "How we remove the first line from the df:\n",
        "\n",
        "* We perform a left join, excluding what the 2 dfs have in common, which is the line in df_description "
      ],
      "metadata": {
        "id": "1imziaV4KIMq"
      }
    },
    {
      "cell_type": "code",
      "source": [
        "df = df.join(other = broadcast(df_description), on = ['year'], how = 'left_anti')"
      ],
      "metadata": {
        "id": "XMdT6N28J2lQ"
      },
      "execution_count": 29,
      "outputs": []
    },
    {
      "cell_type": "code",
      "source": [
        "df.show(n=10)"
      ],
      "metadata": {
        "colab": {
          "base_uri": "https://localhost:8080/"
        },
        "id": "czWbtKzsKDCv",
        "outputId": "9fc10971-c92d-4455-d4ac-cbbf5292f1a6"
      },
      "execution_count": 30,
      "outputs": [
        {
          "output_type": "stream",
          "name": "stdout",
          "text": [
            "+----+----------+-----------------+\n",
            "|year|population|unemployment_rate|\n",
            "+----+----------+-----------------+\n",
            "|1209|      null|             null|\n",
            "|1210|      null|             null|\n",
            "|1211|      null|             null|\n",
            "|1212|      null|             null|\n",
            "|1213|      null|             null|\n",
            "|1214|      null|             null|\n",
            "|1215|      null|             null|\n",
            "|1216|      null|             null|\n",
            "|1217|      null|             null|\n",
            "|1218|      null|             null|\n",
            "+----+----------+-----------------+\n",
            "only showing top 10 rows\n",
            "\n"
          ]
        }
      ]
    },
    {
      "cell_type": "markdown",
      "source": [
        "Removing all rows with missing values"
      ],
      "metadata": {
        "id": "LeVWMKUUKcGQ"
      }
    },
    {
      "cell_type": "code",
      "source": [
        "df = df.dropna()"
      ],
      "metadata": {
        "id": "_TLVuNOgKGBv"
      },
      "execution_count": 31,
      "outputs": []
    },
    {
      "cell_type": "code",
      "source": [
        "df.show(n=10)"
      ],
      "metadata": {
        "colab": {
          "base_uri": "https://localhost:8080/"
        },
        "id": "URlWBHZpKgMg",
        "outputId": "75309545-f899-4896-d0c9-07b4d698a284"
      },
      "execution_count": 32,
      "outputs": [
        {
          "output_type": "stream",
          "name": "stdout",
          "text": [
            "+----+----------+-----------------+\n",
            "|year|population|unemployment_rate|\n",
            "+----+----------+-----------------+\n",
            "|1855|     23241|             3.73|\n",
            "|1856|     23466|             3.52|\n",
            "|1857|     23689|             3.95|\n",
            "|1858|     23914|             5.23|\n",
            "|1859|     24138|             3.27|\n",
            "|1860|     24360|             2.94|\n",
            "|1861|     24585|             3.72|\n",
            "|1862|     24862|             4.68|\n",
            "|1863|     25142|             4.15|\n",
            "|1864|     25425|             2.99|\n",
            "+----+----------+-----------------+\n",
            "only showing top 10 rows\n",
            "\n"
          ]
        }
      ]
    },
    {
      "cell_type": "markdown",
      "source": [
        "Creating new columns with the withcolumn method"
      ],
      "metadata": {
        "id": "tbCduZG7Ktl7"
      }
    },
    {
      "cell_type": "code",
      "source": [
        "df = df.withColumn('century', 1 + (df['year']/100).cast('int'))"
      ],
      "metadata": {
        "id": "FtbYfVp_Kn83"
      },
      "execution_count": 33,
      "outputs": []
    },
    {
      "cell_type": "markdown",
      "source": [
        "We perform some aggregations to check if the century calculation makes sense"
      ],
      "metadata": {
        "id": "4SZA7qO2L5aD"
      }
    },
    {
      "cell_type": "code",
      "source": [
        "df.select(['century','year']).groupBy('century').agg({'year':'count'}).show()"
      ],
      "metadata": {
        "colab": {
          "base_uri": "https://localhost:8080/"
        },
        "id": "AOKuUk7NLF50",
        "outputId": "92169e99-dbe2-45a6-cfd0-3aaaecec839f"
      },
      "execution_count": 34,
      "outputs": [
        {
          "output_type": "stream",
          "name": "stdout",
          "text": [
            "+-------+-----------+\n",
            "|century|count(year)|\n",
            "+-------+-----------+\n",
            "|     20|        100|\n",
            "|     19|         45|\n",
            "|     21|         17|\n",
            "+-------+-----------+\n",
            "\n"
          ]
        }
      ]
    },
    {
      "cell_type": "markdown",
      "source": [
        "We see that:\n",
        "* The 20th century has 100 years, the information is correct\n",
        "* The 19th century has 45 years, the information is also correct, because after the cleaning of missing values, the year count starts from 1855\n",
        "* the 21st Century has 17 years, thats as long as the df goes."
      ],
      "metadata": {
        "id": "vUCiQym1L4Yj"
      }
    },
    {
      "cell_type": "markdown",
      "source": [
        "Now, writing the data"
      ],
      "metadata": {
        "id": "6WhpMt-QMg0R"
      }
    },
    {
      "cell_type": "code",
      "source": [
        "df.repartition('century').write.csv(path = 'uk-macroeconomics-data-clean', sep = ',', header = True, mode = \"overwrite\")"
      ],
      "metadata": {
        "id": "PXQBEsvhLbvG"
      },
      "execution_count": 36,
      "outputs": []
    },
    {
      "cell_type": "code",
      "source": [],
      "metadata": {
        "id": "tUoolu4JM12q"
      },
      "execution_count": null,
      "outputs": []
    }
  ]
}